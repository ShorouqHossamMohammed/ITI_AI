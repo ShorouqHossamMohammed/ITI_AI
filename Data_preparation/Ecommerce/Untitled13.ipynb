{
  "nbformat": 4,
  "nbformat_minor": 0,
  "metadata": {
    "colab": {
      "provenance": []
    },
    "kernelspec": {
      "name": "python3",
      "display_name": "Python 3"
    },
    "language_info": {
      "name": "python"
    }
  },
  "cells": [
    {
      "cell_type": "code",
      "execution_count": null,
      "metadata": {
        "id": "G6WkMAmJH5xJ"
      },
      "outputs": [],
      "source": [
        "import seaborn as sns\n",
        "import matplotlib.pyplot as plt\n",
        "import pandas as pd"
      ]
    },
    {
      "cell_type": "markdown",
      "source": [
        "# New Section"
      ],
      "metadata": {
        "id": "nZ_A5E4UFHqh"
      }
    },
    {
      "cell_type": "code",
      "source": [
        "df = pd.read_csv(r\"/content/drive/MyDrive/eda_ecommerce.csv\")"
      ],
      "metadata": {
        "id": "B64J5WiSKVaR"
      },
      "execution_count": null,
      "outputs": []
    },
    {
      "cell_type": "code",
      "source": [
        "df.head()"
      ],
      "metadata": {
        "id": "lpUfJjyCLlwc",
        "colab": {
          "base_uri": "https://localhost:8080/",
          "height": 310
        },
        "outputId": "1063e0f1-57bc-470c-aa01-32674a57e45e"
      },
      "execution_count": null,
      "outputs": [
        {
          "output_type": "execute_result",
          "data": {
            "text/plain": [
              "    Invoice ID Branch       City Customer type  Gender  \\\n",
              "0  750-67-8428      A     Yangon        Member  Female   \n",
              "1  226-31-3081      C  Naypyitaw        Normal  Female   \n",
              "2  631-41-3108      A     Yangon        Normal    Male   \n",
              "3  123-19-1176      A     Yangon        Member    Male   \n",
              "4  373-73-7910      A     Yangon        Normal    Male   \n",
              "\n",
              "             Product line  Unit price  Quantity  Tax 5%   Total       Date  \\\n",
              "0       Health and beauty       74.69       7.0   26.14  548.97   1/5/2019   \n",
              "1  Electronic accessories       15.28       5.0    3.82   80.22   3/8/2019   \n",
              "2      Home and lifestyle       46.33       7.0   16.22  340.53   3/3/2019   \n",
              "3       Health and beauty       58.22       8.0   23.29  489.05  1/27/2019   \n",
              "4       Sports and travel       86.31       7.0   30.21  634.38   2/8/2019   \n",
              "\n",
              "    Time      Payment    cogs  gross margin percentage  gross income  Rating  \n",
              "0  13:08      Ewallet  522.83                 4.761905         26.14     9.1  \n",
              "1  10:29         Cash   76.40                 4.761905          3.82     9.6  \n",
              "2  13:23  Credit card  324.31                 4.761905         16.22     7.4  \n",
              "3  20:33      Ewallet  465.76                 4.761905         23.29     8.4  \n",
              "4  10:37      Ewallet  604.17                 4.761905         30.21     5.3  "
            ],
            "text/html": [
              "\n",
              "  <div id=\"df-42a56a2e-e3af-4a7f-b61f-a8311a48de51\" class=\"colab-df-container\">\n",
              "    <div>\n",
              "<style scoped>\n",
              "    .dataframe tbody tr th:only-of-type {\n",
              "        vertical-align: middle;\n",
              "    }\n",
              "\n",
              "    .dataframe tbody tr th {\n",
              "        vertical-align: top;\n",
              "    }\n",
              "\n",
              "    .dataframe thead th {\n",
              "        text-align: right;\n",
              "    }\n",
              "</style>\n",
              "<table border=\"1\" class=\"dataframe\">\n",
              "  <thead>\n",
              "    <tr style=\"text-align: right;\">\n",
              "      <th></th>\n",
              "      <th>Invoice ID</th>\n",
              "      <th>Branch</th>\n",
              "      <th>City</th>\n",
              "      <th>Customer type</th>\n",
              "      <th>Gender</th>\n",
              "      <th>Product line</th>\n",
              "      <th>Unit price</th>\n",
              "      <th>Quantity</th>\n",
              "      <th>Tax 5%</th>\n",
              "      <th>Total</th>\n",
              "      <th>Date</th>\n",
              "      <th>Time</th>\n",
              "      <th>Payment</th>\n",
              "      <th>cogs</th>\n",
              "      <th>gross margin percentage</th>\n",
              "      <th>gross income</th>\n",
              "      <th>Rating</th>\n",
              "    </tr>\n",
              "  </thead>\n",
              "  <tbody>\n",
              "    <tr>\n",
              "      <th>0</th>\n",
              "      <td>750-67-8428</td>\n",
              "      <td>A</td>\n",
              "      <td>Yangon</td>\n",
              "      <td>Member</td>\n",
              "      <td>Female</td>\n",
              "      <td>Health and beauty</td>\n",
              "      <td>74.69</td>\n",
              "      <td>7.0</td>\n",
              "      <td>26.14</td>\n",
              "      <td>548.97</td>\n",
              "      <td>1/5/2019</td>\n",
              "      <td>13:08</td>\n",
              "      <td>Ewallet</td>\n",
              "      <td>522.83</td>\n",
              "      <td>4.761905</td>\n",
              "      <td>26.14</td>\n",
              "      <td>9.1</td>\n",
              "    </tr>\n",
              "    <tr>\n",
              "      <th>1</th>\n",
              "      <td>226-31-3081</td>\n",
              "      <td>C</td>\n",
              "      <td>Naypyitaw</td>\n",
              "      <td>Normal</td>\n",
              "      <td>Female</td>\n",
              "      <td>Electronic accessories</td>\n",
              "      <td>15.28</td>\n",
              "      <td>5.0</td>\n",
              "      <td>3.82</td>\n",
              "      <td>80.22</td>\n",
              "      <td>3/8/2019</td>\n",
              "      <td>10:29</td>\n",
              "      <td>Cash</td>\n",
              "      <td>76.40</td>\n",
              "      <td>4.761905</td>\n",
              "      <td>3.82</td>\n",
              "      <td>9.6</td>\n",
              "    </tr>\n",
              "    <tr>\n",
              "      <th>2</th>\n",
              "      <td>631-41-3108</td>\n",
              "      <td>A</td>\n",
              "      <td>Yangon</td>\n",
              "      <td>Normal</td>\n",
              "      <td>Male</td>\n",
              "      <td>Home and lifestyle</td>\n",
              "      <td>46.33</td>\n",
              "      <td>7.0</td>\n",
              "      <td>16.22</td>\n",
              "      <td>340.53</td>\n",
              "      <td>3/3/2019</td>\n",
              "      <td>13:23</td>\n",
              "      <td>Credit card</td>\n",
              "      <td>324.31</td>\n",
              "      <td>4.761905</td>\n",
              "      <td>16.22</td>\n",
              "      <td>7.4</td>\n",
              "    </tr>\n",
              "    <tr>\n",
              "      <th>3</th>\n",
              "      <td>123-19-1176</td>\n",
              "      <td>A</td>\n",
              "      <td>Yangon</td>\n",
              "      <td>Member</td>\n",
              "      <td>Male</td>\n",
              "      <td>Health and beauty</td>\n",
              "      <td>58.22</td>\n",
              "      <td>8.0</td>\n",
              "      <td>23.29</td>\n",
              "      <td>489.05</td>\n",
              "      <td>1/27/2019</td>\n",
              "      <td>20:33</td>\n",
              "      <td>Ewallet</td>\n",
              "      <td>465.76</td>\n",
              "      <td>4.761905</td>\n",
              "      <td>23.29</td>\n",
              "      <td>8.4</td>\n",
              "    </tr>\n",
              "    <tr>\n",
              "      <th>4</th>\n",
              "      <td>373-73-7910</td>\n",
              "      <td>A</td>\n",
              "      <td>Yangon</td>\n",
              "      <td>Normal</td>\n",
              "      <td>Male</td>\n",
              "      <td>Sports and travel</td>\n",
              "      <td>86.31</td>\n",
              "      <td>7.0</td>\n",
              "      <td>30.21</td>\n",
              "      <td>634.38</td>\n",
              "      <td>2/8/2019</td>\n",
              "      <td>10:37</td>\n",
              "      <td>Ewallet</td>\n",
              "      <td>604.17</td>\n",
              "      <td>4.761905</td>\n",
              "      <td>30.21</td>\n",
              "      <td>5.3</td>\n",
              "    </tr>\n",
              "  </tbody>\n",
              "</table>\n",
              "</div>\n",
              "    <div class=\"colab-df-buttons\">\n",
              "\n",
              "  <div class=\"colab-df-container\">\n",
              "    <button class=\"colab-df-convert\" onclick=\"convertToInteractive('df-42a56a2e-e3af-4a7f-b61f-a8311a48de51')\"\n",
              "            title=\"Convert this dataframe to an interactive table.\"\n",
              "            style=\"display:none;\">\n",
              "\n",
              "  <svg xmlns=\"http://www.w3.org/2000/svg\" height=\"24px\" viewBox=\"0 -960 960 960\">\n",
              "    <path d=\"M120-120v-720h720v720H120Zm60-500h600v-160H180v160Zm220 220h160v-160H400v160Zm0 220h160v-160H400v160ZM180-400h160v-160H180v160Zm440 0h160v-160H620v160ZM180-180h160v-160H180v160Zm440 0h160v-160H620v160Z\"/>\n",
              "  </svg>\n",
              "    </button>\n",
              "\n",
              "  <style>\n",
              "    .colab-df-container {\n",
              "      display:flex;\n",
              "      gap: 12px;\n",
              "    }\n",
              "\n",
              "    .colab-df-convert {\n",
              "      background-color: #E8F0FE;\n",
              "      border: none;\n",
              "      border-radius: 50%;\n",
              "      cursor: pointer;\n",
              "      display: none;\n",
              "      fill: #1967D2;\n",
              "      height: 32px;\n",
              "      padding: 0 0 0 0;\n",
              "      width: 32px;\n",
              "    }\n",
              "\n",
              "    .colab-df-convert:hover {\n",
              "      background-color: #E2EBFA;\n",
              "      box-shadow: 0px 1px 2px rgba(60, 64, 67, 0.3), 0px 1px 3px 1px rgba(60, 64, 67, 0.15);\n",
              "      fill: #174EA6;\n",
              "    }\n",
              "\n",
              "    .colab-df-buttons div {\n",
              "      margin-bottom: 4px;\n",
              "    }\n",
              "\n",
              "    [theme=dark] .colab-df-convert {\n",
              "      background-color: #3B4455;\n",
              "      fill: #D2E3FC;\n",
              "    }\n",
              "\n",
              "    [theme=dark] .colab-df-convert:hover {\n",
              "      background-color: #434B5C;\n",
              "      box-shadow: 0px 1px 3px 1px rgba(0, 0, 0, 0.15);\n",
              "      filter: drop-shadow(0px 1px 2px rgba(0, 0, 0, 0.3));\n",
              "      fill: #FFFFFF;\n",
              "    }\n",
              "  </style>\n",
              "\n",
              "    <script>\n",
              "      const buttonEl =\n",
              "        document.querySelector('#df-42a56a2e-e3af-4a7f-b61f-a8311a48de51 button.colab-df-convert');\n",
              "      buttonEl.style.display =\n",
              "        google.colab.kernel.accessAllowed ? 'block' : 'none';\n",
              "\n",
              "      async function convertToInteractive(key) {\n",
              "        const element = document.querySelector('#df-42a56a2e-e3af-4a7f-b61f-a8311a48de51');\n",
              "        const dataTable =\n",
              "          await google.colab.kernel.invokeFunction('convertToInteractive',\n",
              "                                                    [key], {});\n",
              "        if (!dataTable) return;\n",
              "\n",
              "        const docLinkHtml = 'Like what you see? Visit the ' +\n",
              "          '<a target=\"_blank\" href=https://colab.research.google.com/notebooks/data_table.ipynb>data table notebook</a>'\n",
              "          + ' to learn more about interactive tables.';\n",
              "        element.innerHTML = '';\n",
              "        dataTable['output_type'] = 'display_data';\n",
              "        await google.colab.output.renderOutput(dataTable, element);\n",
              "        const docLink = document.createElement('div');\n",
              "        docLink.innerHTML = docLinkHtml;\n",
              "        element.appendChild(docLink);\n",
              "      }\n",
              "    </script>\n",
              "  </div>\n",
              "\n",
              "\n",
              "<div id=\"df-c8d8eed8-123e-419f-8b31-fd2aa759417b\">\n",
              "  <button class=\"colab-df-quickchart\" onclick=\"quickchart('df-c8d8eed8-123e-419f-8b31-fd2aa759417b')\"\n",
              "            title=\"Suggest charts\"\n",
              "            style=\"display:none;\">\n",
              "\n",
              "<svg xmlns=\"http://www.w3.org/2000/svg\" height=\"24px\"viewBox=\"0 0 24 24\"\n",
              "     width=\"24px\">\n",
              "    <g>\n",
              "        <path d=\"M19 3H5c-1.1 0-2 .9-2 2v14c0 1.1.9 2 2 2h14c1.1 0 2-.9 2-2V5c0-1.1-.9-2-2-2zM9 17H7v-7h2v7zm4 0h-2V7h2v10zm4 0h-2v-4h2v4z\"/>\n",
              "    </g>\n",
              "</svg>\n",
              "  </button>\n",
              "\n",
              "<style>\n",
              "  .colab-df-quickchart {\n",
              "      --bg-color: #E8F0FE;\n",
              "      --fill-color: #1967D2;\n",
              "      --hover-bg-color: #E2EBFA;\n",
              "      --hover-fill-color: #174EA6;\n",
              "      --disabled-fill-color: #AAA;\n",
              "      --disabled-bg-color: #DDD;\n",
              "  }\n",
              "\n",
              "  [theme=dark] .colab-df-quickchart {\n",
              "      --bg-color: #3B4455;\n",
              "      --fill-color: #D2E3FC;\n",
              "      --hover-bg-color: #434B5C;\n",
              "      --hover-fill-color: #FFFFFF;\n",
              "      --disabled-bg-color: #3B4455;\n",
              "      --disabled-fill-color: #666;\n",
              "  }\n",
              "\n",
              "  .colab-df-quickchart {\n",
              "    background-color: var(--bg-color);\n",
              "    border: none;\n",
              "    border-radius: 50%;\n",
              "    cursor: pointer;\n",
              "    display: none;\n",
              "    fill: var(--fill-color);\n",
              "    height: 32px;\n",
              "    padding: 0;\n",
              "    width: 32px;\n",
              "  }\n",
              "\n",
              "  .colab-df-quickchart:hover {\n",
              "    background-color: var(--hover-bg-color);\n",
              "    box-shadow: 0 1px 2px rgba(60, 64, 67, 0.3), 0 1px 3px 1px rgba(60, 64, 67, 0.15);\n",
              "    fill: var(--button-hover-fill-color);\n",
              "  }\n",
              "\n",
              "  .colab-df-quickchart-complete:disabled,\n",
              "  .colab-df-quickchart-complete:disabled:hover {\n",
              "    background-color: var(--disabled-bg-color);\n",
              "    fill: var(--disabled-fill-color);\n",
              "    box-shadow: none;\n",
              "  }\n",
              "\n",
              "  .colab-df-spinner {\n",
              "    border: 2px solid var(--fill-color);\n",
              "    border-color: transparent;\n",
              "    border-bottom-color: var(--fill-color);\n",
              "    animation:\n",
              "      spin 1s steps(1) infinite;\n",
              "  }\n",
              "\n",
              "  @keyframes spin {\n",
              "    0% {\n",
              "      border-color: transparent;\n",
              "      border-bottom-color: var(--fill-color);\n",
              "      border-left-color: var(--fill-color);\n",
              "    }\n",
              "    20% {\n",
              "      border-color: transparent;\n",
              "      border-left-color: var(--fill-color);\n",
              "      border-top-color: var(--fill-color);\n",
              "    }\n",
              "    30% {\n",
              "      border-color: transparent;\n",
              "      border-left-color: var(--fill-color);\n",
              "      border-top-color: var(--fill-color);\n",
              "      border-right-color: var(--fill-color);\n",
              "    }\n",
              "    40% {\n",
              "      border-color: transparent;\n",
              "      border-right-color: var(--fill-color);\n",
              "      border-top-color: var(--fill-color);\n",
              "    }\n",
              "    60% {\n",
              "      border-color: transparent;\n",
              "      border-right-color: var(--fill-color);\n",
              "    }\n",
              "    80% {\n",
              "      border-color: transparent;\n",
              "      border-right-color: var(--fill-color);\n",
              "      border-bottom-color: var(--fill-color);\n",
              "    }\n",
              "    90% {\n",
              "      border-color: transparent;\n",
              "      border-bottom-color: var(--fill-color);\n",
              "    }\n",
              "  }\n",
              "</style>\n",
              "\n",
              "  <script>\n",
              "    async function quickchart(key) {\n",
              "      const quickchartButtonEl =\n",
              "        document.querySelector('#' + key + ' button');\n",
              "      quickchartButtonEl.disabled = true;  // To prevent multiple clicks.\n",
              "      quickchartButtonEl.classList.add('colab-df-spinner');\n",
              "      try {\n",
              "        const charts = await google.colab.kernel.invokeFunction(\n",
              "            'suggestCharts', [key], {});\n",
              "      } catch (error) {\n",
              "        console.error('Error during call to suggestCharts:', error);\n",
              "      }\n",
              "      quickchartButtonEl.classList.remove('colab-df-spinner');\n",
              "      quickchartButtonEl.classList.add('colab-df-quickchart-complete');\n",
              "    }\n",
              "    (() => {\n",
              "      let quickchartButtonEl =\n",
              "        document.querySelector('#df-c8d8eed8-123e-419f-8b31-fd2aa759417b button');\n",
              "      quickchartButtonEl.style.display =\n",
              "        google.colab.kernel.accessAllowed ? 'block' : 'none';\n",
              "    })();\n",
              "  </script>\n",
              "</div>\n",
              "\n",
              "    </div>\n",
              "  </div>\n"
            ]
          },
          "metadata": {},
          "execution_count": 11
        }
      ]
    },
    {
      "cell_type": "code",
      "source": [
        "df.describe()"
      ],
      "metadata": {
        "colab": {
          "base_uri": "https://localhost:8080/",
          "height": 300
        },
        "id": "MMfDHv6RqjA3",
        "outputId": "db65ea21-1374-4986-88ad-4a615a330197"
      },
      "execution_count": null,
      "outputs": [
        {
          "output_type": "execute_result",
          "data": {
            "text/plain": [
              "        Unit price     Quantity       Tax 5%        Total        cogs  \\\n",
              "count  1000.000000  1000.000000  1000.000000  1000.000000  1000.00000   \n",
              "mean     55.672130     5.510000    15.380050   322.967430   307.58738   \n",
              "std      26.494628     2.923431    11.709047   245.885557   234.17651   \n",
              "min      10.080000     1.000000     0.510000    10.680000    10.17000   \n",
              "25%      32.875000     3.000000     5.927500   124.425000   118.49750   \n",
              "50%      55.230000     5.000000    12.090000   253.850000   241.76000   \n",
              "75%      77.935000     8.000000    22.445000   471.350000   448.90500   \n",
              "max      99.960000    10.000000    49.650000  1042.650000   993.00000   \n",
              "\n",
              "       gross margin percentage  gross income      Rating  \n",
              "count              1000.000000   1000.000000  1000.00000  \n",
              "mean                  4.761905     15.380050     6.97270  \n",
              "std                   0.000000     11.709047     1.71858  \n",
              "min                   4.761905      0.510000     4.00000  \n",
              "25%                   4.761905      5.927500     5.50000  \n",
              "50%                   4.761905     12.090000     7.00000  \n",
              "75%                   4.761905     22.445000     8.50000  \n",
              "max                   4.761905     49.650000    10.00000  "
            ],
            "text/html": [
              "\n",
              "  <div id=\"df-94385765-dc18-484e-84c5-5d740fc995fe\" class=\"colab-df-container\">\n",
              "    <div>\n",
              "<style scoped>\n",
              "    .dataframe tbody tr th:only-of-type {\n",
              "        vertical-align: middle;\n",
              "    }\n",
              "\n",
              "    .dataframe tbody tr th {\n",
              "        vertical-align: top;\n",
              "    }\n",
              "\n",
              "    .dataframe thead th {\n",
              "        text-align: right;\n",
              "    }\n",
              "</style>\n",
              "<table border=\"1\" class=\"dataframe\">\n",
              "  <thead>\n",
              "    <tr style=\"text-align: right;\">\n",
              "      <th></th>\n",
              "      <th>Unit price</th>\n",
              "      <th>Quantity</th>\n",
              "      <th>Tax 5%</th>\n",
              "      <th>Total</th>\n",
              "      <th>cogs</th>\n",
              "      <th>gross margin percentage</th>\n",
              "      <th>gross income</th>\n",
              "      <th>Rating</th>\n",
              "    </tr>\n",
              "  </thead>\n",
              "  <tbody>\n",
              "    <tr>\n",
              "      <th>count</th>\n",
              "      <td>1000.000000</td>\n",
              "      <td>1000.000000</td>\n",
              "      <td>1000.000000</td>\n",
              "      <td>1000.000000</td>\n",
              "      <td>1000.00000</td>\n",
              "      <td>1000.000000</td>\n",
              "      <td>1000.000000</td>\n",
              "      <td>1000.00000</td>\n",
              "    </tr>\n",
              "    <tr>\n",
              "      <th>mean</th>\n",
              "      <td>55.672130</td>\n",
              "      <td>5.510000</td>\n",
              "      <td>15.380050</td>\n",
              "      <td>322.967430</td>\n",
              "      <td>307.58738</td>\n",
              "      <td>4.761905</td>\n",
              "      <td>15.380050</td>\n",
              "      <td>6.97270</td>\n",
              "    </tr>\n",
              "    <tr>\n",
              "      <th>std</th>\n",
              "      <td>26.494628</td>\n",
              "      <td>2.923431</td>\n",
              "      <td>11.709047</td>\n",
              "      <td>245.885557</td>\n",
              "      <td>234.17651</td>\n",
              "      <td>0.000000</td>\n",
              "      <td>11.709047</td>\n",
              "      <td>1.71858</td>\n",
              "    </tr>\n",
              "    <tr>\n",
              "      <th>min</th>\n",
              "      <td>10.080000</td>\n",
              "      <td>1.000000</td>\n",
              "      <td>0.510000</td>\n",
              "      <td>10.680000</td>\n",
              "      <td>10.17000</td>\n",
              "      <td>4.761905</td>\n",
              "      <td>0.510000</td>\n",
              "      <td>4.00000</td>\n",
              "    </tr>\n",
              "    <tr>\n",
              "      <th>25%</th>\n",
              "      <td>32.875000</td>\n",
              "      <td>3.000000</td>\n",
              "      <td>5.927500</td>\n",
              "      <td>124.425000</td>\n",
              "      <td>118.49750</td>\n",
              "      <td>4.761905</td>\n",
              "      <td>5.927500</td>\n",
              "      <td>5.50000</td>\n",
              "    </tr>\n",
              "    <tr>\n",
              "      <th>50%</th>\n",
              "      <td>55.230000</td>\n",
              "      <td>5.000000</td>\n",
              "      <td>12.090000</td>\n",
              "      <td>253.850000</td>\n",
              "      <td>241.76000</td>\n",
              "      <td>4.761905</td>\n",
              "      <td>12.090000</td>\n",
              "      <td>7.00000</td>\n",
              "    </tr>\n",
              "    <tr>\n",
              "      <th>75%</th>\n",
              "      <td>77.935000</td>\n",
              "      <td>8.000000</td>\n",
              "      <td>22.445000</td>\n",
              "      <td>471.350000</td>\n",
              "      <td>448.90500</td>\n",
              "      <td>4.761905</td>\n",
              "      <td>22.445000</td>\n",
              "      <td>8.50000</td>\n",
              "    </tr>\n",
              "    <tr>\n",
              "      <th>max</th>\n",
              "      <td>99.960000</td>\n",
              "      <td>10.000000</td>\n",
              "      <td>49.650000</td>\n",
              "      <td>1042.650000</td>\n",
              "      <td>993.00000</td>\n",
              "      <td>4.761905</td>\n",
              "      <td>49.650000</td>\n",
              "      <td>10.00000</td>\n",
              "    </tr>\n",
              "  </tbody>\n",
              "</table>\n",
              "</div>\n",
              "    <div class=\"colab-df-buttons\">\n",
              "\n",
              "  <div class=\"colab-df-container\">\n",
              "    <button class=\"colab-df-convert\" onclick=\"convertToInteractive('df-94385765-dc18-484e-84c5-5d740fc995fe')\"\n",
              "            title=\"Convert this dataframe to an interactive table.\"\n",
              "            style=\"display:none;\">\n",
              "\n",
              "  <svg xmlns=\"http://www.w3.org/2000/svg\" height=\"24px\" viewBox=\"0 -960 960 960\">\n",
              "    <path d=\"M120-120v-720h720v720H120Zm60-500h600v-160H180v160Zm220 220h160v-160H400v160Zm0 220h160v-160H400v160ZM180-400h160v-160H180v160Zm440 0h160v-160H620v160ZM180-180h160v-160H180v160Zm440 0h160v-160H620v160Z\"/>\n",
              "  </svg>\n",
              "    </button>\n",
              "\n",
              "  <style>\n",
              "    .colab-df-container {\n",
              "      display:flex;\n",
              "      gap: 12px;\n",
              "    }\n",
              "\n",
              "    .colab-df-convert {\n",
              "      background-color: #E8F0FE;\n",
              "      border: none;\n",
              "      border-radius: 50%;\n",
              "      cursor: pointer;\n",
              "      display: none;\n",
              "      fill: #1967D2;\n",
              "      height: 32px;\n",
              "      padding: 0 0 0 0;\n",
              "      width: 32px;\n",
              "    }\n",
              "\n",
              "    .colab-df-convert:hover {\n",
              "      background-color: #E2EBFA;\n",
              "      box-shadow: 0px 1px 2px rgba(60, 64, 67, 0.3), 0px 1px 3px 1px rgba(60, 64, 67, 0.15);\n",
              "      fill: #174EA6;\n",
              "    }\n",
              "\n",
              "    .colab-df-buttons div {\n",
              "      margin-bottom: 4px;\n",
              "    }\n",
              "\n",
              "    [theme=dark] .colab-df-convert {\n",
              "      background-color: #3B4455;\n",
              "      fill: #D2E3FC;\n",
              "    }\n",
              "\n",
              "    [theme=dark] .colab-df-convert:hover {\n",
              "      background-color: #434B5C;\n",
              "      box-shadow: 0px 1px 3px 1px rgba(0, 0, 0, 0.15);\n",
              "      filter: drop-shadow(0px 1px 2px rgba(0, 0, 0, 0.3));\n",
              "      fill: #FFFFFF;\n",
              "    }\n",
              "  </style>\n",
              "\n",
              "    <script>\n",
              "      const buttonEl =\n",
              "        document.querySelector('#df-94385765-dc18-484e-84c5-5d740fc995fe button.colab-df-convert');\n",
              "      buttonEl.style.display =\n",
              "        google.colab.kernel.accessAllowed ? 'block' : 'none';\n",
              "\n",
              "      async function convertToInteractive(key) {\n",
              "        const element = document.querySelector('#df-94385765-dc18-484e-84c5-5d740fc995fe');\n",
              "        const dataTable =\n",
              "          await google.colab.kernel.invokeFunction('convertToInteractive',\n",
              "                                                    [key], {});\n",
              "        if (!dataTable) return;\n",
              "\n",
              "        const docLinkHtml = 'Like what you see? Visit the ' +\n",
              "          '<a target=\"_blank\" href=https://colab.research.google.com/notebooks/data_table.ipynb>data table notebook</a>'\n",
              "          + ' to learn more about interactive tables.';\n",
              "        element.innerHTML = '';\n",
              "        dataTable['output_type'] = 'display_data';\n",
              "        await google.colab.output.renderOutput(dataTable, element);\n",
              "        const docLink = document.createElement('div');\n",
              "        docLink.innerHTML = docLinkHtml;\n",
              "        element.appendChild(docLink);\n",
              "      }\n",
              "    </script>\n",
              "  </div>\n",
              "\n",
              "\n",
              "<div id=\"df-e0ff9dca-c037-4f8b-9be7-10e693a6e3f0\">\n",
              "  <button class=\"colab-df-quickchart\" onclick=\"quickchart('df-e0ff9dca-c037-4f8b-9be7-10e693a6e3f0')\"\n",
              "            title=\"Suggest charts\"\n",
              "            style=\"display:none;\">\n",
              "\n",
              "<svg xmlns=\"http://www.w3.org/2000/svg\" height=\"24px\"viewBox=\"0 0 24 24\"\n",
              "     width=\"24px\">\n",
              "    <g>\n",
              "        <path d=\"M19 3H5c-1.1 0-2 .9-2 2v14c0 1.1.9 2 2 2h14c1.1 0 2-.9 2-2V5c0-1.1-.9-2-2-2zM9 17H7v-7h2v7zm4 0h-2V7h2v10zm4 0h-2v-4h2v4z\"/>\n",
              "    </g>\n",
              "</svg>\n",
              "  </button>\n",
              "\n",
              "<style>\n",
              "  .colab-df-quickchart {\n",
              "      --bg-color: #E8F0FE;\n",
              "      --fill-color: #1967D2;\n",
              "      --hover-bg-color: #E2EBFA;\n",
              "      --hover-fill-color: #174EA6;\n",
              "      --disabled-fill-color: #AAA;\n",
              "      --disabled-bg-color: #DDD;\n",
              "  }\n",
              "\n",
              "  [theme=dark] .colab-df-quickchart {\n",
              "      --bg-color: #3B4455;\n",
              "      --fill-color: #D2E3FC;\n",
              "      --hover-bg-color: #434B5C;\n",
              "      --hover-fill-color: #FFFFFF;\n",
              "      --disabled-bg-color: #3B4455;\n",
              "      --disabled-fill-color: #666;\n",
              "  }\n",
              "\n",
              "  .colab-df-quickchart {\n",
              "    background-color: var(--bg-color);\n",
              "    border: none;\n",
              "    border-radius: 50%;\n",
              "    cursor: pointer;\n",
              "    display: none;\n",
              "    fill: var(--fill-color);\n",
              "    height: 32px;\n",
              "    padding: 0;\n",
              "    width: 32px;\n",
              "  }\n",
              "\n",
              "  .colab-df-quickchart:hover {\n",
              "    background-color: var(--hover-bg-color);\n",
              "    box-shadow: 0 1px 2px rgba(60, 64, 67, 0.3), 0 1px 3px 1px rgba(60, 64, 67, 0.15);\n",
              "    fill: var(--button-hover-fill-color);\n",
              "  }\n",
              "\n",
              "  .colab-df-quickchart-complete:disabled,\n",
              "  .colab-df-quickchart-complete:disabled:hover {\n",
              "    background-color: var(--disabled-bg-color);\n",
              "    fill: var(--disabled-fill-color);\n",
              "    box-shadow: none;\n",
              "  }\n",
              "\n",
              "  .colab-df-spinner {\n",
              "    border: 2px solid var(--fill-color);\n",
              "    border-color: transparent;\n",
              "    border-bottom-color: var(--fill-color);\n",
              "    animation:\n",
              "      spin 1s steps(1) infinite;\n",
              "  }\n",
              "\n",
              "  @keyframes spin {\n",
              "    0% {\n",
              "      border-color: transparent;\n",
              "      border-bottom-color: var(--fill-color);\n",
              "      border-left-color: var(--fill-color);\n",
              "    }\n",
              "    20% {\n",
              "      border-color: transparent;\n",
              "      border-left-color: var(--fill-color);\n",
              "      border-top-color: var(--fill-color);\n",
              "    }\n",
              "    30% {\n",
              "      border-color: transparent;\n",
              "      border-left-color: var(--fill-color);\n",
              "      border-top-color: var(--fill-color);\n",
              "      border-right-color: var(--fill-color);\n",
              "    }\n",
              "    40% {\n",
              "      border-color: transparent;\n",
              "      border-right-color: var(--fill-color);\n",
              "      border-top-color: var(--fill-color);\n",
              "    }\n",
              "    60% {\n",
              "      border-color: transparent;\n",
              "      border-right-color: var(--fill-color);\n",
              "    }\n",
              "    80% {\n",
              "      border-color: transparent;\n",
              "      border-right-color: var(--fill-color);\n",
              "      border-bottom-color: var(--fill-color);\n",
              "    }\n",
              "    90% {\n",
              "      border-color: transparent;\n",
              "      border-bottom-color: var(--fill-color);\n",
              "    }\n",
              "  }\n",
              "</style>\n",
              "\n",
              "  <script>\n",
              "    async function quickchart(key) {\n",
              "      const quickchartButtonEl =\n",
              "        document.querySelector('#' + key + ' button');\n",
              "      quickchartButtonEl.disabled = true;  // To prevent multiple clicks.\n",
              "      quickchartButtonEl.classList.add('colab-df-spinner');\n",
              "      try {\n",
              "        const charts = await google.colab.kernel.invokeFunction(\n",
              "            'suggestCharts', [key], {});\n",
              "      } catch (error) {\n",
              "        console.error('Error during call to suggestCharts:', error);\n",
              "      }\n",
              "      quickchartButtonEl.classList.remove('colab-df-spinner');\n",
              "      quickchartButtonEl.classList.add('colab-df-quickchart-complete');\n",
              "    }\n",
              "    (() => {\n",
              "      let quickchartButtonEl =\n",
              "        document.querySelector('#df-e0ff9dca-c037-4f8b-9be7-10e693a6e3f0 button');\n",
              "      quickchartButtonEl.style.display =\n",
              "        google.colab.kernel.accessAllowed ? 'block' : 'none';\n",
              "    })();\n",
              "  </script>\n",
              "</div>\n",
              "\n",
              "    </div>\n",
              "  </div>\n"
            ]
          },
          "metadata": {},
          "execution_count": 12
        }
      ]
    },
    {
      "cell_type": "code",
      "source": [
        "df.info()"
      ],
      "metadata": {
        "colab": {
          "base_uri": "https://localhost:8080/"
        },
        "id": "uaSXLxiMwVNF",
        "outputId": "0565334c-02ee-474b-b5f6-00d35f85ccfa"
      },
      "execution_count": null,
      "outputs": [
        {
          "output_type": "stream",
          "name": "stdout",
          "text": [
            "<class 'pandas.core.frame.DataFrame'>\n",
            "RangeIndex: 1000 entries, 0 to 999\n",
            "Data columns (total 18 columns):\n",
            " #   Column                   Non-Null Count  Dtype  \n",
            "---  ------                   --------------  -----  \n",
            " 0   Invoice ID               1000 non-null   object \n",
            " 1   Branch                   1000 non-null   object \n",
            " 2   City                     1000 non-null   object \n",
            " 3   Customer type            1000 non-null   object \n",
            " 4   Gender                   1000 non-null   object \n",
            " 5   Product line             1000 non-null   object \n",
            " 6   Unit price               1000 non-null   float64\n",
            " 7   Quantity                 1000 non-null   int64  \n",
            " 8   Tax 5%                   1000 non-null   float64\n",
            " 9   Total                    1000 non-null   float64\n",
            " 10  Date                     1000 non-null   object \n",
            " 11  Time                     1000 non-null   object \n",
            " 12  Payment                  1000 non-null   object \n",
            " 13  cogs                     1000 non-null   float64\n",
            " 14  gross margin percentage  1000 non-null   float64\n",
            " 15  gross income             1000 non-null   float64\n",
            " 16  Rating                   1000 non-null   float64\n",
            " 17  new gi                   1000 non-null   float64\n",
            "dtypes: float64(8), int64(1), object(9)\n",
            "memory usage: 140.8+ KB\n"
          ]
        }
      ]
    },
    {
      "cell_type": "code",
      "source": [
        "sns.heatmap(df.corr(), annot=True)"
      ],
      "metadata": {
        "colab": {
          "base_uri": "https://localhost:8080/",
          "height": 668
        },
        "id": "0C3iDrUIe5Ii",
        "outputId": "865a4f80-ab65-4334-998a-34e7b1cde24d"
      },
      "execution_count": null,
      "outputs": [
        {
          "output_type": "stream",
          "name": "stderr",
          "text": [
            "<ipython-input-9-6dc1c4c1753e>:1: FutureWarning: The default value of numeric_only in DataFrame.corr is deprecated. In a future version, it will default to False. Select only valid columns or specify the value of numeric_only to silence this warning.\n",
            "  sns.heatmap(df.corr(), annot=True)\n"
          ]
        },
        {
          "output_type": "execute_result",
          "data": {
            "text/plain": [
              "<Axes: >"
            ]
          },
          "metadata": {},
          "execution_count": 9
        },
        {
          "output_type": "display_data",
          "data": {
            "text/plain": [
              "<Figure size 640x480 with 2 Axes>"
            ],
            "image/png": "[encoded data removed]"
          },
          "metadata": {}
        }
      ]
    },
    {
      "cell_type": "markdown",
      "source": [
        "First we drop unissasery columns like :\n",
        "\n",
        "gross margin percentage.\n",
        "\n",
        "tax is the same as gross incom so we drop gross incom."
      ],
      "metadata": {
        "id": "C-KuqlHYko2r"
      }
    },
    {
      "cell_type": "code",
      "source": [
        "df = df.drop(columns = \"gross margin percentage\")\n",
        "df = df.drop(columns = \"gross income\")"
      ],
      "metadata": {
        "id": "u0rHaXlSlren"
      },
      "execution_count": null,
      "outputs": []
    },
    {
      "cell_type": "code",
      "source": [
        "sns.heatmap(df.corr(), annot=True)"
      ],
      "metadata": {
        "colab": {
          "base_uri": "https://localhost:8080/",
          "height": 561
        },
        "id": "IyRywYOLmX0q",
        "outputId": "794bd5f1-c36c-4f98-d20f-491b39fb089f"
      },
      "execution_count": null,
      "outputs": [
        {
          "output_type": "stream",
          "name": "stderr",
          "text": [
            "<ipython-input-11-6dc1c4c1753e>:1: FutureWarning: The default value of numeric_only in DataFrame.corr is deprecated. In a future version, it will default to False. Select only valid columns or specify the value of numeric_only to silence this warning.\n",
            "  sns.heatmap(df.corr(), annot=True)\n"
          ]
        },
        {
          "output_type": "execute_result",
          "data": {
            "text/plain": [
              "<Axes: >"
            ]
          },
          "metadata": {},
          "execution_count": 11
        },
        {
          "output_type": "display_data",
          "data": {
            "text/plain": [
              "<Figure size 640x480 with 2 Axes>"
            ],
            "image/png": "[encoded data removed]"
          },
          "metadata": {}
        }
      ]
    },
    {
      "cell_type": "markdown",
      "source": [
        "based on the heatmap (\"tax 5%\",\"total\",\"cogs\",\"new ig\",\"Branch\",\"city\") encodes the same information.\n",
        "\n",
        "also \"Invoice ID\" gives no valiabol information.\n",
        "\n",
        "I suggest to drop \"cogs\", \"new ig\" ,\"city\" and \"Invoice ID\""
      ],
      "metadata": {
        "id": "NK53jZyBnIiK"
      }
    },
    {
      "cell_type": "code",
      "source": [
        "#df = df.drop(columns = \"cogs\")\n",
        "#df = df.drop(columns = \"new gi\")\n",
        "#df = df.drop(columns = \"City\")\n",
        "#df = df.drop(columns = \"Invoice ID\")\n",
        "#sns.heatmap(df.corr(), annot=True)"
      ],
      "metadata": {
        "id": "t4LFn9m3oQEm"
      },
      "execution_count": null,
      "outputs": []
    },
    {
      "cell_type": "markdown",
      "source": [
        "### 1.\tWhich Branch has higher sales?"
      ],
      "metadata": {
        "id": "aFqK1tUAsO0I"
      }
    },
    {
      "cell_type": "markdown",
      "source": [
        "I think the best way to answer this question by grouping each branch with its total sum."
      ],
      "metadata": {
        "id": "hFG9V7b8skWJ"
      }
    },
    {
      "cell_type": "code",
      "source": [
        "branch_sales = df.groupby('Branch')['Total'].sum().sort_values()\n",
        "sns.barplot(x=branch_sales.index, y=branch_sales.values)\n",
        "plt.xlabel('Branch')\n",
        "plt.ylabel('Total Sales')\n",
        "plt.title('Total Sales by Branch')\n",
        "plt.show()\n"
      ],
      "metadata": {
        "colab": {
          "base_uri": "https://localhost:8080/",
          "height": 472
        },
        "id": "XhYRmSHmsRo2",
        "outputId": "3e7b681d-925f-499c-866a-1e4fb8767ef6"
      },
      "execution_count": null,
      "outputs": [
        {
          "output_type": "display_data",
          "data": {
            "text/plain": [
              "<Figure size 640x480 with 1 Axes>"
            ],
            "image/png": "[encoded data removed]"
          },
          "metadata": {}
        }
      ]
    },
    {
      "cell_type": "code",
      "source": [
        "branch_sales"
      ],
      "metadata": {
        "colab": {
          "base_uri": "https://localhost:8080/"
        },
        "id": "p9XxrTvTtWWf",
        "outputId": "a9b8acf9-12c6-4715-a6ee-08cb1399ab1e"
      },
      "execution_count": null,
      "outputs": [
        {
          "output_type": "execute_result",
          "data": {
            "text/plain": [
              "Branch\n",
              "B    106197.6720\n",
              "A    106200.3705\n",
              "C    110568.7065\n",
              "Name: Total, dtype: float64"
            ]
          },
          "metadata": {},
          "execution_count": 14
        }
      ]
    },
    {
      "cell_type": "markdown",
      "source": [
        "based on the chart the 3 branches has a very close sales values but branch C has the highest branch sales."
      ],
      "metadata": {
        "id": "4D7mWdKNuH2W"
      }
    },
    {
      "cell_type": "markdown",
      "source": [
        "### 2.\tWhich Branch has higher customer satisfaction?"
      ],
      "metadata": {
        "id": "XyGwvOhlyfxW"
      }
    },
    {
      "cell_type": "markdown",
      "source": [
        "I think the best way to answer such question is by plotting the average rating on each branch."
      ],
      "metadata": {
        "id": "BSRx9RZtzDPB"
      }
    },
    {
      "cell_type": "code",
      "source": [
        "branch_ratings = df.groupby('Branch')['Rating'].mean().sort_values()\n",
        "branch_ratings\n"
      ],
      "metadata": {
        "colab": {
          "base_uri": "https://localhost:8080/"
        },
        "id": "qprGZPEbzbKf",
        "outputId": "13b92e50-6300-4dbc-d35e-cc0e68bc61a8"
      },
      "execution_count": null,
      "outputs": [
        {
          "output_type": "execute_result",
          "data": {
            "text/plain": [
              "Branch\n",
              "B    6.818072\n",
              "A    7.027059\n",
              "C    7.072866\n",
              "Name: Rating, dtype: float64"
            ]
          },
          "metadata": {},
          "execution_count": 15
        }
      ]
    },
    {
      "cell_type": "code",
      "source": [
        "sns.barplot(x=branch_ratings.index, y=branch_ratings.values)\n",
        "plt.xlabel('Branch')\n",
        "plt.ylabel('Average Rating')\n",
        "plt.title('Average Customer Rating by Branch')\n",
        "plt.show()\n"
      ],
      "metadata": {
        "colab": {
          "base_uri": "https://localhost:8080/",
          "height": 472
        },
        "id": "wnAFy6ui0VyZ",
        "outputId": "d6060ce0-6a63-45aa-ba77-ff5ef4a31248"
      },
      "execution_count": null,
      "outputs": [
        {
          "output_type": "display_data",
          "data": {
            "text/plain": [
              "<Figure size 640x480 with 1 Axes>"
            ],
            "image/png": "[encoded data removed]"
          },
          "metadata": {}
        }
      ]
    },
    {
      "cell_type": "markdown",
      "source": [
        "based on df.describe() the over all avrage rating we get is 6.97270.\n",
        "\n",
        " all branches get almost the same avrage rating but C is the highest average rating with 7.072"
      ],
      "metadata": {
        "id": "tMKBV_jb0w3R"
      }
    },
    {
      "cell_type": "markdown",
      "source": [
        "### 3.\tWhich Product line has higher sales in general?"
      ],
      "metadata": {
        "id": "AfsEY4jO4Ju0"
      }
    },
    {
      "cell_type": "markdown",
      "source": [
        "To answer this question I grouped the data by product line and sum the total sales"
      ],
      "metadata": {
        "id": "_bpSqNVY9iPH"
      }
    },
    {
      "cell_type": "code",
      "source": [
        "product_line_sales = df.groupby('Product line')['Total'].sum().sort_values()\n",
        "product_line_sales"
      ],
      "metadata": {
        "id": "rozRitMK0uRw",
        "colab": {
          "base_uri": "https://localhost:8080/"
        },
        "outputId": "564b0965-a374-44e0-cc7c-79bdc1b5ce03"
      },
      "execution_count": null,
      "outputs": [
        {
          "output_type": "execute_result",
          "data": {
            "text/plain": [
              "Product line\n",
              "Health and beauty         49193.7390\n",
              "Home and lifestyle        53861.9130\n",
              "Fashion accessories       54305.8950\n",
              "Electronic accessories    54337.5315\n",
              "Sports and travel         55122.8265\n",
              "Food and beverages        56144.8440\n",
              "Name: Total, dtype: float64"
            ]
          },
          "metadata": {},
          "execution_count": 17
        }
      ]
    },
    {
      "cell_type": "code",
      "source": [
        "sns.barplot(x=product_line_sales.index, y=product_line_sales.values)\n",
        "plt.xlabel('Product Line')\n",
        "plt.ylabel('Total Sales')\n",
        "plt.title('Total Sales by Product Line')\n",
        "plt.xticks(rotation=45)\n",
        "plt.show()"
      ],
      "metadata": {
        "colab": {
          "base_uri": "https://localhost:8080/",
          "height": 576
        },
        "id": "urJ7w2mE679A",
        "outputId": "cc3697cc-ffab-43ec-8d14-c849300123f5"
      },
      "execution_count": null,
      "outputs": [
        {
          "output_type": "display_data",
          "data": {
            "text/plain": [
              "<Figure size 640x480 with 1 Axes>"
            ],
            "image/png": "[encoded data removed]"
          },
          "metadata": {}
        }
      ]
    },
    {
      "cell_type": "markdown",
      "source": [
        "It looks like there is no product line dominates sales. but food came on top."
      ],
      "metadata": {
        "id": "UjbKz5B77wg7"
      }
    },
    {
      "cell_type": "markdown",
      "source": [
        "# New Section2 nada will work here\n"
      ],
      "metadata": {
        "id": "9KOWh4OE2nNc"
      }
    },
    {
      "cell_type": "code",
      "source": [],
      "metadata": {
        "id": "JQpDKhyr2sYZ"
      },
      "execution_count": null,
      "outputs": []
    },
    {
      "cell_type": "markdown",
      "source": [
        "##**shorouq**"
      ],
      "metadata": {
        "id": "v6sAk6LNZb4N"
      }
    },
    {
      "cell_type": "code",
      "source": [
        "from google.colab import drive\n",
        "drive.mount('/content/drive')"
      ],
      "metadata": {
        "colab": {
          "base_uri": "https://localhost:8080/"
        },
        "id": "OiODsXnrbci3",
        "outputId": "a4929492-3be4-40e9-db2b-7da73286d30a"
      },
      "execution_count": null,
      "outputs": [
        {
          "output_type": "stream",
          "name": "stdout",
          "text": [
            "Mounted at /content/drive\n"
          ]
        }
      ]
    },
    {
      "cell_type": "markdown",
      "source": [
        "###**8.\tWhat is the percentage of sales among all Months?**"
      ],
      "metadata": {
        "id": "jCG3qu3ictlx"
      }
    },
    {
      "cell_type": "code",
      "source": [
        "df['Date'] = pd.to_datetime(df['Date'])"
      ],
      "metadata": {
        "id": "HWLoSVVkZhNC",
        "colab": {
          "base_uri": "https://localhost:8080/",
          "height": 175
        },
        "outputId": "d2b5307a-b2a6-4494-8608-2f9e8f46b2c6"
      },
      "execution_count": null,
      "outputs": [
        {
          "output_type": "error",
          "ename": "NameError",
          "evalue": "name 'df' is not defined",
          "traceback": [
            "\u001b[0;31m---------------------------------------------------------------------------\u001b[0m",
            "\u001b[0;31mNameError\u001b[0m                                 Traceback (most recent call last)",
            "\u001b[0;32m<ipython-input-5-b9c6864122be>\u001b[0m in \u001b[0;36m<cell line: 1>\u001b[0;34m()\u001b[0m\n\u001b[0;32m----> 1\u001b[0;31m \u001b[0mdf\u001b[0m\u001b[0;34m[\u001b[0m\u001b[0;34m'Date'\u001b[0m\u001b[0;34m]\u001b[0m \u001b[0;34m=\u001b[0m \u001b[0mpd\u001b[0m\u001b[0;34m.\u001b[0m\u001b[0mto_datetime\u001b[0m\u001b[0;34m(\u001b[0m\u001b[0mdf\u001b[0m\u001b[0;34m[\u001b[0m\u001b[0;34m'Date'\u001b[0m\u001b[0;34m]\u001b[0m\u001b[0;34m)\u001b[0m\u001b[0;34m\u001b[0m\u001b[0;34m\u001b[0m\u001b[0m\n\u001b[0m",
            "\u001b[0;31mNameError\u001b[0m: name 'df' is not defined"
          ]
        }
      ]
    },
    {
      "cell_type": "code",
      "source": [
        "df['Date'].dtype"
      ],
      "metadata": {
        "colab": {
          "base_uri": "https://localhost:8080/"
        },
        "id": "EaBU5yjhZtUZ",
        "outputId": "f3928c5d-e445-45c2-bc94-1bb96e238d8b"
      },
      "execution_count": null,
      "outputs": [
        {
          "output_type": "execute_result",
          "data": {
            "text/plain": [
              "dtype('<M8[ns]')"
            ]
          },
          "metadata": {},
          "execution_count": 21
        }
      ]
    },
    {
      "cell_type": "code",
      "source": [
        "df['Date'].values"
      ],
      "metadata": {
        "colab": {
          "base_uri": "https://localhost:8080/"
        },
        "id": "qejuc3czZtff",
        "outputId": "5b196fc9-a0e4-469e-c01d-9846c428f9c0"
      },
      "execution_count": null,
      "outputs": [
        {
          "output_type": "execute_result",
          "data": {
            "text/plain": [
              "array(['2019-01-05T00:00:00.000000000', '2019-03-08T00:00:00.000000000',\n",
              "       '2019-03-03T00:00:00.000000000', '2019-01-27T00:00:00.000000000',\n",
              "       '2019-02-08T00:00:00.000000000', '2019-03-25T00:00:00.000000000',\n",
              "       '2019-02-25T00:00:00.000000000', '2019-02-24T00:00:00.000000000',\n",
              "       '2019-01-10T00:00:00.000000000', '2019-02-20T00:00:00.000000000',\n",
              "       '2019-02-06T00:00:00.000000000', '2019-03-09T00:00:00.000000000',\n",
              "       '2019-02-12T00:00:00.000000000', '2019-02-07T00:00:00.000000000',\n",
              "       '2019-03-29T00:00:00.000000000', '2019-01-15T00:00:00.000000000',\n",
              "       '2019-03-11T00:00:00.000000000', '2019-01-01T00:00:00.000000000',\n",
              "       '2019-01-21T00:00:00.000000000', '2019-03-11T00:00:00.000000000',\n",
              "       '2019-02-25T00:00:00.000000000', '2019-03-05T00:00:00.000000000',\n",
              "       '2019-03-15T00:00:00.000000000', '2019-02-17T00:00:00.000000000',\n",
              "       '2019-03-02T00:00:00.000000000', '2019-03-22T00:00:00.000000000',\n",
              "       '2019-02-08T00:00:00.000000000', '2019-03-10T00:00:00.000000000',\n",
              "       '2019-01-25T00:00:00.000000000', '2019-03-15T00:00:00.000000000',\n",
              "       '2019-02-25T00:00:00.000000000', '2019-01-28T00:00:00.000000000',\n",
              "       '2019-01-10T00:00:00.000000000', '2019-03-15T00:00:00.000000000',\n",
              "       '2019-02-06T00:00:00.000000000', '2019-01-07T00:00:00.000000000',\n",
              "       '2019-03-10T00:00:00.000000000', '2019-01-15T00:00:00.000000000',\n",
              "       '2019-03-23T00:00:00.000000000', '2019-03-03T00:00:00.000000000',\n",
              "       '2019-01-17T00:00:00.000000000', '2019-02-02T00:00:00.000000000',\n",
              "       '2019-02-08T00:00:00.000000000', '2019-03-04T00:00:00.000000000',\n",
              "       '2019-03-16T00:00:00.000000000', '2019-03-09T00:00:00.000000000',\n",
              "       '2019-02-27T00:00:00.000000000', '2019-02-06T00:00:00.000000000',\n",
              "       '2019-02-10T00:00:00.000000000', '2019-03-19T00:00:00.000000000',\n",
              "       '2019-02-03T00:00:00.000000000', '2019-02-10T00:00:00.000000000',\n",
              "       '2019-03-22T00:00:00.000000000', '2019-01-25T00:00:00.000000000',\n",
              "       '2019-03-07T00:00:00.000000000', '2019-02-28T00:00:00.000000000',\n",
              "       '2019-03-27T00:00:00.000000000', '2019-02-07T00:00:00.000000000',\n",
              "       '2019-01-20T00:00:00.000000000', '2019-03-12T00:00:00.000000000',\n",
              "       '2019-02-15T00:00:00.000000000', '2019-02-24T00:00:00.000000000',\n",
              "       '2019-02-03T00:00:00.000000000', '2019-03-06T00:00:00.000000000',\n",
              "       '2019-02-14T00:00:00.000000000', '2019-03-13T00:00:00.000000000',\n",
              "       '2019-02-10T00:00:00.000000000', '2019-01-07T00:00:00.000000000',\n",
              "       '2019-01-24T00:00:00.000000000', '2019-02-02T00:00:00.000000000',\n",
              "       '2019-01-06T00:00:00.000000000', '2019-02-11T00:00:00.000000000',\n",
              "       '2019-03-05T00:00:00.000000000', '2019-03-09T00:00:00.000000000',\n",
              "       '2019-01-22T00:00:00.000000000', '2019-01-13T00:00:00.000000000',\n",
              "       '2019-01-09T00:00:00.000000000', '2019-01-12T00:00:00.000000000',\n",
              "       '2019-03-05T00:00:00.000000000', '2019-01-22T00:00:00.000000000',\n",
              "       '2019-01-21T00:00:00.000000000', '2019-01-26T00:00:00.000000000',\n",
              "       '2019-01-23T00:00:00.000000000', '2019-02-23T00:00:00.000000000',\n",
              "       '2019-03-09T00:00:00.000000000', '2019-03-05T00:00:00.000000000',\n",
              "       '2019-03-25T00:00:00.000000000', '2019-03-27T00:00:00.000000000',\n",
              "       '2019-01-02T00:00:00.000000000', '2019-02-27T00:00:00.000000000',\n",
              "       '2019-01-23T00:00:00.000000000', '2019-01-26T00:00:00.000000000',\n",
              "       '2019-01-10T00:00:00.000000000', '2019-03-12T00:00:00.000000000',\n",
              "       '2019-02-06T00:00:00.000000000', '2019-03-08T00:00:00.000000000',\n",
              "       '2019-03-29T00:00:00.000000000', '2019-02-09T00:00:00.000000000',\n",
              "       '2019-03-23T00:00:00.000000000', '2019-03-05T00:00:00.000000000',\n",
              "       '2019-03-26T00:00:00.000000000', '2019-03-01T00:00:00.000000000',\n",
              "       '2019-02-01T00:00:00.000000000', '2019-03-28T00:00:00.000000000',\n",
              "       '2019-03-19T00:00:00.000000000', '2019-01-12T00:00:00.000000000',\n",
              "       '2019-01-05T00:00:00.000000000', '2019-03-22T00:00:00.000000000',\n",
              "       '2019-03-24T00:00:00.000000000', '2019-03-03T00:00:00.000000000',\n",
              "       '2019-02-05T00:00:00.000000000', '2019-02-05T00:00:00.000000000',\n",
              "       '2019-02-15T00:00:00.000000000', '2019-01-19T00:00:00.000000000',\n",
              "       '2019-02-01T00:00:00.000000000', '2019-03-02T00:00:00.000000000',\n",
              "       '2019-03-05T00:00:00.000000000', '2019-01-16T00:00:00.000000000',\n",
              "       '2019-02-02T00:00:00.000000000', '2019-01-20T00:00:00.000000000',\n",
              "       '2019-02-14T00:00:00.000000000', '2019-01-12T00:00:00.000000000',\n",
              "       '2019-03-09T00:00:00.000000000', '2019-03-13T00:00:00.000000000',\n",
              "       '2019-03-09T00:00:00.000000000', '2019-03-10T00:00:00.000000000',\n",
              "       '2019-01-27T00:00:00.000000000', '2019-01-08T00:00:00.000000000',\n",
              "       '2019-01-08T00:00:00.000000000', '2019-02-08T00:00:00.000000000',\n",
              "       '2019-01-25T00:00:00.000000000', '2019-03-06T00:00:00.000000000',\n",
              "       '2019-02-10T00:00:00.000000000', '2019-02-17T00:00:00.000000000',\n",
              "       '2019-03-08T00:00:00.000000000', '2019-02-18T00:00:00.000000000',\n",
              "       '2019-01-18T00:00:00.000000000', '2019-02-18T00:00:00.000000000',\n",
              "       '2019-02-16T00:00:00.000000000', '2019-03-16T00:00:00.000000000',\n",
              "       '2019-01-23T00:00:00.000000000', '2019-01-25T00:00:00.000000000',\n",
              "       '2019-02-05T00:00:00.000000000', '2019-02-22T00:00:00.000000000',\n",
              "       '2019-01-21T00:00:00.000000000', '2019-03-08T00:00:00.000000000',\n",
              "       '2019-02-10T00:00:00.000000000', '2019-03-19T00:00:00.000000000',\n",
              "       '2019-03-06T00:00:00.000000000', '2019-03-27T00:00:00.000000000',\n",
              "       '2019-03-23T00:00:00.000000000', '2019-03-11T00:00:00.000000000',\n",
              "       '2019-01-29T00:00:00.000000000', '2019-02-07T00:00:00.000000000',\n",
              "       '2019-01-28T00:00:00.000000000', '2019-02-20T00:00:00.000000000',\n",
              "       '2019-01-04T00:00:00.000000000', '2019-03-07T00:00:00.000000000',\n",
              "       '2019-03-30T00:00:00.000000000', '2019-03-27T00:00:00.000000000',\n",
              "       '2019-01-19T00:00:00.000000000', '2019-02-25T00:00:00.000000000',\n",
              "       '2019-03-13T00:00:00.000000000', '2019-01-30T00:00:00.000000000',\n",
              "       '2019-02-20T00:00:00.000000000', '2019-02-25T00:00:00.000000000',\n",
              "       '2019-01-16T00:00:00.000000000', '2019-02-08T00:00:00.000000000',\n",
              "       '2019-01-19T00:00:00.000000000', '2019-02-01T00:00:00.000000000',\n",
              "       '2019-01-03T00:00:00.000000000', '2019-01-26T00:00:00.000000000',\n",
              "       '2019-03-03T00:00:00.000000000', '2019-01-19T00:00:00.000000000',\n",
              "       '2019-01-18T00:00:00.000000000', '2019-03-21T00:00:00.000000000',\n",
              "       '2019-03-03T00:00:00.000000000', '2019-02-13T00:00:00.000000000',\n",
              "       '2019-03-23T00:00:00.000000000', '2019-01-28T00:00:00.000000000',\n",
              "       '2019-02-09T00:00:00.000000000', '2019-01-23T00:00:00.000000000',\n",
              "       '2019-03-23T00:00:00.000000000', '2019-01-25T00:00:00.000000000',\n",
              "       '2019-03-04T00:00:00.000000000', '2019-03-05T00:00:00.000000000',\n",
              "       '2019-03-03T00:00:00.000000000', '2019-02-08T00:00:00.000000000',\n",
              "       '2019-02-10T00:00:00.000000000', '2019-01-28T00:00:00.000000000',\n",
              "       '2019-02-11T00:00:00.000000000', '2019-01-15T00:00:00.000000000',\n",
              "       '2019-03-16T00:00:00.000000000', '2019-01-26T00:00:00.000000000',\n",
              "       '2019-03-19T00:00:00.000000000', '2019-01-13T00:00:00.000000000',\n",
              "       '2019-03-26T00:00:00.000000000', '2019-03-23T00:00:00.000000000',\n",
              "       '2019-03-12T00:00:00.000000000', '2019-02-17T00:00:00.000000000',\n",
              "       '2019-01-29T00:00:00.000000000', '2019-03-15T00:00:00.000000000',\n",
              "       '2019-01-14T00:00:00.000000000', '2019-02-06T00:00:00.000000000',\n",
              "       '2019-02-15T00:00:00.000000000', '2019-01-03T00:00:00.000000000',\n",
              "       '2019-01-04T00:00:00.000000000', '2019-03-18T00:00:00.000000000',\n",
              "       '2019-03-28T00:00:00.000000000', '2019-03-02T00:00:00.000000000',\n",
              "       '2019-01-25T00:00:00.000000000', '2019-01-16T00:00:00.000000000',\n",
              "       '2019-03-20T00:00:00.000000000', '2019-01-04T00:00:00.000000000',\n",
              "       '2019-03-11T00:00:00.000000000', '2019-03-22T00:00:00.000000000',\n",
              "       '2019-03-24T00:00:00.000000000', '2019-02-21T00:00:00.000000000',\n",
              "       '2019-02-12T00:00:00.000000000', '2019-03-10T00:00:00.000000000',\n",
              "       '2019-01-31T00:00:00.000000000', '2019-03-06T00:00:00.000000000',\n",
              "       '2019-02-17T00:00:00.000000000', '2019-02-21T00:00:00.000000000',\n",
              "       '2019-03-20T00:00:00.000000000', '2019-01-11T00:00:00.000000000',\n",
              "       '2019-01-26T00:00:00.000000000', '2019-01-31T00:00:00.000000000',\n",
              "       '2019-02-26T00:00:00.000000000', '2019-03-11T00:00:00.000000000',\n",
              "       '2019-01-26T00:00:00.000000000', '2019-03-12T00:00:00.000000000',\n",
              "       '2019-02-11T00:00:00.000000000', '2019-02-21T00:00:00.000000000',\n",
              "       '2019-03-09T00:00:00.000000000', '2019-01-20T00:00:00.000000000',\n",
              "       '2019-01-28T00:00:00.000000000', '2019-03-05T00:00:00.000000000',\n",
              "       '2019-03-02T00:00:00.000000000', '2019-01-11T00:00:00.000000000',\n",
              "       '2019-01-11T00:00:00.000000000', '2019-03-11T00:00:00.000000000',\n",
              "       '2019-02-28T00:00:00.000000000', '2019-01-05T00:00:00.000000000',\n",
              "       '2019-02-02T00:00:00.000000000', '2019-01-01T00:00:00.000000000',\n",
              "       '2019-02-09T00:00:00.000000000', '2019-01-23T00:00:00.000000000',\n",
              "       '2019-01-07T00:00:00.000000000', '2019-01-14T00:00:00.000000000',\n",
              "       '2019-02-02T00:00:00.000000000', '2019-03-17T00:00:00.000000000',\n",
              "       '2019-03-02T00:00:00.000000000', '2019-03-16T00:00:00.000000000',\n",
              "       '2019-01-06T00:00:00.000000000', '2019-01-29T00:00:00.000000000',\n",
              "       '2019-01-31T00:00:00.000000000', '2019-02-05T00:00:00.000000000',\n",
              "       '2019-02-13T00:00:00.000000000', '2019-02-07T00:00:00.000000000',\n",
              "       '2019-03-19T00:00:00.000000000', '2019-03-07T00:00:00.000000000',\n",
              "       '2019-03-13T00:00:00.000000000', '2019-02-09T00:00:00.000000000',\n",
              "       '2019-02-26T00:00:00.000000000', '2019-03-12T00:00:00.000000000',\n",
              "       '2019-03-14T00:00:00.000000000', '2019-01-08T00:00:00.000000000',\n",
              "       '2019-01-05T00:00:00.000000000', '2019-01-04T00:00:00.000000000',\n",
              "       '2019-03-06T00:00:00.000000000', '2019-01-03T00:00:00.000000000',\n",
              "       '2019-01-07T00:00:00.000000000', '2019-01-27T00:00:00.000000000',\n",
              "       '2019-02-26T00:00:00.000000000', '2019-01-07T00:00:00.000000000',\n",
              "       '2019-01-07T00:00:00.000000000', '2019-02-02T00:00:00.000000000',\n",
              "       '2019-03-20T00:00:00.000000000', '2019-03-20T00:00:00.000000000',\n",
              "       '2019-02-15T00:00:00.000000000', '2019-03-06T00:00:00.000000000',\n",
              "       '2019-01-06T00:00:00.000000000', '2019-03-04T00:00:00.000000000',\n",
              "       '2019-03-12T00:00:00.000000000', '2019-02-20T00:00:00.000000000',\n",
              "       '2019-03-24T00:00:00.000000000', '2019-01-31T00:00:00.000000000',\n",
              "       '2019-01-25T00:00:00.000000000', '2019-02-03T00:00:00.000000000',\n",
              "       '2019-01-24T00:00:00.000000000', '2019-03-14T00:00:00.000000000',\n",
              "       '2019-02-18T00:00:00.000000000', '2019-01-21T00:00:00.000000000',\n",
              "       '2019-03-13T00:00:00.000000000', '2019-03-03T00:00:00.000000000',\n",
              "       '2019-03-29T00:00:00.000000000', '2019-01-10T00:00:00.000000000',\n",
              "       '2019-01-25T00:00:00.000000000', '2019-01-19T00:00:00.000000000',\n",
              "       '2019-01-02T00:00:00.000000000', '2019-03-12T00:00:00.000000000',\n",
              "       '2019-02-25T00:00:00.000000000', '2019-03-18T00:00:00.000000000',\n",
              "       '2019-02-23T00:00:00.000000000', '2019-03-26T00:00:00.000000000',\n",
              "       '2019-03-30T00:00:00.000000000', '2019-02-17T00:00:00.000000000',\n",
              "       '2019-03-21T00:00:00.000000000', '2019-03-05T00:00:00.000000000',\n",
              "       '2019-01-31T00:00:00.000000000', '2019-02-05T00:00:00.000000000',\n",
              "       '2019-02-01T00:00:00.000000000', '2019-03-07T00:00:00.000000000',\n",
              "       '2019-02-10T00:00:00.000000000', '2019-02-14T00:00:00.000000000',\n",
              "       '2019-02-09T00:00:00.000000000', '2019-01-10T00:00:00.000000000',\n",
              "       '2019-03-11T00:00:00.000000000', '2019-02-18T00:00:00.000000000',\n",
              "       '2019-02-26T00:00:00.000000000', '2019-01-18T00:00:00.000000000',\n",
              "       '2019-02-15T00:00:00.000000000', '2019-03-08T00:00:00.000000000',\n",
              "       '2019-01-17T00:00:00.000000000', '2019-03-12T00:00:00.000000000',\n",
              "       '2019-03-09T00:00:00.000000000', '2019-03-12T00:00:00.000000000',\n",
              "       '2019-01-25T00:00:00.000000000', '2019-03-25T00:00:00.000000000',\n",
              "       '2019-02-07T00:00:00.000000000', '2019-02-17T00:00:00.000000000',\n",
              "       '2019-02-03T00:00:00.000000000', '2019-03-14T00:00:00.000000000',\n",
              "       '2019-03-24T00:00:00.000000000', '2019-03-21T00:00:00.000000000',\n",
              "       '2019-03-19T00:00:00.000000000', '2019-02-24T00:00:00.000000000',\n",
              "       '2019-03-28T00:00:00.000000000', '2019-02-05T00:00:00.000000000',\n",
              "       '2019-02-10T00:00:00.000000000', '2019-03-05T00:00:00.000000000',\n",
              "       '2019-02-15T00:00:00.000000000', '2019-01-30T00:00:00.000000000',\n",
              "       '2019-02-14T00:00:00.000000000', '2019-02-27T00:00:00.000000000',\n",
              "       '2019-02-04T00:00:00.000000000', '2019-01-20T00:00:00.000000000',\n",
              "       '2019-03-28T00:00:00.000000000', '2019-02-27T00:00:00.000000000',\n",
              "       '2019-02-15T00:00:00.000000000', '2019-01-26T00:00:00.000000000',\n",
              "       '2019-03-14T00:00:00.000000000', '2019-03-02T00:00:00.000000000',\n",
              "       '2019-03-04T00:00:00.000000000', '2019-01-07T00:00:00.000000000',\n",
              "       '2019-03-08T00:00:00.000000000', '2019-01-09T00:00:00.000000000',\n",
              "       '2019-03-01T00:00:00.000000000', '2019-03-16T00:00:00.000000000',\n",
              "       '2019-02-17T00:00:00.000000000', '2019-02-27T00:00:00.000000000',\n",
              "       '2019-03-07T00:00:00.000000000', '2019-01-21T00:00:00.000000000',\n",
              "       '2019-02-19T00:00:00.000000000', '2019-01-06T00:00:00.000000000',\n",
              "       '2019-03-14T00:00:00.000000000', '2019-03-24T00:00:00.000000000',\n",
              "       '2019-01-27T00:00:00.000000000', '2019-03-06T00:00:00.000000000',\n",
              "       '2019-02-02T00:00:00.000000000', '2019-01-25T00:00:00.000000000',\n",
              "       '2019-03-14T00:00:00.000000000', '2019-01-29T00:00:00.000000000',\n",
              "       '2019-01-03T00:00:00.000000000', '2019-01-14T00:00:00.000000000',\n",
              "       '2019-01-05T00:00:00.000000000', '2019-02-22T00:00:00.000000000',\n",
              "       '2019-02-06T00:00:00.000000000', '2019-01-30T00:00:00.000000000',\n",
              "       '2019-01-11T00:00:00.000000000', '2019-03-19T00:00:00.000000000',\n",
              "       '2019-01-14T00:00:00.000000000', '2019-03-01T00:00:00.000000000',\n",
              "       '2019-01-06T00:00:00.000000000', '2019-01-31T00:00:00.000000000',\n",
              "       '2019-03-11T00:00:00.000000000', '2019-02-20T00:00:00.000000000',\n",
              "       '2019-01-27T00:00:00.000000000', '2019-03-10T00:00:00.000000000',\n",
              "       '2019-02-15T00:00:00.000000000', '2019-01-26T00:00:00.000000000',\n",
              "       '2019-02-13T00:00:00.000000000', '2019-03-09T00:00:00.000000000',\n",
              "       '2019-03-06T00:00:00.000000000', '2019-01-24T00:00:00.000000000',\n",
              "       '2019-03-13T00:00:00.000000000', '2019-03-15T00:00:00.000000000',\n",
              "       '2019-03-05T00:00:00.000000000', '2019-03-04T00:00:00.000000000',\n",
              "       '2019-03-25T00:00:00.000000000', '2019-03-12T00:00:00.000000000',\n",
              "       '2019-02-04T00:00:00.000000000', '2019-02-22T00:00:00.000000000',\n",
              "       '2019-02-16T00:00:00.000000000', '2019-01-19T00:00:00.000000000',\n",
              "       '2019-01-11T00:00:00.000000000', '2019-01-04T00:00:00.000000000',\n",
              "       '2019-03-04T00:00:00.000000000', '2019-01-28T00:00:00.000000000',\n",
              "       '2019-01-02T00:00:00.000000000', '2019-01-25T00:00:00.000000000',\n",
              "       '2019-01-04T00:00:00.000000000', '2019-03-10T00:00:00.000000000',\n",
              "       '2019-03-22T00:00:00.000000000', '2019-01-25T00:00:00.000000000',\n",
              "       '2019-01-08T00:00:00.000000000', '2019-01-22T00:00:00.000000000',\n",
              "       '2019-01-12T00:00:00.000000000', '2019-02-04T00:00:00.000000000',\n",
              "       '2019-03-28T00:00:00.000000000', '2019-01-23T00:00:00.000000000',\n",
              "       '2019-02-08T00:00:00.000000000', '2019-03-19T00:00:00.000000000',\n",
              "       '2019-03-09T00:00:00.000000000', '2019-01-02T00:00:00.000000000',\n",
              "       '2019-01-21T00:00:00.000000000', '2019-03-20T00:00:00.000000000',\n",
              "       '2019-02-27T00:00:00.000000000', '2019-03-08T00:00:00.000000000',\n",
              "       '2019-01-31T00:00:00.000000000', '2019-03-08T00:00:00.000000000',\n",
              "       '2019-01-13T00:00:00.000000000', '2019-03-09T00:00:00.000000000',\n",
              "       '2019-02-22T00:00:00.000000000', '2019-03-19T00:00:00.000000000',\n",
              "       '2019-01-20T00:00:00.000000000', '2019-03-08T00:00:00.000000000',\n",
              "       '2019-03-08T00:00:00.000000000', '2019-02-07T00:00:00.000000000',\n",
              "       '2019-01-15T00:00:00.000000000', '2019-03-22T00:00:00.000000000',\n",
              "       '2019-01-15T00:00:00.000000000', '2019-01-08T00:00:00.000000000',\n",
              "       '2019-01-15T00:00:00.000000000', '2019-01-28T00:00:00.000000000',\n",
              "       '2019-02-14T00:00:00.000000000', '2019-03-10T00:00:00.000000000',\n",
              "       '2019-01-12T00:00:00.000000000', '2019-03-26T00:00:00.000000000',\n",
              "       '2019-01-01T00:00:00.000000000', '2019-01-02T00:00:00.000000000',\n",
              "       '2019-03-16T00:00:00.000000000', '2019-03-03T00:00:00.000000000',\n",
              "       '2019-01-31T00:00:00.000000000', '2019-02-13T00:00:00.000000000',\n",
              "       '2019-02-15T00:00:00.000000000', '2019-02-07T00:00:00.000000000',\n",
              "       '2019-01-27T00:00:00.000000000', '2019-02-23T00:00:00.000000000',\n",
              "       '2019-02-03T00:00:00.000000000', '2019-03-03T00:00:00.000000000',\n",
              "       '2019-02-03T00:00:00.000000000', '2019-03-17T00:00:00.000000000',\n",
              "       '2019-03-28T00:00:00.000000000', '2019-03-02T00:00:00.000000000',\n",
              "       '2019-02-08T00:00:00.000000000', '2019-03-22T00:00:00.000000000',\n",
              "       '2019-02-09T00:00:00.000000000', '2019-02-15T00:00:00.000000000',\n",
              "       '2019-01-23T00:00:00.000000000', '2019-01-25T00:00:00.000000000',\n",
              "       '2019-02-02T00:00:00.000000000', '2019-03-30T00:00:00.000000000',\n",
              "       '2019-03-30T00:00:00.000000000', '2019-02-25T00:00:00.000000000',\n",
              "       '2019-03-18T00:00:00.000000000', '2019-03-07T00:00:00.000000000',\n",
              "       '2019-03-16T00:00:00.000000000', '2019-01-29T00:00:00.000000000',\n",
              "       '2019-02-02T00:00:00.000000000', '2019-02-15T00:00:00.000000000',\n",
              "       '2019-01-08T00:00:00.000000000', '2019-02-12T00:00:00.000000000',\n",
              "       '2019-01-01T00:00:00.000000000', '2019-03-21T00:00:00.000000000',\n",
              "       '2019-02-28T00:00:00.000000000', '2019-03-23T00:00:00.000000000',\n",
              "       '2019-01-30T00:00:00.000000000', '2019-02-04T00:00:00.000000000',\n",
              "       '2019-03-13T00:00:00.000000000', '2019-03-15T00:00:00.000000000',\n",
              "       '2019-03-05T00:00:00.000000000', '2019-03-05T00:00:00.000000000',\n",
              "       '2019-02-26T00:00:00.000000000', '2019-03-20T00:00:00.000000000',\n",
              "       '2019-01-01T00:00:00.000000000', '2019-01-27T00:00:00.000000000',\n",
              "       '2019-01-21T00:00:00.000000000', '2019-02-02T00:00:00.000000000',\n",
              "       '2019-02-03T00:00:00.000000000', '2019-01-05T00:00:00.000000000',\n",
              "       '2019-01-27T00:00:00.000000000', '2019-03-25T00:00:00.000000000',\n",
              "       '2019-02-25T00:00:00.000000000', '2019-01-28T00:00:00.000000000',\n",
              "       '2019-01-08T00:00:00.000000000', '2019-01-29T00:00:00.000000000',\n",
              "       '2019-03-29T00:00:00.000000000', '2019-02-09T00:00:00.000000000',\n",
              "       '2019-01-16T00:00:00.000000000', '2019-01-05T00:00:00.000000000',\n",
              "       '2019-01-27T00:00:00.000000000', '2019-03-14T00:00:00.000000000',\n",
              "       '2019-02-23T00:00:00.000000000', '2019-03-18T00:00:00.000000000',\n",
              "       '2019-03-29T00:00:00.000000000', '2019-01-22T00:00:00.000000000',\n",
              "       '2019-03-01T00:00:00.000000000', '2019-01-17T00:00:00.000000000',\n",
              "       '2019-03-26T00:00:00.000000000', '2019-03-20T00:00:00.000000000',\n",
              "       '2019-02-06T00:00:00.000000000', '2019-01-01T00:00:00.000000000',\n",
              "       '2019-01-27T00:00:00.000000000', '2019-02-25T00:00:00.000000000',\n",
              "       '2019-01-16T00:00:00.000000000', '2019-01-13T00:00:00.000000000',\n",
              "       '2019-02-07T00:00:00.000000000', '2019-02-17T00:00:00.000000000',\n",
              "       '2019-02-12T00:00:00.000000000', '2019-01-24T00:00:00.000000000',\n",
              "       '2019-02-06T00:00:00.000000000', '2019-03-26T00:00:00.000000000',\n",
              "       '2019-03-11T00:00:00.000000000', '2019-02-07T00:00:00.000000000',\n",
              "       '2019-01-05T00:00:00.000000000', '2019-03-07T00:00:00.000000000',\n",
              "       '2019-02-25T00:00:00.000000000', '2019-02-01T00:00:00.000000000',\n",
              "       '2019-01-22T00:00:00.000000000', '2019-01-03T00:00:00.000000000',\n",
              "       '2019-02-13T00:00:00.000000000', '2019-01-28T00:00:00.000000000',\n",
              "       '2019-01-05T00:00:00.000000000', '2019-03-19T00:00:00.000000000',\n",
              "       '2019-01-12T00:00:00.000000000', '2019-01-07T00:00:00.000000000',\n",
              "       '2019-01-26T00:00:00.000000000', '2019-01-23T00:00:00.000000000',\n",
              "       '2019-02-09T00:00:00.000000000', '2019-02-22T00:00:00.000000000',\n",
              "       '2019-02-05T00:00:00.000000000', '2019-03-07T00:00:00.000000000',\n",
              "       '2019-03-25T00:00:00.000000000', '2019-01-20T00:00:00.000000000',\n",
              "       '2019-02-04T00:00:00.000000000', '2019-01-30T00:00:00.000000000',\n",
              "       '2019-01-02T00:00:00.000000000', '2019-03-29T00:00:00.000000000',\n",
              "       '2019-03-14T00:00:00.000000000', '2019-02-11T00:00:00.000000000',\n",
              "       '2019-01-30T00:00:00.000000000', '2019-03-20T00:00:00.000000000',\n",
              "       '2019-03-20T00:00:00.000000000', '2019-01-17T00:00:00.000000000',\n",
              "       '2019-02-03T00:00:00.000000000', '2019-01-01T00:00:00.000000000',\n",
              "       '2019-01-10T00:00:00.000000000', '2019-03-02T00:00:00.000000000',\n",
              "       '2019-02-25T00:00:00.000000000', '2019-01-29T00:00:00.000000000',\n",
              "       '2019-03-10T00:00:00.000000000', '2019-01-13T00:00:00.000000000',\n",
              "       '2019-03-22T00:00:00.000000000', '2019-03-01T00:00:00.000000000',\n",
              "       '2019-02-20T00:00:00.000000000', '2019-01-14T00:00:00.000000000',\n",
              "       '2019-03-26T00:00:00.000000000', '2019-03-01T00:00:00.000000000',\n",
              "       '2019-01-07T00:00:00.000000000', '2019-02-01T00:00:00.000000000',\n",
              "       '2019-02-13T00:00:00.000000000', '2019-01-14T00:00:00.000000000',\n",
              "       '2019-01-19T00:00:00.000000000', '2019-03-09T00:00:00.000000000',\n",
              "       '2019-03-27T00:00:00.000000000', '2019-02-04T00:00:00.000000000',\n",
              "       '2019-03-14T00:00:00.000000000', '2019-03-04T00:00:00.000000000',\n",
              "       '2019-03-03T00:00:00.000000000', '2019-01-27T00:00:00.000000000',\n",
              "       '2019-02-07T00:00:00.000000000', '2019-02-05T00:00:00.000000000',\n",
              "       '2019-03-15T00:00:00.000000000', '2019-03-01T00:00:00.000000000',\n",
              "       '2019-02-15T00:00:00.000000000', '2019-02-17T00:00:00.000000000',\n",
              "       '2019-01-26T00:00:00.000000000', '2019-03-24T00:00:00.000000000',\n",
              "       '2019-01-23T00:00:00.000000000', '2019-01-26T00:00:00.000000000',\n",
              "       '2019-03-14T00:00:00.000000000', '2019-03-17T00:00:00.000000000',\n",
              "       '2019-01-08T00:00:00.000000000', '2019-02-08T00:00:00.000000000',\n",
              "       '2019-02-10T00:00:00.000000000', '2019-03-28T00:00:00.000000000',\n",
              "       '2019-01-23T00:00:00.000000000', '2019-01-17T00:00:00.000000000',\n",
              "       '2019-02-07T00:00:00.000000000', '2019-03-09T00:00:00.000000000',\n",
              "       '2019-01-24T00:00:00.000000000', '2019-01-19T00:00:00.000000000',\n",
              "       '2019-02-03T00:00:00.000000000', '2019-03-20T00:00:00.000000000',\n",
              "       '2019-01-13T00:00:00.000000000', '2019-03-14T00:00:00.000000000',\n",
              "       '2019-01-23T00:00:00.000000000', '2019-02-07T00:00:00.000000000',\n",
              "       '2019-03-28T00:00:00.000000000', '2019-03-20T00:00:00.000000000',\n",
              "       '2019-01-17T00:00:00.000000000', '2019-01-12T00:00:00.000000000',\n",
              "       '2019-02-16T00:00:00.000000000', '2019-01-26T00:00:00.000000000',\n",
              "       '2019-03-09T00:00:00.000000000', '2019-03-14T00:00:00.000000000',\n",
              "       '2019-01-25T00:00:00.000000000', '2019-01-26T00:00:00.000000000',\n",
              "       '2019-01-19T00:00:00.000000000', '2019-03-05T00:00:00.000000000',\n",
              "       '2019-01-15T00:00:00.000000000', '2019-03-18T00:00:00.000000000',\n",
              "       '2019-03-20T00:00:00.000000000', '2019-01-15T00:00:00.000000000',\n",
              "       '2019-03-03T00:00:00.000000000', '2019-03-19T00:00:00.000000000',\n",
              "       '2019-03-08T00:00:00.000000000', '2019-02-27T00:00:00.000000000',\n",
              "       '2019-02-23T00:00:00.000000000', '2019-03-19T00:00:00.000000000',\n",
              "       '2019-03-27T00:00:00.000000000', '2019-03-30T00:00:00.000000000',\n",
              "       '2019-02-16T00:00:00.000000000', '2019-01-18T00:00:00.000000000',\n",
              "       '2019-03-30T00:00:00.000000000', '2019-03-20T00:00:00.000000000',\n",
              "       '2019-01-16T00:00:00.000000000', '2019-02-24T00:00:00.000000000',\n",
              "       '2019-01-15T00:00:00.000000000', '2019-01-22T00:00:00.000000000',\n",
              "       '2019-02-03T00:00:00.000000000', '2019-03-06T00:00:00.000000000',\n",
              "       '2019-02-16T00:00:00.000000000', '2019-03-14T00:00:00.000000000',\n",
              "       '2019-02-27T00:00:00.000000000', '2019-01-18T00:00:00.000000000',\n",
              "       '2019-01-29T00:00:00.000000000', '2019-02-26T00:00:00.000000000',\n",
              "       '2019-02-03T00:00:00.000000000', '2019-01-16T00:00:00.000000000',\n",
              "       '2019-03-24T00:00:00.000000000', '2019-02-12T00:00:00.000000000',\n",
              "       '2019-02-21T00:00:00.000000000', '2019-02-04T00:00:00.000000000',\n",
              "       '2019-02-20T00:00:00.000000000', '2019-02-23T00:00:00.000000000',\n",
              "       '2019-02-16T00:00:00.000000000', '2019-01-17T00:00:00.000000000',\n",
              "       '2019-01-14T00:00:00.000000000', '2019-03-30T00:00:00.000000000',\n",
              "       '2019-03-02T00:00:00.000000000', '2019-02-15T00:00:00.000000000',\n",
              "       '2019-03-01T00:00:00.000000000', '2019-02-24T00:00:00.000000000',\n",
              "       '2019-02-19T00:00:00.000000000', '2019-02-23T00:00:00.000000000',\n",
              "       '2019-02-07T00:00:00.000000000', '2019-01-11T00:00:00.000000000',\n",
              "       '2019-02-12T00:00:00.000000000', '2019-01-14T00:00:00.000000000',\n",
              "       '2019-01-09T00:00:00.000000000', '2019-02-27T00:00:00.000000000',\n",
              "       '2019-01-24T00:00:00.000000000', '2019-01-08T00:00:00.000000000',\n",
              "       '2019-01-08T00:00:00.000000000', '2019-01-16T00:00:00.000000000',\n",
              "       '2019-03-13T00:00:00.000000000', '2019-02-15T00:00:00.000000000',\n",
              "       '2019-01-25T00:00:00.000000000', '2019-03-12T00:00:00.000000000',\n",
              "       '2019-03-04T00:00:00.000000000', '2019-02-10T00:00:00.000000000',\n",
              "       '2019-01-16T00:00:00.000000000', '2019-01-29T00:00:00.000000000',\n",
              "       '2019-01-01T00:00:00.000000000', '2019-01-06T00:00:00.000000000',\n",
              "       '2019-02-19T00:00:00.000000000', '2019-01-12T00:00:00.000000000',\n",
              "       '2019-02-07T00:00:00.000000000', '2019-03-27T00:00:00.000000000',\n",
              "       '2019-02-27T00:00:00.000000000', '2019-01-06T00:00:00.000000000',\n",
              "       '2019-03-02T00:00:00.000000000', '2019-03-29T00:00:00.000000000',\n",
              "       '2019-01-31T00:00:00.000000000', '2019-01-21T00:00:00.000000000',\n",
              "       '2019-01-20T00:00:00.000000000', '2019-01-17T00:00:00.000000000',\n",
              "       '2019-02-28T00:00:00.000000000', '2019-03-19T00:00:00.000000000',\n",
              "       '2019-02-19T00:00:00.000000000', '2019-02-04T00:00:00.000000000',\n",
              "       '2019-01-31T00:00:00.000000000', '2019-02-06T00:00:00.000000000',\n",
              "       '2019-03-28T00:00:00.000000000', '2019-01-19T00:00:00.000000000',\n",
              "       '2019-02-17T00:00:00.000000000', '2019-01-18T00:00:00.000000000',\n",
              "       '2019-02-02T00:00:00.000000000', '2019-01-18T00:00:00.000000000',\n",
              "       '2019-03-18T00:00:00.000000000', '2019-01-11T00:00:00.000000000',\n",
              "       '2019-02-04T00:00:00.000000000', '2019-02-06T00:00:00.000000000',\n",
              "       '2019-01-08T00:00:00.000000000', '2019-03-05T00:00:00.000000000',\n",
              "       '2019-03-16T00:00:00.000000000', '2019-03-09T00:00:00.000000000',\n",
              "       '2019-03-01T00:00:00.000000000', '2019-02-28T00:00:00.000000000',\n",
              "       '2019-02-08T00:00:00.000000000', '2019-01-24T00:00:00.000000000',\n",
              "       '2019-03-01T00:00:00.000000000', '2019-03-10T00:00:00.000000000',\n",
              "       '2019-03-23T00:00:00.000000000', '2019-01-29T00:00:00.000000000',\n",
              "       '2019-01-12T00:00:00.000000000', '2019-03-20T00:00:00.000000000',\n",
              "       '2019-03-23T00:00:00.000000000', '2019-01-14T00:00:00.000000000',\n",
              "       '2019-02-12T00:00:00.000000000', '2019-02-20T00:00:00.000000000',\n",
              "       '2019-01-02T00:00:00.000000000', '2019-02-02T00:00:00.000000000',\n",
              "       '2019-01-08T00:00:00.000000000', '2019-01-30T00:00:00.000000000',\n",
              "       '2019-03-26T00:00:00.000000000', '2019-01-15T00:00:00.000000000',\n",
              "       '2019-03-14T00:00:00.000000000', '2019-02-03T00:00:00.000000000',\n",
              "       '2019-02-22T00:00:00.000000000', '2019-01-24T00:00:00.000000000',\n",
              "       '2019-01-25T00:00:00.000000000', '2019-03-09T00:00:00.000000000',\n",
              "       '2019-02-17T00:00:00.000000000', '2019-01-11T00:00:00.000000000',\n",
              "       '2019-02-27T00:00:00.000000000', '2019-03-25T00:00:00.000000000',\n",
              "       '2019-02-11T00:00:00.000000000', '2019-01-31T00:00:00.000000000',\n",
              "       '2019-01-20T00:00:00.000000000', '2019-03-26T00:00:00.000000000',\n",
              "       '2019-01-20T00:00:00.000000000', '2019-03-05T00:00:00.000000000',\n",
              "       '2019-01-05T00:00:00.000000000', '2019-02-13T00:00:00.000000000',\n",
              "       '2019-03-16T00:00:00.000000000', '2019-01-15T00:00:00.000000000',\n",
              "       '2019-02-26T00:00:00.000000000', '2019-02-27T00:00:00.000000000',\n",
              "       '2019-02-17T00:00:00.000000000', '2019-02-06T00:00:00.000000000',\n",
              "       '2019-01-17T00:00:00.000000000', '2019-01-22T00:00:00.000000000',\n",
              "       '2019-03-05T00:00:00.000000000', '2019-01-03T00:00:00.000000000',\n",
              "       '2019-03-20T00:00:00.000000000', '2019-01-31T00:00:00.000000000',\n",
              "       '2019-02-19T00:00:00.000000000', '2019-02-11T00:00:00.000000000',\n",
              "       '2019-02-05T00:00:00.000000000', '2019-03-03T00:00:00.000000000',\n",
              "       '2019-02-24T00:00:00.000000000', '2019-02-04T00:00:00.000000000',\n",
              "       '2019-02-19T00:00:00.000000000', '2019-01-23T00:00:00.000000000',\n",
              "       '2019-01-14T00:00:00.000000000', '2019-01-17T00:00:00.000000000',\n",
              "       '2019-03-03T00:00:00.000000000', '2019-02-15T00:00:00.000000000',\n",
              "       '2019-01-15T00:00:00.000000000', '2019-02-27T00:00:00.000000000',\n",
              "       '2019-02-26T00:00:00.000000000', '2019-03-15T00:00:00.000000000',\n",
              "       '2019-01-24T00:00:00.000000000', '2019-02-22T00:00:00.000000000',\n",
              "       '2019-03-15T00:00:00.000000000', '2019-02-11T00:00:00.000000000',\n",
              "       '2019-01-12T00:00:00.000000000', '2019-03-03T00:00:00.000000000',\n",
              "       '2019-03-23T00:00:00.000000000', '2019-03-04T00:00:00.000000000',\n",
              "       '2019-02-23T00:00:00.000000000', '2019-03-17T00:00:00.000000000',\n",
              "       '2019-01-16T00:00:00.000000000', '2019-01-08T00:00:00.000000000',\n",
              "       '2019-01-14T00:00:00.000000000', '2019-01-31T00:00:00.000000000',\n",
              "       '2019-03-15T00:00:00.000000000', '2019-02-24T00:00:00.000000000',\n",
              "       '2019-02-08T00:00:00.000000000', '2019-03-22T00:00:00.000000000',\n",
              "       '2019-01-24T00:00:00.000000000', '2019-03-14T00:00:00.000000000',\n",
              "       '2019-01-23T00:00:00.000000000', '2019-01-19T00:00:00.000000000',\n",
              "       '2019-01-27T00:00:00.000000000', '2019-02-03T00:00:00.000000000',\n",
              "       '2019-03-25T00:00:00.000000000', '2019-02-24T00:00:00.000000000',\n",
              "       '2019-02-07T00:00:00.000000000', '2019-03-04T00:00:00.000000000',\n",
              "       '2019-02-14T00:00:00.000000000', '2019-01-29T00:00:00.000000000',\n",
              "       '2019-01-28T00:00:00.000000000', '2019-03-26T00:00:00.000000000',\n",
              "       '2019-03-24T00:00:00.000000000', '2019-01-01T00:00:00.000000000',\n",
              "       '2019-01-24T00:00:00.000000000', '2019-02-25T00:00:00.000000000',\n",
              "       '2019-01-09T00:00:00.000000000', '2019-02-14T00:00:00.000000000',\n",
              "       '2019-03-12T00:00:00.000000000', '2019-03-26T00:00:00.000000000',\n",
              "       '2019-01-09T00:00:00.000000000', '2019-01-02T00:00:00.000000000',\n",
              "       '2019-01-15T00:00:00.000000000', '2019-01-01T00:00:00.000000000',\n",
              "       '2019-02-15T00:00:00.000000000', '2019-02-28T00:00:00.000000000',\n",
              "       '2019-03-02T00:00:00.000000000', '2019-02-13T00:00:00.000000000',\n",
              "       '2019-01-26T00:00:00.000000000', '2019-01-30T00:00:00.000000000',\n",
              "       '2019-01-27T00:00:00.000000000', '2019-01-30T00:00:00.000000000',\n",
              "       '2019-01-08T00:00:00.000000000', '2019-01-19T00:00:00.000000000',\n",
              "       '2019-01-25T00:00:00.000000000', '2019-02-19T00:00:00.000000000',\n",
              "       '2019-01-14T00:00:00.000000000', '2019-02-25T00:00:00.000000000',\n",
              "       '2019-01-23T00:00:00.000000000', '2019-02-16T00:00:00.000000000',\n",
              "       '2019-01-01T00:00:00.000000000', '2019-03-07T00:00:00.000000000',\n",
              "       '2019-02-15T00:00:00.000000000', '2019-01-23T00:00:00.000000000',\n",
              "       '2019-02-20T00:00:00.000000000', '2019-01-08T00:00:00.000000000',\n",
              "       '2019-03-17T00:00:00.000000000', '2019-01-12T00:00:00.000000000',\n",
              "       '2019-01-08T00:00:00.000000000', '2019-01-26T00:00:00.000000000',\n",
              "       '2019-03-15T00:00:00.000000000', '2019-01-17T00:00:00.000000000',\n",
              "       '2019-01-08T00:00:00.000000000', '2019-01-06T00:00:00.000000000',\n",
              "       '2019-02-16T00:00:00.000000000', '2019-03-13T00:00:00.000000000',\n",
              "       '2019-01-28T00:00:00.000000000', '2019-01-18T00:00:00.000000000',\n",
              "       '2019-03-19T00:00:00.000000000', '2019-03-15T00:00:00.000000000',\n",
              "       '2019-02-12T00:00:00.000000000', '2019-02-25T00:00:00.000000000',\n",
              "       '2019-03-21T00:00:00.000000000', '2019-01-19T00:00:00.000000000',\n",
              "       '2019-01-08T00:00:00.000000000', '2019-03-30T00:00:00.000000000',\n",
              "       '2019-02-20T00:00:00.000000000', '2019-03-30T00:00:00.000000000',\n",
              "       '2019-03-19T00:00:00.000000000', '2019-01-13T00:00:00.000000000',\n",
              "       '2019-02-05T00:00:00.000000000', '2019-03-23T00:00:00.000000000',\n",
              "       '2019-03-13T00:00:00.000000000', '2019-03-17T00:00:00.000000000',\n",
              "       '2019-02-21T00:00:00.000000000', '2019-02-07T00:00:00.000000000',\n",
              "       '2019-03-02T00:00:00.000000000', '2019-03-06T00:00:00.000000000',\n",
              "       '2019-02-06T00:00:00.000000000', '2019-01-28T00:00:00.000000000',\n",
              "       '2019-01-18T00:00:00.000000000', '2019-02-05T00:00:00.000000000',\n",
              "       '2019-03-02T00:00:00.000000000', '2019-02-09T00:00:00.000000000',\n",
              "       '2019-01-14T00:00:00.000000000', '2019-02-09T00:00:00.000000000',\n",
              "       '2019-03-26T00:00:00.000000000', '2019-01-28T00:00:00.000000000',\n",
              "       '2019-02-14T00:00:00.000000000', '2019-03-24T00:00:00.000000000',\n",
              "       '2019-02-09T00:00:00.000000000', '2019-03-24T00:00:00.000000000',\n",
              "       '2019-03-27T00:00:00.000000000', '2019-01-27T00:00:00.000000000',\n",
              "       '2019-03-27T00:00:00.000000000', '2019-01-19T00:00:00.000000000',\n",
              "       '2019-02-07T00:00:00.000000000', '2019-01-31T00:00:00.000000000',\n",
              "       '2019-02-25T00:00:00.000000000', '2019-02-02T00:00:00.000000000',\n",
              "       '2019-03-14T00:00:00.000000000', '2019-03-11T00:00:00.000000000',\n",
              "       '2019-02-22T00:00:00.000000000', '2019-03-02T00:00:00.000000000',\n",
              "       '2019-03-10T00:00:00.000000000', '2019-02-08T00:00:00.000000000',\n",
              "       '2019-02-22T00:00:00.000000000', '2019-01-10T00:00:00.000000000',\n",
              "       '2019-03-14T00:00:00.000000000', '2019-01-10T00:00:00.000000000',\n",
              "       '2019-02-15T00:00:00.000000000', '2019-01-13T00:00:00.000000000',\n",
              "       '2019-02-15T00:00:00.000000000', '2019-03-02T00:00:00.000000000',\n",
              "       '2019-03-24T00:00:00.000000000', '2019-02-02T00:00:00.000000000',\n",
              "       '2019-02-27T00:00:00.000000000', '2019-01-20T00:00:00.000000000',\n",
              "       '2019-01-03T00:00:00.000000000', '2019-01-24T00:00:00.000000000',\n",
              "       '2019-01-05T00:00:00.000000000', '2019-03-30T00:00:00.000000000',\n",
              "       '2019-02-17T00:00:00.000000000', '2019-03-21T00:00:00.000000000',\n",
              "       '2019-03-02T00:00:00.000000000', '2019-03-27T00:00:00.000000000',\n",
              "       '2019-01-19T00:00:00.000000000', '2019-02-19T00:00:00.000000000',\n",
              "       '2019-03-28T00:00:00.000000000', '2019-01-05T00:00:00.000000000',\n",
              "       '2019-03-26T00:00:00.000000000', '2019-02-03T00:00:00.000000000',\n",
              "       '2019-02-06T00:00:00.000000000', '2019-02-24T00:00:00.000000000',\n",
              "       '2019-02-21T00:00:00.000000000', '2019-01-09T00:00:00.000000000',\n",
              "       '2019-02-25T00:00:00.000000000', '2019-01-13T00:00:00.000000000',\n",
              "       '2019-02-09T00:00:00.000000000', '2019-01-06T00:00:00.000000000',\n",
              "       '2019-01-10T00:00:00.000000000', '2019-02-07T00:00:00.000000000',\n",
              "       '2019-01-09T00:00:00.000000000', '2019-02-19T00:00:00.000000000',\n",
              "       '2019-03-18T00:00:00.000000000', '2019-02-05T00:00:00.000000000',\n",
              "       '2019-03-19T00:00:00.000000000', '2019-03-30T00:00:00.000000000',\n",
              "       '2019-01-26T00:00:00.000000000', '2019-03-02T00:00:00.000000000',\n",
              "       '2019-03-04T00:00:00.000000000', '2019-01-13T00:00:00.000000000',\n",
              "       '2019-03-25T00:00:00.000000000', '2019-03-11T00:00:00.000000000',\n",
              "       '2019-01-01T00:00:00.000000000', '2019-02-10T00:00:00.000000000',\n",
              "       '2019-01-26T00:00:00.000000000', '2019-02-11T00:00:00.000000000',\n",
              "       '2019-02-07T00:00:00.000000000', '2019-03-06T00:00:00.000000000',\n",
              "       '2019-03-04T00:00:00.000000000', '2019-02-26T00:00:00.000000000',\n",
              "       '2019-03-10T00:00:00.000000000', '2019-02-04T00:00:00.000000000',\n",
              "       '2019-01-19T00:00:00.000000000', '2019-01-23T00:00:00.000000000',\n",
              "       '2019-03-14T00:00:00.000000000', '2019-01-23T00:00:00.000000000',\n",
              "       '2019-01-09T00:00:00.000000000', '2019-02-07T00:00:00.000000000',\n",
              "       '2019-02-18T00:00:00.000000000', '2019-01-03T00:00:00.000000000',\n",
              "       '2019-03-29T00:00:00.000000000', '2019-01-28T00:00:00.000000000',\n",
              "       '2019-03-22T00:00:00.000000000', '2019-01-24T00:00:00.000000000',\n",
              "       '2019-03-10T00:00:00.000000000', '2019-02-22T00:00:00.000000000',\n",
              "       '2019-02-18T00:00:00.000000000', '2019-01-29T00:00:00.000000000',\n",
              "       '2019-03-02T00:00:00.000000000', '2019-02-09T00:00:00.000000000',\n",
              "       '2019-02-22T00:00:00.000000000', '2019-02-18T00:00:00.000000000'],\n",
              "      dtype='datetime64[ns]')"
            ]
          },
          "metadata": {},
          "execution_count": 22
        }
      ]
    },
    {
      "cell_type": "code",
      "source": [
        "df['day'] = df['Date'].dt.day\n",
        "df['month'] = df['Date'].dt.month"
      ],
      "metadata": {
        "id": "s88j51SYZtiF"
      },
      "execution_count": null,
      "outputs": []
    },
    {
      "cell_type": "code",
      "source": [
        "df.head()"
      ],
      "metadata": {
        "colab": {
          "base_uri": "https://localhost:8080/",
          "height": 330
        },
        "id": "rUVH6kcMZtka",
        "outputId": "25bbcc45-e9f7-4e5e-967a-b9ffe75c6e9b"
      },
      "execution_count": null,
      "outputs": [
        {
          "output_type": "execute_result",
          "data": {
            "text/plain": [
              "    Invoice ID Branch       City Customer type  Gender  \\\n",
              "0  750-67-8428      A     Yangon        Member  Female   \n",
              "1  226-31-3081      C  Naypyitaw        Normal  Female   \n",
              "2  631-41-3108      A     Yangon        Normal    Male   \n",
              "3  123-19-1176      A     Yangon        Member    Male   \n",
              "4  373-73-7910      A     Yangon        Normal    Male   \n",
              "\n",
              "             Product line  Unit price  Quantity   Tax 5%     Total       Date  \\\n",
              "0       Health and beauty       74.69         7  26.1415  548.9715 2019-01-05   \n",
              "1  Electronic accessories       15.28         5   3.8200   80.2200 2019-03-08   \n",
              "2      Home and lifestyle       46.33         7  16.2155  340.5255 2019-03-03   \n",
              "3       Health and beauty       58.22         8  23.2880  489.0480 2019-01-27   \n",
              "4       Sports and travel       86.31         7  30.2085  634.3785 2019-02-08   \n",
              "\n",
              "    Time      Payment    cogs  Rating     new gi  day  month  \n",
              "0  13:08      Ewallet  522.83     9.1  24.896667    5      1  \n",
              "1  10:29         Cash   76.40     9.6   3.638095    8      3  \n",
              "2  13:23  Credit card  324.31     7.4  15.443333    3      3  \n",
              "3  20:33      Ewallet  465.76     8.4  22.179048   27      1  \n",
              "4  10:37      Ewallet  604.17     5.3  28.770000    8      2  "
            ],
            "text/html": [
              "\n",
              "  <div id=\"df-b19eca45-ed42-45d3-8c3d-e2cf053798b7\" class=\"colab-df-container\">\n",
              "    <div>\n",
              "<style scoped>\n",
              "    .dataframe tbody tr th:only-of-type {\n",
              "        vertical-align: middle;\n",
              "    }\n",
              "\n",
              "    .dataframe tbody tr th {\n",
              "        vertical-align: top;\n",
              "    }\n",
              "\n",
              "    .dataframe thead th {\n",
              "        text-align: right;\n",
              "    }\n",
              "</style>\n",
              "<table border=\"1\" class=\"dataframe\">\n",
              "  <thead>\n",
              "    <tr style=\"text-align: right;\">\n",
              "      <th></th>\n",
              "      <th>Invoice ID</th>\n",
              "      <th>Branch</th>\n",
              "      <th>City</th>\n",
              "      <th>Customer type</th>\n",
              "      <th>Gender</th>\n",
              "      <th>Product line</th>\n",
              "      <th>Unit price</th>\n",
              "      <th>Quantity</th>\n",
              "      <th>Tax 5%</th>\n",
              "      <th>Total</th>\n",
              "      <th>Date</th>\n",
              "      <th>Time</th>\n",
              "      <th>Payment</th>\n",
              "      <th>cogs</th>\n",
              "      <th>Rating</th>\n",
              "      <th>new gi</th>\n",
              "      <th>day</th>\n",
              "      <th>month</th>\n",
              "    </tr>\n",
              "  </thead>\n",
              "  <tbody>\n",
              "    <tr>\n",
              "      <th>0</th>\n",
              "      <td>750-67-8428</td>\n",
              "      <td>A</td>\n",
              "      <td>Yangon</td>\n",
              "      <td>Member</td>\n",
              "      <td>Female</td>\n",
              "      <td>Health and beauty</td>\n",
              "      <td>74.69</td>\n",
              "      <td>7</td>\n",
              "      <td>26.1415</td>\n",
              "      <td>548.9715</td>\n",
              "      <td>2019-01-05</td>\n",
              "      <td>13:08</td>\n",
              "      <td>Ewallet</td>\n",
              "      <td>522.83</td>\n",
              "      <td>9.1</td>\n",
              "      <td>24.896667</td>\n",
              "      <td>5</td>\n",
              "      <td>1</td>\n",
              "    </tr>\n",
              "    <tr>\n",
              "      <th>1</th>\n",
              "      <td>226-31-3081</td>\n",
              "      <td>C</td>\n",
              "      <td>Naypyitaw</td>\n",
              "      <td>Normal</td>\n",
              "      <td>Female</td>\n",
              "      <td>Electronic accessories</td>\n",
              "      <td>15.28</td>\n",
              "      <td>5</td>\n",
              "      <td>3.8200</td>\n",
              "      <td>80.2200</td>\n",
              "      <td>2019-03-08</td>\n",
              "      <td>10:29</td>\n",
              "      <td>Cash</td>\n",
              "      <td>76.40</td>\n",
              "      <td>9.6</td>\n",
              "      <td>3.638095</td>\n",
              "      <td>8</td>\n",
              "      <td>3</td>\n",
              "    </tr>\n",
              "    <tr>\n",
              "      <th>2</th>\n",
              "      <td>631-41-3108</td>\n",
              "      <td>A</td>\n",
              "      <td>Yangon</td>\n",
              "      <td>Normal</td>\n",
              "      <td>Male</td>\n",
              "      <td>Home and lifestyle</td>\n",
              "      <td>46.33</td>\n",
              "      <td>7</td>\n",
              "      <td>16.2155</td>\n",
              "      <td>340.5255</td>\n",
              "      <td>2019-03-03</td>\n",
              "      <td>13:23</td>\n",
              "      <td>Credit card</td>\n",
              "      <td>324.31</td>\n",
              "      <td>7.4</td>\n",
              "      <td>15.443333</td>\n",
              "      <td>3</td>\n",
              "      <td>3</td>\n",
              "    </tr>\n",
              "    <tr>\n",
              "      <th>3</th>\n",
              "      <td>123-19-1176</td>\n",
              "      <td>A</td>\n",
              "      <td>Yangon</td>\n",
              "      <td>Member</td>\n",
              "      <td>Male</td>\n",
              "      <td>Health and beauty</td>\n",
              "      <td>58.22</td>\n",
              "      <td>8</td>\n",
              "      <td>23.2880</td>\n",
              "      <td>489.0480</td>\n",
              "      <td>2019-01-27</td>\n",
              "      <td>20:33</td>\n",
              "      <td>Ewallet</td>\n",
              "      <td>465.76</td>\n",
              "      <td>8.4</td>\n",
              "      <td>22.179048</td>\n",
              "      <td>27</td>\n",
              "      <td>1</td>\n",
              "    </tr>\n",
              "    <tr>\n",
              "      <th>4</th>\n",
              "      <td>373-73-7910</td>\n",
              "      <td>A</td>\n",
              "      <td>Yangon</td>\n",
              "      <td>Normal</td>\n",
              "      <td>Male</td>\n",
              "      <td>Sports and travel</td>\n",
              "      <td>86.31</td>\n",
              "      <td>7</td>\n",
              "      <td>30.2085</td>\n",
              "      <td>634.3785</td>\n",
              "      <td>2019-02-08</td>\n",
              "      <td>10:37</td>\n",
              "      <td>Ewallet</td>\n",
              "      <td>604.17</td>\n",
              "      <td>5.3</td>\n",
              "      <td>28.770000</td>\n",
              "      <td>8</td>\n",
              "      <td>2</td>\n",
              "    </tr>\n",
              "  </tbody>\n",
              "</table>\n",
              "</div>\n",
              "    <div class=\"colab-df-buttons\">\n",
              "\n",
              "  <div class=\"colab-df-container\">\n",
              "    <button class=\"colab-df-convert\" onclick=\"convertToInteractive('df-b19eca45-ed42-45d3-8c3d-e2cf053798b7')\"\n",
              "            title=\"Convert this dataframe to an interactive table.\"\n",
              "            style=\"display:none;\">\n",
              "\n",
              "  <svg xmlns=\"http://www.w3.org/2000/svg\" height=\"24px\" viewBox=\"0 -960 960 960\">\n",
              "    <path d=\"M120-120v-720h720v720H120Zm60-500h600v-160H180v160Zm220 220h160v-160H400v160Zm0 220h160v-160H400v160ZM180-400h160v-160H180v160Zm440 0h160v-160H620v160ZM180-180h160v-160H180v160Zm440 0h160v-160H620v160Z\"/>\n",
              "  </svg>\n",
              "    </button>\n",
              "\n",
              "  <style>\n",
              "    .colab-df-container {\n",
              "      display:flex;\n",
              "      gap: 12px;\n",
              "    }\n",
              "\n",
              "    .colab-df-convert {\n",
              "      background-color: #E8F0FE;\n",
              "      border: none;\n",
              "      border-radius: 50%;\n",
              "      cursor: pointer;\n",
              "      display: none;\n",
              "      fill: #1967D2;\n",
              "      height: 32px;\n",
              "      padding: 0 0 0 0;\n",
              "      width: 32px;\n",
              "    }\n",
              "\n",
              "    .colab-df-convert:hover {\n",
              "      background-color: #E2EBFA;\n",
              "      box-shadow: 0px 1px 2px rgba(60, 64, 67, 0.3), 0px 1px 3px 1px rgba(60, 64, 67, 0.15);\n",
              "      fill: #174EA6;\n",
              "    }\n",
              "\n",
              "    .colab-df-buttons div {\n",
              "      margin-bottom: 4px;\n",
              "    }\n",
              "\n",
              "    [theme=dark] .colab-df-convert {\n",
              "      background-color: #3B4455;\n",
              "      fill: #D2E3FC;\n",
              "    }\n",
              "\n",
              "    [theme=dark] .colab-df-convert:hover {\n",
              "      background-color: #434B5C;\n",
              "      box-shadow: 0px 1px 3px 1px rgba(0, 0, 0, 0.15);\n",
              "      filter: drop-shadow(0px 1px 2px rgba(0, 0, 0, 0.3));\n",
              "      fill: #FFFFFF;\n",
              "    }\n",
              "  </style>\n",
              "\n",
              "    <script>\n",
              "      const buttonEl =\n",
              "        document.querySelector('#df-b19eca45-ed42-45d3-8c3d-e2cf053798b7 button.colab-df-convert');\n",
              "      buttonEl.style.display =\n",
              "        google.colab.kernel.accessAllowed ? 'block' : 'none';\n",
              "\n",
              "      async function convertToInteractive(key) {\n",
              "        const element = document.querySelector('#df-b19eca45-ed42-45d3-8c3d-e2cf053798b7');\n",
              "        const dataTable =\n",
              "          await google.colab.kernel.invokeFunction('convertToInteractive',\n",
              "                                                    [key], {});\n",
              "        if (!dataTable) return;\n",
              "\n",
              "        const docLinkHtml = 'Like what you see? Visit the ' +\n",
              "          '<a target=\"_blank\" href=https://colab.research.google.com/notebooks/data_table.ipynb>data table notebook</a>'\n",
              "          + ' to learn more about interactive tables.';\n",
              "        element.innerHTML = '';\n",
              "        dataTable['output_type'] = 'display_data';\n",
              "        await google.colab.output.renderOutput(dataTable, element);\n",
              "        const docLink = document.createElement('div');\n",
              "        docLink.innerHTML = docLinkHtml;\n",
              "        element.appendChild(docLink);\n",
              "      }\n",
              "    </script>\n",
              "  </div>\n",
              "\n",
              "\n",
              "<div id=\"df-0c6bcf29-f35f-430a-96ea-7e36dfb0b587\">\n",
              "  <button class=\"colab-df-quickchart\" onclick=\"quickchart('df-0c6bcf29-f35f-430a-96ea-7e36dfb0b587')\"\n",
              "            title=\"Suggest charts\"\n",
              "            style=\"display:none;\">\n",
              "\n",
              "<svg xmlns=\"http://www.w3.org/2000/svg\" height=\"24px\"viewBox=\"0 0 24 24\"\n",
              "     width=\"24px\">\n",
              "    <g>\n",
              "        <path d=\"M19 3H5c-1.1 0-2 .9-2 2v14c0 1.1.9 2 2 2h14c1.1 0 2-.9 2-2V5c0-1.1-.9-2-2-2zM9 17H7v-7h2v7zm4 0h-2V7h2v10zm4 0h-2v-4h2v4z\"/>\n",
              "    </g>\n",
              "</svg>\n",
              "  </button>\n",
              "\n",
              "<style>\n",
              "  .colab-df-quickchart {\n",
              "      --bg-color: #E8F0FE;\n",
              "      --fill-color: #1967D2;\n",
              "      --hover-bg-color: #E2EBFA;\n",
              "      --hover-fill-color: #174EA6;\n",
              "      --disabled-fill-color: #AAA;\n",
              "      --disabled-bg-color: #DDD;\n",
              "  }\n",
              "\n",
              "  [theme=dark] .colab-df-quickchart {\n",
              "      --bg-color: #3B4455;\n",
              "      --fill-color: #D2E3FC;\n",
              "      --hover-bg-color: #434B5C;\n",
              "      --hover-fill-color: #FFFFFF;\n",
              "      --disabled-bg-color: #3B4455;\n",
              "      --disabled-fill-color: #666;\n",
              "  }\n",
              "\n",
              "  .colab-df-quickchart {\n",
              "    background-color: var(--bg-color);\n",
              "    border: none;\n",
              "    border-radius: 50%;\n",
              "    cursor: pointer;\n",
              "    display: none;\n",
              "    fill: var(--fill-color);\n",
              "    height: 32px;\n",
              "    padding: 0;\n",
              "    width: 32px;\n",
              "  }\n",
              "\n",
              "  .colab-df-quickchart:hover {\n",
              "    background-color: var(--hover-bg-color);\n",
              "    box-shadow: 0 1px 2px rgba(60, 64, 67, 0.3), 0 1px 3px 1px rgba(60, 64, 67, 0.15);\n",
              "    fill: var(--button-hover-fill-color);\n",
              "  }\n",
              "\n",
              "  .colab-df-quickchart-complete:disabled,\n",
              "  .colab-df-quickchart-complete:disabled:hover {\n",
              "    background-color: var(--disabled-bg-color);\n",
              "    fill: var(--disabled-fill-color);\n",
              "    box-shadow: none;\n",
              "  }\n",
              "\n",
              "  .colab-df-spinner {\n",
              "    border: 2px solid var(--fill-color);\n",
              "    border-color: transparent;\n",
              "    border-bottom-color: var(--fill-color);\n",
              "    animation:\n",
              "      spin 1s steps(1) infinite;\n",
              "  }\n",
              "\n",
              "  @keyframes spin {\n",
              "    0% {\n",
              "      border-color: transparent;\n",
              "      border-bottom-color: var(--fill-color);\n",
              "      border-left-color: var(--fill-color);\n",
              "    }\n",
              "    20% {\n",
              "      border-color: transparent;\n",
              "      border-left-color: var(--fill-color);\n",
              "      border-top-color: var(--fill-color);\n",
              "    }\n",
              "    30% {\n",
              "      border-color: transparent;\n",
              "      border-left-color: var(--fill-color);\n",
              "      border-top-color: var(--fill-color);\n",
              "      border-right-color: var(--fill-color);\n",
              "    }\n",
              "    40% {\n",
              "      border-color: transparent;\n",
              "      border-right-color: var(--fill-color);\n",
              "      border-top-color: var(--fill-color);\n",
              "    }\n",
              "    60% {\n",
              "      border-color: transparent;\n",
              "      border-right-color: var(--fill-color);\n",
              "    }\n",
              "    80% {\n",
              "      border-color: transparent;\n",
              "      border-right-color: var(--fill-color);\n",
              "      border-bottom-color: var(--fill-color);\n",
              "    }\n",
              "    90% {\n",
              "      border-color: transparent;\n",
              "      border-bottom-color: var(--fill-color);\n",
              "    }\n",
              "  }\n",
              "</style>\n",
              "\n",
              "  <script>\n",
              "    async function quickchart(key) {\n",
              "      const quickchartButtonEl =\n",
              "        document.querySelector('#' + key + ' button');\n",
              "      quickchartButtonEl.disabled = true;  // To prevent multiple clicks.\n",
              "      quickchartButtonEl.classList.add('colab-df-spinner');\n",
              "      try {\n",
              "        const charts = await google.colab.kernel.invokeFunction(\n",
              "            'suggestCharts', [key], {});\n",
              "      } catch (error) {\n",
              "        console.error('Error during call to suggestCharts:', error);\n",
              "      }\n",
              "      quickchartButtonEl.classList.remove('colab-df-spinner');\n",
              "      quickchartButtonEl.classList.add('colab-df-quickchart-complete');\n",
              "    }\n",
              "    (() => {\n",
              "      let quickchartButtonEl =\n",
              "        document.querySelector('#df-0c6bcf29-f35f-430a-96ea-7e36dfb0b587 button');\n",
              "      quickchartButtonEl.style.display =\n",
              "        google.colab.kernel.accessAllowed ? 'block' : 'none';\n",
              "    })();\n",
              "  </script>\n",
              "</div>\n",
              "\n",
              "    </div>\n",
              "  </div>\n"
            ]
          },
          "metadata": {},
          "execution_count": 24
        }
      ]
    },
    {
      "cell_type": "code",
      "source": [
        "df['Time'].dtype"
      ],
      "metadata": {
        "colab": {
          "base_uri": "https://localhost:8080/"
        },
        "id": "Dpq26-7KZtm_",
        "outputId": "28d18a1d-46ae-4b26-b460-8634e9a894e7"
      },
      "execution_count": null,
      "outputs": [
        {
          "output_type": "execute_result",
          "data": {
            "text/plain": [
              "dtype('O')"
            ]
          },
          "metadata": {},
          "execution_count": 25
        }
      ]
    },
    {
      "cell_type": "code",
      "source": [
        "df['Time'] = pd.to_datetime(df['Time'])\n",
        "df['hours'] = df['Time'].dt.hour"
      ],
      "metadata": {
        "id": "9EWpmOhVZtqX"
      },
      "execution_count": null,
      "outputs": []
    },
    {
      "cell_type": "code",
      "source": [
        "df.head()"
      ],
      "metadata": {
        "colab": {
          "base_uri": "https://localhost:8080/",
          "height": 417
        },
        "id": "OOLZ9In5aAww",
        "outputId": "ae29d209-1bc1-4da9-d5c5-498d8851ec52"
      },
      "execution_count": null,
      "outputs": [
        {
          "output_type": "execute_result",
          "data": {
            "text/plain": [
              "    Invoice ID Branch       City Customer type  Gender  \\\n",
              "0  750-67-8428      A     Yangon        Member  Female   \n",
              "1  226-31-3081      C  Naypyitaw        Normal  Female   \n",
              "2  631-41-3108      A     Yangon        Normal    Male   \n",
              "3  123-19-1176      A     Yangon        Member    Male   \n",
              "4  373-73-7910      A     Yangon        Normal    Male   \n",
              "\n",
              "             Product line  Unit price  Quantity   Tax 5%     Total       Date  \\\n",
              "0       Health and beauty       74.69         7  26.1415  548.9715 2019-01-05   \n",
              "1  Electronic accessories       15.28         5   3.8200   80.2200 2019-03-08   \n",
              "2      Home and lifestyle       46.33         7  16.2155  340.5255 2019-03-03   \n",
              "3       Health and beauty       58.22         8  23.2880  489.0480 2019-01-27   \n",
              "4       Sports and travel       86.31         7  30.2085  634.3785 2019-02-08   \n",
              "\n",
              "                 Time      Payment    cogs  Rating     new gi  day  month  \\\n",
              "0 2024-01-05 13:08:00      Ewallet  522.83     9.1  24.896667    5      1   \n",
              "1 2024-01-05 10:29:00         Cash   76.40     9.6   3.638095    8      3   \n",
              "2 2024-01-05 13:23:00  Credit card  324.31     7.4  15.443333    3      3   \n",
              "3 2024-01-05 20:33:00      Ewallet  465.76     8.4  22.179048   27      1   \n",
              "4 2024-01-05 10:37:00      Ewallet  604.17     5.3  28.770000    8      2   \n",
              "\n",
              "   hours  \n",
              "0     13  \n",
              "1     10  \n",
              "2     13  \n",
              "3     20  \n",
              "4     10  "
            ],
            "text/html": [
              "\n",
              "  <div id=\"df-b0a77406-dea1-48a3-b773-e7ac88a0c2e2\" class=\"colab-df-container\">\n",
              "    <div>\n",
              "<style scoped>\n",
              "    .dataframe tbody tr th:only-of-type {\n",
              "        vertical-align: middle;\n",
              "    }\n",
              "\n",
              "    .dataframe tbody tr th {\n",
              "        vertical-align: top;\n",
              "    }\n",
              "\n",
              "    .dataframe thead th {\n",
              "        text-align: right;\n",
              "    }\n",
              "</style>\n",
              "<table border=\"1\" class=\"dataframe\">\n",
              "  <thead>\n",
              "    <tr style=\"text-align: right;\">\n",
              "      <th></th>\n",
              "      <th>Invoice ID</th>\n",
              "      <th>Branch</th>\n",
              "      <th>City</th>\n",
              "      <th>Customer type</th>\n",
              "      <th>Gender</th>\n",
              "      <th>Product line</th>\n",
              "      <th>Unit price</th>\n",
              "      <th>Quantity</th>\n",
              "      <th>Tax 5%</th>\n",
              "      <th>Total</th>\n",
              "      <th>Date</th>\n",
              "      <th>Time</th>\n",
              "      <th>Payment</th>\n",
              "      <th>cogs</th>\n",
              "      <th>Rating</th>\n",
              "      <th>new gi</th>\n",
              "      <th>day</th>\n",
              "      <th>month</th>\n",
              "      <th>hours</th>\n",
              "    </tr>\n",
              "  </thead>\n",
              "  <tbody>\n",
              "    <tr>\n",
              "      <th>0</th>\n",
              "      <td>750-67-8428</td>\n",
              "      <td>A</td>\n",
              "      <td>Yangon</td>\n",
              "      <td>Member</td>\n",
              "      <td>Female</td>\n",
              "      <td>Health and beauty</td>\n",
              "      <td>74.69</td>\n",
              "      <td>7</td>\n",
              "      <td>26.1415</td>\n",
              "      <td>548.9715</td>\n",
              "      <td>2019-01-05</td>\n",
              "      <td>2024-01-05 13:08:00</td>\n",
              "      <td>Ewallet</td>\n",
              "      <td>522.83</td>\n",
              "      <td>9.1</td>\n",
              "      <td>24.896667</td>\n",
              "      <td>5</td>\n",
              "      <td>1</td>\n",
              "      <td>13</td>\n",
              "    </tr>\n",
              "    <tr>\n",
              "      <th>1</th>\n",
              "      <td>226-31-3081</td>\n",
              "      <td>C</td>\n",
              "      <td>Naypyitaw</td>\n",
              "      <td>Normal</td>\n",
              "      <td>Female</td>\n",
              "      <td>Electronic accessories</td>\n",
              "      <td>15.28</td>\n",
              "      <td>5</td>\n",
              "      <td>3.8200</td>\n",
              "      <td>80.2200</td>\n",
              "      <td>2019-03-08</td>\n",
              "      <td>2024-01-05 10:29:00</td>\n",
              "      <td>Cash</td>\n",
              "      <td>76.40</td>\n",
              "      <td>9.6</td>\n",
              "      <td>3.638095</td>\n",
              "      <td>8</td>\n",
              "      <td>3</td>\n",
              "      <td>10</td>\n",
              "    </tr>\n",
              "    <tr>\n",
              "      <th>2</th>\n",
              "      <td>631-41-3108</td>\n",
              "      <td>A</td>\n",
              "      <td>Yangon</td>\n",
              "      <td>Normal</td>\n",
              "      <td>Male</td>\n",
              "      <td>Home and lifestyle</td>\n",
              "      <td>46.33</td>\n",
              "      <td>7</td>\n",
              "      <td>16.2155</td>\n",
              "      <td>340.5255</td>\n",
              "      <td>2019-03-03</td>\n",
              "      <td>2024-01-05 13:23:00</td>\n",
              "      <td>Credit card</td>\n",
              "      <td>324.31</td>\n",
              "      <td>7.4</td>\n",
              "      <td>15.443333</td>\n",
              "      <td>3</td>\n",
              "      <td>3</td>\n",
              "      <td>13</td>\n",
              "    </tr>\n",
              "    <tr>\n",
              "      <th>3</th>\n",
              "      <td>123-19-1176</td>\n",
              "      <td>A</td>\n",
              "      <td>Yangon</td>\n",
              "      <td>Member</td>\n",
              "      <td>Male</td>\n",
              "      <td>Health and beauty</td>\n",
              "      <td>58.22</td>\n",
              "      <td>8</td>\n",
              "      <td>23.2880</td>\n",
              "      <td>489.0480</td>\n",
              "      <td>2019-01-27</td>\n",
              "      <td>2024-01-05 20:33:00</td>\n",
              "      <td>Ewallet</td>\n",
              "      <td>465.76</td>\n",
              "      <td>8.4</td>\n",
              "      <td>22.179048</td>\n",
              "      <td>27</td>\n",
              "      <td>1</td>\n",
              "      <td>20</td>\n",
              "    </tr>\n",
              "    <tr>\n",
              "      <th>4</th>\n",
              "      <td>373-73-7910</td>\n",
              "      <td>A</td>\n",
              "      <td>Yangon</td>\n",
              "      <td>Normal</td>\n",
              "      <td>Male</td>\n",
              "      <td>Sports and travel</td>\n",
              "      <td>86.31</td>\n",
              "      <td>7</td>\n",
              "      <td>30.2085</td>\n",
              "      <td>634.3785</td>\n",
              "      <td>2019-02-08</td>\n",
              "      <td>2024-01-05 10:37:00</td>\n",
              "      <td>Ewallet</td>\n",
              "      <td>604.17</td>\n",
              "      <td>5.3</td>\n",
              "      <td>28.770000</td>\n",
              "      <td>8</td>\n",
              "      <td>2</td>\n",
              "      <td>10</td>\n",
              "    </tr>\n",
              "  </tbody>\n",
              "</table>\n",
              "</div>\n",
              "    <div class=\"colab-df-buttons\">\n",
              "\n",
              "  <div class=\"colab-df-container\">\n",
              "    <button class=\"colab-df-convert\" onclick=\"convertToInteractive('df-b0a77406-dea1-48a3-b773-e7ac88a0c2e2')\"\n",
              "            title=\"Convert this dataframe to an interactive table.\"\n",
              "            style=\"display:none;\">\n",
              "\n",
              "  <svg xmlns=\"http://www.w3.org/2000/svg\" height=\"24px\" viewBox=\"0 -960 960 960\">\n",
              "    <path d=\"M120-120v-720h720v720H120Zm60-500h600v-160H180v160Zm220 220h160v-160H400v160Zm0 220h160v-160H400v160ZM180-400h160v-160H180v160Zm440 0h160v-160H620v160ZM180-180h160v-160H180v160Zm440 0h160v-160H620v160Z\"/>\n",
              "  </svg>\n",
              "    </button>\n",
              "\n",
              "  <style>\n",
              "    .colab-df-container {\n",
              "      display:flex;\n",
              "      gap: 12px;\n",
              "    }\n",
              "\n",
              "    .colab-df-convert {\n",
              "      background-color: #E8F0FE;\n",
              "      border: none;\n",
              "      border-radius: 50%;\n",
              "      cursor: pointer;\n",
              "      display: none;\n",
              "      fill: #1967D2;\n",
              "      height: 32px;\n",
              "      padding: 0 0 0 0;\n",
              "      width: 32px;\n",
              "    }\n",
              "\n",
              "    .colab-df-convert:hover {\n",
              "      background-color: #E2EBFA;\n",
              "      box-shadow: 0px 1px 2px rgba(60, 64, 67, 0.3), 0px 1px 3px 1px rgba(60, 64, 67, 0.15);\n",
              "      fill: #174EA6;\n",
              "    }\n",
              "\n",
              "    .colab-df-buttons div {\n",
              "      margin-bottom: 4px;\n",
              "    }\n",
              "\n",
              "    [theme=dark] .colab-df-convert {\n",
              "      background-color: #3B4455;\n",
              "      fill: #D2E3FC;\n",
              "    }\n",
              "\n",
              "    [theme=dark] .colab-df-convert:hover {\n",
              "      background-color: #434B5C;\n",
              "      box-shadow: 0px 1px 3px 1px rgba(0, 0, 0, 0.15);\n",
              "      filter: drop-shadow(0px 1px 2px rgba(0, 0, 0, 0.3));\n",
              "      fill: #FFFFFF;\n",
              "    }\n",
              "  </style>\n",
              "\n",
              "    <script>\n",
              "      const buttonEl =\n",
              "        document.querySelector('#df-b0a77406-dea1-48a3-b773-e7ac88a0c2e2 button.colab-df-convert');\n",
              "      buttonEl.style.display =\n",
              "        google.colab.kernel.accessAllowed ? 'block' : 'none';\n",
              "\n",
              "      async function convertToInteractive(key) {\n",
              "        const element = document.querySelector('#df-b0a77406-dea1-48a3-b773-e7ac88a0c2e2');\n",
              "        const dataTable =\n",
              "          await google.colab.kernel.invokeFunction('convertToInteractive',\n",
              "                                                    [key], {});\n",
              "        if (!dataTable) return;\n",
              "\n",
              "        const docLinkHtml = 'Like what you see? Visit the ' +\n",
              "          '<a target=\"_blank\" href=https://colab.research.google.com/notebooks/data_table.ipynb>data table notebook</a>'\n",
              "          + ' to learn more about interactive tables.';\n",
              "        element.innerHTML = '';\n",
              "        dataTable['output_type'] = 'display_data';\n",
              "        await google.colab.output.renderOutput(dataTable, element);\n",
              "        const docLink = document.createElement('div');\n",
              "        docLink.innerHTML = docLinkHtml;\n",
              "        element.appendChild(docLink);\n",
              "      }\n",
              "    </script>\n",
              "  </div>\n",
              "\n",
              "\n",
              "<div id=\"df-3b6ba20f-c7ef-4e60-afb5-62dd03388e45\">\n",
              "  <button class=\"colab-df-quickchart\" onclick=\"quickchart('df-3b6ba20f-c7ef-4e60-afb5-62dd03388e45')\"\n",
              "            title=\"Suggest charts\"\n",
              "            style=\"display:none;\">\n",
              "\n",
              "<svg xmlns=\"http://www.w3.org/2000/svg\" height=\"24px\"viewBox=\"0 0 24 24\"\n",
              "     width=\"24px\">\n",
              "    <g>\n",
              "        <path d=\"M19 3H5c-1.1 0-2 .9-2 2v14c0 1.1.9 2 2 2h14c1.1 0 2-.9 2-2V5c0-1.1-.9-2-2-2zM9 17H7v-7h2v7zm4 0h-2V7h2v10zm4 0h-2v-4h2v4z\"/>\n",
              "    </g>\n",
              "</svg>\n",
              "  </button>\n",
              "\n",
              "<style>\n",
              "  .colab-df-quickchart {\n",
              "      --bg-color: #E8F0FE;\n",
              "      --fill-color: #1967D2;\n",
              "      --hover-bg-color: #E2EBFA;\n",
              "      --hover-fill-color: #174EA6;\n",
              "      --disabled-fill-color: #AAA;\n",
              "      --disabled-bg-color: #DDD;\n",
              "  }\n",
              "\n",
              "  [theme=dark] .colab-df-quickchart {\n",
              "      --bg-color: #3B4455;\n",
              "      --fill-color: #D2E3FC;\n",
              "      --hover-bg-color: #434B5C;\n",
              "      --hover-fill-color: #FFFFFF;\n",
              "      --disabled-bg-color: #3B4455;\n",
              "      --disabled-fill-color: #666;\n",
              "  }\n",
              "\n",
              "  .colab-df-quickchart {\n",
              "    background-color: var(--bg-color);\n",
              "    border: none;\n",
              "    border-radius: 50%;\n",
              "    cursor: pointer;\n",
              "    display: none;\n",
              "    fill: var(--fill-color);\n",
              "    height: 32px;\n",
              "    padding: 0;\n",
              "    width: 32px;\n",
              "  }\n",
              "\n",
              "  .colab-df-quickchart:hover {\n",
              "    background-color: var(--hover-bg-color);\n",
              "    box-shadow: 0 1px 2px rgba(60, 64, 67, 0.3), 0 1px 3px 1px rgba(60, 64, 67, 0.15);\n",
              "    fill: var(--button-hover-fill-color);\n",
              "  }\n",
              "\n",
              "  .colab-df-quickchart-complete:disabled,\n",
              "  .colab-df-quickchart-complete:disabled:hover {\n",
              "    background-color: var(--disabled-bg-color);\n",
              "    fill: var(--disabled-fill-color);\n",
              "    box-shadow: none;\n",
              "  }\n",
              "\n",
              "  .colab-df-spinner {\n",
              "    border: 2px solid var(--fill-color);\n",
              "    border-color: transparent;\n",
              "    border-bottom-color: var(--fill-color);\n",
              "    animation:\n",
              "      spin 1s steps(1) infinite;\n",
              "  }\n",
              "\n",
              "  @keyframes spin {\n",
              "    0% {\n",
              "      border-color: transparent;\n",
              "      border-bottom-color: var(--fill-color);\n",
              "      border-left-color: var(--fill-color);\n",
              "    }\n",
              "    20% {\n",
              "      border-color: transparent;\n",
              "      border-left-color: var(--fill-color);\n",
              "      border-top-color: var(--fill-color);\n",
              "    }\n",
              "    30% {\n",
              "      border-color: transparent;\n",
              "      border-left-color: var(--fill-color);\n",
              "      border-top-color: var(--fill-color);\n",
              "      border-right-color: var(--fill-color);\n",
              "    }\n",
              "    40% {\n",
              "      border-color: transparent;\n",
              "      border-right-color: var(--fill-color);\n",
              "      border-top-color: var(--fill-color);\n",
              "    }\n",
              "    60% {\n",
              "      border-color: transparent;\n",
              "      border-right-color: var(--fill-color);\n",
              "    }\n",
              "    80% {\n",
              "      border-color: transparent;\n",
              "      border-right-color: var(--fill-color);\n",
              "      border-bottom-color: var(--fill-color);\n",
              "    }\n",
              "    90% {\n",
              "      border-color: transparent;\n",
              "      border-bottom-color: var(--fill-color);\n",
              "    }\n",
              "  }\n",
              "</style>\n",
              "\n",
              "  <script>\n",
              "    async function quickchart(key) {\n",
              "      const quickchartButtonEl =\n",
              "        document.querySelector('#' + key + ' button');\n",
              "      quickchartButtonEl.disabled = true;  // To prevent multiple clicks.\n",
              "      quickchartButtonEl.classList.add('colab-df-spinner');\n",
              "      try {\n",
              "        const charts = await google.colab.kernel.invokeFunction(\n",
              "            'suggestCharts', [key], {});\n",
              "      } catch (error) {\n",
              "        console.error('Error during call to suggestCharts:', error);\n",
              "      }\n",
              "      quickchartButtonEl.classList.remove('colab-df-spinner');\n",
              "      quickchartButtonEl.classList.add('colab-df-quickchart-complete');\n",
              "    }\n",
              "    (() => {\n",
              "      let quickchartButtonEl =\n",
              "        document.querySelector('#df-3b6ba20f-c7ef-4e60-afb5-62dd03388e45 button');\n",
              "      quickchartButtonEl.style.display =\n",
              "        google.colab.kernel.accessAllowed ? 'block' : 'none';\n",
              "    })();\n",
              "  </script>\n",
              "</div>\n",
              "\n",
              "    </div>\n",
              "  </div>\n"
            ]
          },
          "metadata": {},
          "execution_count": 27
        }
      ]
    },
    {
      "cell_type": "code",
      "source": [
        "monthly_sales = df.groupby('month')['Total'].sum()\n",
        "monthly_sales"
      ],
      "metadata": {
        "colab": {
          "base_uri": "https://localhost:8080/"
        },
        "id": "RMiwlNe5aAzE",
        "outputId": "36189d59-acd9-4aaa-b2d0-1b338180efc1"
      },
      "execution_count": null,
      "outputs": [
        {
          "output_type": "execute_result",
          "data": {
            "text/plain": [
              "month\n",
              "1    116291.868\n",
              "2     97219.374\n",
              "3    109455.507\n",
              "Name: Total, dtype: float64"
            ]
          },
          "metadata": {},
          "execution_count": 28
        }
      ]
    },
    {
      "cell_type": "code",
      "source": [
        "percentage_sales_month = (monthly_sales/monthly_sales.sum())*100\n",
        "percentage_sales_month"
      ],
      "metadata": {
        "colab": {
          "base_uri": "https://localhost:8080/"
        },
        "id": "KmdFpeNwaA08",
        "outputId": "fa58319e-90a5-464e-eca0-112f7358d2fa"
      },
      "execution_count": null,
      "outputs": [
        {
          "output_type": "execute_result",
          "data": {
            "text/plain": [
              "month\n",
              "1    36.007381\n",
              "2    30.101976\n",
              "3    33.890643\n",
              "Name: Total, dtype: float64"
            ]
          },
          "metadata": {},
          "execution_count": 29
        }
      ]
    },
    {
      "cell_type": "code",
      "source": [
        "plt.pie(labels= 'percentage_sales_month')"
      ],
      "metadata": {
        "colab": {
          "base_uri": "https://localhost:8080/",
          "height": 175
        },
        "id": "hO_LJHIVaA4b",
        "outputId": "359224bf-8518-467e-ca60-fdf00f7202a3"
      },
      "execution_count": null,
      "outputs": [
        {
          "output_type": "error",
          "ename": "TypeError",
          "evalue": "pie() missing 1 required positional argument: 'x'",
          "traceback": [
            "\u001b[0;31m---------------------------------------------------------------------------\u001b[0m",
            "\u001b[0;31mTypeError\u001b[0m                                 Traceback (most recent call last)",
            "\u001b[0;32m<ipython-input-19-6c95f5352a92>\u001b[0m in \u001b[0;36m<cell line: 1>\u001b[0;34m()\u001b[0m\n\u001b[0;32m----> 1\u001b[0;31m \u001b[0mplt\u001b[0m\u001b[0;34m.\u001b[0m\u001b[0mpie\u001b[0m\u001b[0;34m(\u001b[0m\u001b[0mlabels\u001b[0m\u001b[0;34m=\u001b[0m \u001b[0;34m'percentage_sales_month'\u001b[0m\u001b[0;34m)\u001b[0m\u001b[0;34m\u001b[0m\u001b[0;34m\u001b[0m\u001b[0m\n\u001b[0m",
            "\u001b[0;31mTypeError\u001b[0m: pie() missing 1 required positional argument: 'x'"
          ]
        }
      ]
    },
    {
      "cell_type": "markdown",
      "source": [
        "###**8.\tWhat is the percentage of sales among all days?**"
      ],
      "metadata": {
        "id": "uj4hJxLSdYDm"
      }
    },
    {
      "cell_type": "code",
      "source": [
        "daily_sales = df.groupby('day')['Total'].sum()\n",
        "daily_sales"
      ],
      "metadata": {
        "colab": {
          "base_uri": "https://localhost:8080/"
        },
        "id": "uIFp2bAjaLda",
        "outputId": "e84c4da4-d058-4cf0-db82-e381d9684345"
      },
      "execution_count": null,
      "outputs": [
        {
          "output_type": "execute_result",
          "data": {
            "text/plain": [
              "day\n",
              "1      9824.0835\n",
              "2     12646.7565\n",
              "3     12399.2295\n",
              "4      7957.6245\n",
              "5     12798.6915\n",
              "6      9612.2250\n",
              "7     11500.7130\n",
              "8     13503.7770\n",
              "9     13767.2850\n",
              "10     9865.2015\n",
              "11     9618.3675\n",
              "12    11861.3040\n",
              "13     5449.0485\n",
              "14    13635.3420\n",
              "15    15717.4605\n",
              "16     9947.3220\n",
              "17    10418.6145\n",
              "18     5569.3365\n",
              "19    14883.2355\n",
              "20    11820.0705\n",
              "21     5663.3535\n",
              "22     7326.2280\n",
              "23    12428.8185\n",
              "24    11601.9750\n",
              "25    11780.5695\n",
              "26     8828.1900\n",
              "27    13398.1680\n",
              "28     9326.1315\n",
              "29     7539.8085\n",
              "30     7045.3215\n",
              "31     5232.4965\n",
              "Name: Total, dtype: float64"
            ]
          },
          "metadata": {},
          "execution_count": 31
        }
      ]
    },
    {
      "cell_type": "code",
      "source": [
        "percentage_sales_daily = (daily_sales/daily_sales.sum())*100\n",
        "percentage_sales_daily"
      ],
      "metadata": {
        "colab": {
          "base_uri": "https://localhost:8080/"
        },
        "id": "fGcF_A_saLgG",
        "outputId": "54041b4d-c3ba-42e1-fc0f-f52468358303"
      },
      "execution_count": null,
      "outputs": [
        {
          "output_type": "execute_result",
          "data": {
            "text/plain": [
              "day\n",
              "1     3.041825\n",
              "2     3.915808\n",
              "3     3.839166\n",
              "4     2.463914\n",
              "5     3.962851\n",
              "6     2.976227\n",
              "7     3.560959\n",
              "8     4.181166\n",
              "9     4.262756\n",
              "10    3.054556\n",
              "11    2.978129\n",
              "12    3.672608\n",
              "13    1.687186\n",
              "14    4.221903\n",
              "15    4.866588\n",
              "16    3.079983\n",
              "17    3.225909\n",
              "18    1.724430\n",
              "19    4.608287\n",
              "20    3.659841\n",
              "21    1.753541\n",
              "22    2.268416\n",
              "23    3.848328\n",
              "24    3.592313\n",
              "25    3.647611\n",
              "26    2.733467\n",
              "27    4.148467\n",
              "28    2.887644\n",
              "29    2.334546\n",
              "30    2.181439\n",
              "31    1.620135\n",
              "Name: Total, dtype: float64"
            ]
          },
          "metadata": {},
          "execution_count": 32
        }
      ]
    },
    {
      "cell_type": "code",
      "source": [
        "sns.lineplot(x = percentage_sales_daily.index, y = percentage_sales_daily);"
      ],
      "metadata": {
        "colab": {
          "base_uri": "https://localhost:8080/",
          "height": 452
        },
        "id": "g7wUWnOBaLjf",
        "outputId": "a4729240-1e7d-42fa-aa8c-98d3fcd0f1dd"
      },
      "execution_count": null,
      "outputs": [
        {
          "output_type": "display_data",
          "data": {
            "text/plain": [
              "<Figure size 640x480 with 1 Axes>"
            ],
            "image/png": "[encoded data removed]"
          },
          "metadata": {}
        }
      ]
    },
    {
      "cell_type": "markdown",
      "source": [
        "###**8.\tWhat is the percentage of sales among all hours?**"
      ],
      "metadata": {
        "id": "-2ovZDhEdclL"
      }
    },
    {
      "cell_type": "code",
      "source": [
        "hour_sales = df.groupby('hours')['Total'].sum()\n",
        "hour_sales"
      ],
      "metadata": {
        "colab": {
          "base_uri": "https://localhost:8080/"
        },
        "id": "xoYVLog-aLor",
        "outputId": "36b5f4b0-0509-41cf-84ac-688d1527a1ee"
      },
      "execution_count": null,
      "outputs": [
        {
          "output_type": "execute_result",
          "data": {
            "text/plain": [
              "hours\n",
              "10    31421.4810\n",
              "11    30377.3295\n",
              "12    26065.8825\n",
              "13    34723.2270\n",
              "14    30828.3990\n",
              "15    31179.5085\n",
              "16    25226.3235\n",
              "17    24445.2180\n",
              "18    26030.3400\n",
              "19    39699.5130\n",
              "20    22969.5270\n",
              "Name: Total, dtype: float64"
            ]
          },
          "metadata": {},
          "execution_count": 34
        }
      ]
    },
    {
      "cell_type": "code",
      "source": [
        "percentage_sales_hour = (hour_sales/hour_sales.sum())*100\n",
        "percentage_sales_hour"
      ],
      "metadata": {
        "colab": {
          "base_uri": "https://localhost:8080/"
        },
        "id": "-lMC43z2aLwg",
        "outputId": "030d048d-6ca6-4a4a-ca66-915103964d6b"
      },
      "execution_count": null,
      "outputs": [
        {
          "output_type": "execute_result",
          "data": {
            "text/plain": [
              "hours\n",
              "10     9.729014\n",
              "11     9.405714\n",
              "12     8.070764\n",
              "13    10.751332\n",
              "14     9.545379\n",
              "15     9.654092\n",
              "16     7.810811\n",
              "17     7.568958\n",
              "18     8.059758\n",
              "19    12.292136\n",
              "20     7.112041\n",
              "Name: Total, dtype: float64"
            ]
          },
          "metadata": {},
          "execution_count": 35
        }
      ]
    },
    {
      "cell_type": "code",
      "source": [
        "sns.lineplot(x = percentage_sales_hour.index, y = percentage_sales_hour);"
      ],
      "metadata": {
        "colab": {
          "base_uri": "https://localhost:8080/",
          "height": 449
        },
        "id": "oo9iboNvaL2k",
        "outputId": "e0fb0e0a-6d97-4ac1-a3a3-e2ad18aef7d8"
      },
      "execution_count": null,
      "outputs": [
        {
          "output_type": "display_data",
          "data": {
            "text/plain": [
              "<Figure size 640x480 with 1 Axes>"
            ],
            "image/png": "[encoded data removed]"
          },
          "metadata": {}
        }
      ]
    },
    {
      "cell_type": "code",
      "source": [],
      "metadata": {
        "id": "fdDvLm-7bTnZ"
      },
      "execution_count": null,
      "outputs": []
    },
    {
      "cell_type": "code",
      "source": [],
      "metadata": {
        "id": "Tg87j_fgaMNN"
      },
      "execution_count": null,
      "outputs": []
    },
    {
      "cell_type": "markdown",
      "source": [
        "# New Section"
      ],
      "metadata": {
        "id": "d96YQ5W7749p"
      }
    },
    {
      "cell_type": "markdown",
      "source": [
        "5. What is the most used way of payment?\n"
      ],
      "metadata": {
        "id": "5M99NxPm8tzZ"
      }
    },
    {
      "cell_type": "code",
      "source": [
        "payment_counts = df['Payment'].value_counts()\n",
        "plt.figure(figsize=(10, 6))\n",
        "sns.barplot(x='Branch', y='Total', hue='Product line', data=top_product_lines)\n",
        "plt.title('Product Line with Higher Sales in Each Branch')\n",
        "plt.show()"
      ],
      "metadata": {
        "colab": {
          "base_uri": "https://localhost:8080/",
          "height": 564
        },
        "id": "N-28Pu1M8o3q",
        "outputId": "241cbad0-a93c-4b84-b6d8-1271918c5497"
      },
      "execution_count": null,
      "outputs": [
        {
          "output_type": "display_data",
          "data": {
            "text/plain": [
              "<Figure size 1000x600 with 1 Axes>"
            ],
            "image/png": "[encoded data removed]"
          },
          "metadata": {}
        }
      ]
    },
    {
      "cell_type": "code",
      "source": [],
      "metadata": {
        "id": "d9rxPiOR8wds"
      },
      "execution_count": null,
      "outputs": []
    },
    {
      "cell_type": "markdown",
      "source": [
        "6.Compare the Gross incomes for the all branches\n",
        "\n"
      ],
      "metadata": {
        "id": "SN7Yk69485gD"
      }
    },
    {
      "cell_type": "code",
      "source": [
        "branch_gross_income = df.groupby('Branch')['gross income'].sum().reset_index()\n",
        "\n",
        "sns.barplot(x='Branch', y='gross income', data=branch_gross_income, palette='muted')\n",
        "plt.title('Comparison of Gross Incomes for All Branches')\n",
        "plt.xlabel('Branch')\n",
        "plt.ylabel('Total Gross Income')\n",
        "plt.show()"
      ],
      "metadata": {
        "colab": {
          "base_uri": "https://localhost:8080/",
          "height": 472
        },
        "id": "MmMCNn9687Ia",
        "outputId": "7dde23fc-b53c-4803-a3c3-f339a348d395"
      },
      "execution_count": null,
      "outputs": [
        {
          "output_type": "display_data",
          "data": {
            "text/plain": [
              "<Figure size 640x480 with 1 Axes>"
            ],
            "image/png": "[encoded data removed]"
          },
          "metadata": {}
        }
      ]
    },
    {
      "cell_type": "markdown",
      "source": [
        "7. What is the Percentage of Member & Normal customers share in sales?\n"
      ],
      "metadata": {
        "id": "Ev2_g3MZ8_bE"
      }
    },
    {
      "cell_type": "code",
      "source": [
        "customer_counts = df['Customer type'].value_counts()\n",
        "total_customers = df['Customer type'].count()\n",
        "percentage_member = (customer_counts['Member'] / total_customers) * 100\n",
        "percentage_normal = (customer_counts['Normal'] / total_customers) * 100\n",
        "\n",
        "sns.barplot(x=['Member', 'Normal'], y=[percentage_member, percentage_normal])\n",
        "plt.title('Percentage of Member and Normal Customers')\n",
        "plt.ylabel('Percentage')\n",
        "plt.show()"
      ],
      "metadata": {
        "colab": {
          "base_uri": "https://localhost:8080/",
          "height": 452
        },
        "id": "w4ew6jcq88AS",
        "outputId": "89b0483e-f6da-45f2-b7b1-94a9a4e4434b"
      },
      "execution_count": null,
      "outputs": [
        {
          "output_type": "display_data",
          "data": {
            "text/plain": [
              "<Figure size 640x480 with 1 Axes>"
            ],
            "image/png": "[encoded data removed]"
          },
          "metadata": {}
        }
      ]
    },
    {
      "cell_type": "code",
      "source": [],
      "metadata": {
        "id": "rn4IV_r09BLG"
      },
      "execution_count": null,
      "outputs": []
    }
  ]
}