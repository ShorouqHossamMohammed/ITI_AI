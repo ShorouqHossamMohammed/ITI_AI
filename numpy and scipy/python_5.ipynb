{
 "cells": [
  {
   "cell_type": "markdown",
   "metadata": {
    "id": "V_MS07yaX29i"
   },
   "source": [
    "#Q3: Implement the L1 and L2 loss functions¶\n",
    "**Exercise:** Implement the numpy vectorized version of the L1 loss. You may find the function abs(x) (absolute value of x) useful."
   ]
  },
  {
   "cell_type": "code",
   "execution_count": 1,
   "metadata": {
    "id": "c4eAgKYLXloo"
   },
   "outputs": [],
   "source": [
    "import numpy as np\n",
    "\n",
    "def l1_loss(y_hat, y):\n",
    "    return np.sum(np.abs(y - y_hat))"
   ]
  },
  {
   "cell_type": "code",
   "execution_count": 2,
   "metadata": {
    "colab": {
     "base_uri": "https://localhost:8080/"
    },
    "id": "xoplyYTgYi8Y",
    "outputId": "a24bf3cb-ee51-4994-a7f7-e8e91727111a"
   },
   "outputs": [
    {
     "name": "stdout",
     "output_type": "stream",
     "text": [
      "l1=1.1\n"
     ]
    }
   ],
   "source": [
    "yhat = np.array([0.9,0.2,0.1,.4,.9])\n",
    "y = np.array([1,0,0,1,1])\n",
    "\n",
    "l1Loss = l1_loss(yhat,y)\n",
    "print(\"l1=\"+str(l1Loss))"
   ]
  },
  {
   "cell_type": "markdown",
   "metadata": {
    "id": "26Uue3DCaU6k"
   },
   "source": [
    "**Exercise:** Implement the numpy vectorized version of the L2 loss. There are several way of implementing the L2 loss but you may find the function np.dot() useful"
   ]
  },
  {
   "cell_type": "code",
   "execution_count": 6,
   "metadata": {
    "id": "4N5K7yj9Ztii"
   },
   "outputs": [],
   "source": [
    "\n",
    "def L2(yhat, y):\n",
    "   return np.sum(np.square(y - yhat))\n"
   ]
  },
  {
   "cell_type": "code",
   "execution_count": 7,
   "metadata": {
    "colab": {
     "base_uri": "https://localhost:8080/"
    },
    "id": "y1g5cwOIa9g0",
    "outputId": "c7d31e63-9ecf-4b04-856d-d8b86e846e19"
   },
   "outputs": [
    {
     "name": "stdout",
     "output_type": "stream",
     "text": [
      "L2 = 0.43\n"
     ]
    }
   ],
   "source": [
    "yhat = np.array([.9, 0.2, 0.1, .4, .9])\n",
    "y = np.array([1 ,  0 ,  0 ,  1, 1])\n",
    "\n",
    "l2_loss = L2(yhat,y)\n",
    "\n",
    "print(\"L2 = \" + str(l2_loss))"
   ]
  },
  {
   "cell_type": "markdown",
   "metadata": {
    "id": "eFr13eNEboVA"
   },
   "source": [
    "#Q4: comparing the dot product using parallelism in python vs numpy_dot_product vs using the for_loop and compute the time needed for each.¶"
   ]
  },
  {
   "cell_type": "code",
   "execution_count": 13,
   "metadata": {
    "id": "l-F4lSRneP1o"
   },
   "outputs": [],
   "source": [
    "import numpy as np\n",
    "import time\n",
    "from multiprocessing import Pool"
   ]
  },
  {
   "cell_type": "code",
   "execution_count": 14,
   "metadata": {
    "id": "H3dnCZuvdkql"
   },
   "outputs": [],
   "source": [
    "#calculate dot product using a for loop\n",
    "\n",
    "def dot_product_for_loop(x, y):\n",
    "    result = 0\n",
    "    for i in range(len(x)):\n",
    "        result += x[i] * y[i]\n",
    "    return result"
   ]
  },
  {
   "cell_type": "code",
   "execution_count": 15,
   "metadata": {
    "id": "Mkth4wcTdpTQ"
   },
   "outputs": [],
   "source": [
    "# parallel dot product calculation\n",
    "\n",
    "def parallel_dot_product(args):\n",
    "    x, y = args\n",
    "    return np.dot(x, y)"
   ]
  },
  {
   "cell_type": "code",
   "execution_count": 16,
   "metadata": {
    "id": "OovMarNhdz9j"
   },
   "outputs": [],
   "source": [
    "#  random vectors for testing\n",
    "size = 1000\n",
    "a = np.random.rand(size)\n",
    "b = np.random.rand(size)"
   ]
  },
  {
   "cell_type": "code",
   "execution_count": 17,
   "metadata": {
    "id": "4uhJ5qw_d858"
   },
   "outputs": [],
   "source": [
    "# Measure time for dot product using for loop:\n",
    "\n",
    "start_time = time.time()\n",
    "result_for_loop = dot_product_for_loop(a, b)\n",
    "for_loop_time = time.time() - start_time"
   ]
  },
  {
   "cell_type": "code",
   "execution_count": 18,
   "metadata": {
    "id": "tuTkqHbDeH_H"
   },
   "outputs": [],
   "source": [
    "# time for numpy.dot():\n",
    "\n",
    "start_time = time.time()\n",
    "result_np_dot = np.dot(a, b)\n",
    "np_dot_time = time.time() - start_time"
   ]
  },
  {
   "cell_type": "code",
   "execution_count": 19,
   "metadata": {
    "id": "Tntw9cZCeds3"
   },
   "outputs": [],
   "source": [
    "# time for parallel dot product :\n",
    "\n",
    "start_time = time.time()\n",
    "with Pool() as pool:\n",
    "    result_parallel = np.sum(pool.map(parallel_dot_product, [(a, b)]))\n",
    "parallel_time = time.time() - start_time"
   ]
  },
  {
   "cell_type": "code",
   "execution_count": 20,
   "metadata": {
    "colab": {
     "base_uri": "https://localhost:8080/"
    },
    "id": "yZ7OTfxkemEP",
    "outputId": "3d334ba3-ef7f-4ea9-da60-904bdaed5c78"
   },
   "outputs": [
    {
     "name": "stdout",
     "output_type": "stream",
     "text": [
      "For Loop Time: 0.0007951259613037109\n",
      "Numpy Dot Time: 0.0001666545867919922\n",
      "Parallel Dot Time: 0.15682244300842285\n"
     ]
    }
   ],
   "source": [
    "# printing results:\n",
    "\n",
    "print(f\"For Loop Time: {for_loop_time}\")\n",
    "print(f\"Numpy Dot Time: {np_dot_time}\")\n",
    "print(f\"Parallel Dot Time: {parallel_time}\")"
   ]
  },
  {
   "cell_type": "code",
   "execution_count": null,
   "metadata": {
    "id": "2gUrIzjwevEU"
   },
   "outputs": [],
   "source": []
  }
 ],
 "metadata": {
  "colab": {
   "provenance": []
  },
  "kernelspec": {
   "display_name": "Python 3 (ipykernel)",
   "language": "python",
   "name": "python3"
  },
  "language_info": {
   "codemirror_mode": {
    "name": "ipython",
    "version": 3
   },
   "file_extension": ".py",
   "mimetype": "text/x-python",
   "name": "python",
   "nbconvert_exporter": "python",
   "pygments_lexer": "ipython3",
   "version": "3.11.5"
  }
 },
 "nbformat": 4,
 "nbformat_minor": 1
}
