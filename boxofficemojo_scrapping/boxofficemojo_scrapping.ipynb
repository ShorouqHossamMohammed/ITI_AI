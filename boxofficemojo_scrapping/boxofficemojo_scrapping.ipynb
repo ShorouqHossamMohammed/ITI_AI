{
 "cells": [
  {
   "cell_type": "code",
   "execution_count": 1,
   "id": "b39e55a1",
   "metadata": {},
   "outputs": [],
   "source": [
    "from selenium import webdriver\n",
    "import pandas as pd"
   ]
  },
  {
   "cell_type": "code",
   "execution_count": 2,
   "id": "5c24e823",
   "metadata": {},
   "outputs": [],
   "source": [
    "driver = webdriver.Chrome()"
   ]
  },
  {
   "cell_type": "code",
   "execution_count": 3,
   "id": "84ee7214",
   "metadata": {},
   "outputs": [],
   "source": [
    "driver.get(\"https://www.boxofficemojo.com/chart/top_lifetime_gross/?area=XWW\")"
   ]
  },
  {
   "cell_type": "code",
   "execution_count": 4,
   "id": "74471471",
   "metadata": {},
   "outputs": [],
   "source": [
    "ranks = []\n",
    "names = []\n",
    "lifetimes = []\n",
    "\n",
    "try:\n",
    "    rank = driver.find_elements(\"xpath\",\"//td[@class='a-text-right mojo-header-column mojo-truncate mojo-field-type-rank']\")\n",
    "    name = driver.find_elements(\"xpath\",\"//td[@class='a-text-left mojo-field-type-title']/a[@class='a-link-normal']\")\n",
    "    lifetime = driver.find_elements(\"xpath\",\"//td[@class='a-text-right mojo-field-type-money']\")\n",
    "\n",
    "except:\n",
    "    print('error')\n",
    "    \n",
    "for r,n,l in zip(rank,name,lifetime):\n",
    "    if r.text and n.text and l.text is not None:\n",
    "        ranks.append(r.text)\n",
    "        names.append(n.text)\n",
    "        lifetimes.append(l.text)"
   ]
  },
  {
   "cell_type": "code",
   "execution_count": 5,
   "id": "9f10482c",
   "metadata": {},
   "outputs": [
    {
     "data": {
      "text/html": [
       "<div>\n",
       "<style scoped>\n",
       "    .dataframe tbody tr th:only-of-type {\n",
       "        vertical-align: middle;\n",
       "    }\n",
       "\n",
       "    .dataframe tbody tr th {\n",
       "        vertical-align: top;\n",
       "    }\n",
       "\n",
       "    .dataframe thead th {\n",
       "        text-align: right;\n",
       "    }\n",
       "</style>\n",
       "<table border=\"1\" class=\"dataframe\">\n",
       "  <thead>\n",
       "    <tr style=\"text-align: right;\">\n",
       "      <th></th>\n",
       "      <th>Ranks</th>\n",
       "      <th>Names</th>\n",
       "      <th>Lifetimes</th>\n",
       "    </tr>\n",
       "  </thead>\n",
       "  <tbody>\n",
       "    <tr>\n",
       "      <th>0</th>\n",
       "      <td>1</td>\n",
       "      <td>Avatar</td>\n",
       "      <td>$2,923,706,026</td>\n",
       "    </tr>\n",
       "    <tr>\n",
       "      <th>1</th>\n",
       "      <td>2</td>\n",
       "      <td>Avengers: Endgame</td>\n",
       "      <td>$2,799,439,100</td>\n",
       "    </tr>\n",
       "    <tr>\n",
       "      <th>2</th>\n",
       "      <td>3</td>\n",
       "      <td>Avatar: The Way of Water</td>\n",
       "      <td>$2,320,250,281</td>\n",
       "    </tr>\n",
       "    <tr>\n",
       "      <th>3</th>\n",
       "      <td>4</td>\n",
       "      <td>Titanic</td>\n",
       "      <td>$2,264,743,305</td>\n",
       "    </tr>\n",
       "    <tr>\n",
       "      <th>4</th>\n",
       "      <td>5</td>\n",
       "      <td>Star Wars: Episode VII - The Force Awakens</td>\n",
       "      <td>$2,071,310,218</td>\n",
       "    </tr>\n",
       "    <tr>\n",
       "      <th>...</th>\n",
       "      <td>...</td>\n",
       "      <td>...</td>\n",
       "      <td>...</td>\n",
       "    </tr>\n",
       "    <tr>\n",
       "      <th>195</th>\n",
       "      <td>196</td>\n",
       "      <td>The Little Mermaid</td>\n",
       "      <td>$569,626,289</td>\n",
       "    </tr>\n",
       "    <tr>\n",
       "      <th>196</th>\n",
       "      <td>197</td>\n",
       "      <td>Kong: Skull Island</td>\n",
       "      <td>$568,652,812</td>\n",
       "    </tr>\n",
       "    <tr>\n",
       "      <th>197</th>\n",
       "      <td>198</td>\n",
       "      <td>Mission: Impossible - Dead Reckoning Part One</td>\n",
       "      <td>$567,535,383</td>\n",
       "    </tr>\n",
       "    <tr>\n",
       "      <th>198</th>\n",
       "      <td>199</td>\n",
       "      <td>The Smurfs</td>\n",
       "      <td>$563,749,323</td>\n",
       "    </tr>\n",
       "    <tr>\n",
       "      <th>199</th>\n",
       "      <td>200</td>\n",
       "      <td>Cars 2</td>\n",
       "      <td>$559,852,396</td>\n",
       "    </tr>\n",
       "  </tbody>\n",
       "</table>\n",
       "<p>200 rows × 3 columns</p>\n",
       "</div>"
      ],
      "text/plain": [
       "    Ranks                                          Names       Lifetimes\n",
       "0       1                                         Avatar  $2,923,706,026\n",
       "1       2                              Avengers: Endgame  $2,799,439,100\n",
       "2       3                       Avatar: The Way of Water  $2,320,250,281\n",
       "3       4                                        Titanic  $2,264,743,305\n",
       "4       5     Star Wars: Episode VII - The Force Awakens  $2,071,310,218\n",
       "..    ...                                            ...             ...\n",
       "195   196                             The Little Mermaid    $569,626,289\n",
       "196   197                             Kong: Skull Island    $568,652,812\n",
       "197   198  Mission: Impossible - Dead Reckoning Part One    $567,535,383\n",
       "198   199                                     The Smurfs    $563,749,323\n",
       "199   200                                         Cars 2    $559,852,396\n",
       "\n",
       "[200 rows x 3 columns]"
      ]
     },
     "execution_count": 5,
     "metadata": {},
     "output_type": "execute_result"
    }
   ],
   "source": [
    "data = {\"Ranks\": ranks,\"Names\": names,\"Lifetimes\": lifetimes}\n",
    "df  = pd.DataFrame(data)\n",
    "df"
   ]
  },
  {
   "cell_type": "code",
   "execution_count": 8,
   "id": "f0a88780",
   "metadata": {},
   "outputs": [],
   "source": [
    "df.to_csv(\"boxofficemojo_scrapping.csv\")"
   ]
  },
  {
   "cell_type": "code",
   "execution_count": null,
   "id": "8e0a6790",
   "metadata": {},
   "outputs": [],
   "source": []
  }
 ],
 "metadata": {
  "kernelspec": {
   "display_name": "Python 3 (ipykernel)",
   "language": "python",
   "name": "python3"
  },
  "language_info": {
   "codemirror_mode": {
    "name": "ipython",
    "version": 3
   },
   "file_extension": ".py",
   "mimetype": "text/x-python",
   "name": "python",
   "nbconvert_exporter": "python",
   "pygments_lexer": "ipython3",
   "version": "3.11.5"
  }
 },
 "nbformat": 4,
 "nbformat_minor": 5
}
