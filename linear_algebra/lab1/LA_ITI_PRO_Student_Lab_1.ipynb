{
 "cells": [
  {
   "cell_type": "markdown",
   "metadata": {},
   "source": [
    "# LAB 1: Matrix and Vector Computations in python\n",
    "In this lab you will use python to study the following topics:\n",
    "\n",
    "- How to create matrices and vectors in python.\n",
    "\n",
    "- How to manipulate matrices in python and create matrices of special types.\n",
    "\n",
    "- How to add matrices and multiply a vector by a matrix by python.\n",
    "\n",
    "- Solving System of Linear Equations Using Gaussian Elimination.\n",
    "\n",
    "- Matrix Multiplication using Different views."
   ]
  },
  {
   "cell_type": "markdown",
   "metadata": {},
   "source": [
    "# First: you should run this cell"
   ]
  },
  {
   "cell_type": "code",
   "execution_count": 2,
   "metadata": {},
   "outputs": [],
   "source": [
    "# Make all numpy available via shorter 'np' prefix\n",
    "import numpy as np\n",
    "\n",
    "import sympy as sym"
   ]
  },
  {
   "cell_type": "markdown",
   "metadata": {},
   "source": [
    "# Question 1 :Declaring scalars, vectors, and matrices\n",
    "\n",
    "a) Use [numpy.array](https://numpy.org/doc/stable/reference/generated/numpy.array.html) to declare the following:\n",
    "\n",
    "1. A scalar $s = 5$\n",
    "2. A vector $v = \\begin{bmatrix} 5  \\\\ -2 \\\\ 4  \\\\ \\end{bmatrix}$\n",
    "3. A matrix $A = \\begin{bmatrix} 1 & 2 & 3  \\\\ 4 & 5 & 6 \\\\ 7 & 8 & 9  \\\\ \\end{bmatrix}$\n",
    "4. A matrix $B = \\begin{bmatrix} 1 & 2 & 3  \\\\ 4 & 5 & 6 \\\\ \\end{bmatrix}$\n",
    "5. A matrix $C = \\begin{bmatrix} 1 & 2   \\\\ 3 & 4  \\\\ 5 & 6   \\\\ \\end{bmatrix}$"
   ]
  },
  {
   "cell_type": "code",
   "execution_count": 2,
   "metadata": {},
   "outputs": [
    {
     "name": "stdout",
     "output_type": "stream",
     "text": [
      "s = 5\n",
      "\n",
      "V =\n",
      " [[ 5]\n",
      " [-2]\n",
      " [ 4]]\n",
      "\n",
      "A =\n",
      " [[1 2 3]\n",
      " [4 5 6]\n",
      " [7 8 9]]\n",
      "\n",
      "B =\n",
      " [[1 2 3]\n",
      " [4 5 6]]\n",
      "\n",
      "C =\n",
      " [[1 2]\n",
      " [3 4]\n",
      " [5 6]]\n",
      "\n"
     ]
    }
   ],
   "source": [
    "# scalar s\n",
    "s = np.array(5)\n",
    "# vector v\n",
    "v = np.array([[5],[-2],[4]])\n",
    "# matrix A\n",
    "A = np.arange(1,10).reshape(3,3)\n",
    "# matrix B \n",
    "B = np.arange(1,7).reshape(2,-1)\n",
    "# matrix C \n",
    "C = np.arange(1,7).reshape(-1,2)\n",
    "\n",
    "print(f's = {s}\\n')\n",
    "print(f'V =\\n {v}\\n')\n",
    "print(f'A =\\n {A}\\n')\n",
    "print(f'B =\\n {B}\\n')\n",
    "print(f'C =\\n {C}\\n')\n",
    "\n"
   ]
  },
  {
   "cell_type": "code",
   "execution_count": 2,
   "metadata": {},
   "outputs": [
    {
     "name": "stdout",
     "output_type": "stream",
     "text": [
      "s = 5\n",
      "\n",
      "v =\n",
      " [[ 5]\n",
      " [-2]\n",
      " [ 4]]\n",
      "\n",
      "A =\n",
      " [[1 2 3]\n",
      " [4 5 6]\n",
      " [7 8 9]]\n",
      "\n",
      "B =\n",
      " [[1 2 3]\n",
      " [4 5 6]]\n",
      "\n",
      "C =\n",
      " [[1 2]\n",
      " [3 4]\n",
      " [5 6]]\n",
      "\n"
     ]
    }
   ],
   "source": [
    "#type your code here:\n"
   ]
  },
  {
   "cell_type": "markdown",
   "metadata": {},
   "source": [
    "b) Print the data type of $s, v,$ and $A$ using `type` command in python."
   ]
  },
  {
   "cell_type": "code",
   "execution_count": 3,
   "metadata": {},
   "outputs": [
    {
     "name": "stdout",
     "output_type": "stream",
     "text": [
      "type(s) =  <class 'numpy.ndarray'> \n",
      "\n",
      "type(v) =  <class 'numpy.ndarray'> \n",
      "\n",
      "type(A) =  <class 'numpy.ndarray'> \n",
      "\n"
     ]
    }
   ],
   "source": [
    "print('type(s) = ',type(s),\"\\n\")\n",
    "print('type(v) = ',type(v),\"\\n\")\n",
    "print('type(A) = ',type(A),\"\\n\")\n"
   ]
  },
  {
   "cell_type": "code",
   "execution_count": 3,
   "metadata": {},
   "outputs": [
    {
     "name": "stdout",
     "output_type": "stream",
     "text": [
      "type(s) = <class 'numpy.ndarray'>\n",
      "\n",
      "type(v) = <class 'numpy.ndarray'>\n",
      "\n",
      "type(A) = <class 'numpy.ndarray'>\n",
      "\n"
     ]
    }
   ],
   "source": [
    "#type your code here:\n"
   ]
  },
  {
   "cell_type": "markdown",
   "metadata": {},
   "source": [
    "c) Using [numpy.shape](https://numpy.org/devdocs/reference/generated/numpy.shape.html) or `A.shape` print the shape of $s, v, A, B,$ and $C$."
   ]
  },
  {
   "cell_type": "code",
   "execution_count": 4,
   "metadata": {},
   "outputs": [
    {
     "name": "stdout",
     "output_type": "stream",
     "text": [
      "s.shape =  () \n",
      "\n",
      "v.shape =  (3, 1) \n",
      "\n",
      "A.shape =  (3, 3) \n",
      "\n",
      "B.shape =  (2, 3) \n",
      "\n",
      "C.shape =  (3, 2) \n",
      "\n"
     ]
    }
   ],
   "source": [
    "print('s.shape = ',s.shape,\"\\n\")\n",
    "print('v.shape = ',v.shape,\"\\n\")\n",
    "print('A.shape = ',A.shape,\"\\n\")\n",
    "print('B.shape = ',B.shape,\"\\n\")\n",
    "print('C.shape = ',C.shape,\"\\n\")\n"
   ]
  },
  {
   "cell_type": "code",
   "execution_count": 4,
   "metadata": {},
   "outputs": [
    {
     "name": "stdout",
     "output_type": "stream",
     "text": [
      "s.shape = ()\n",
      "\n",
      "v.shape = (3, 1)\n",
      "\n",
      "A.shape = (3, 3)\n",
      "\n",
      "B.shape = (2, 3)\n",
      "\n",
      "C.shape = (3, 2)\n",
      "\n"
     ]
    }
   ],
   "source": [
    "#type your code here:\n"
   ]
  },
  {
   "cell_type": "markdown",
   "metadata": {},
   "source": [
    "d) To access a given entry in the `numpy array` put the `row number - 1` and `column number - 1` in square brackets following the array name. Ex `a32 = A[2, 1]`.\n",
    "- Print the value of the third row and the second column of the matrix $A$.\n",
    "- Change it to $10$.\n",
    "- Print the matrix A to check the entry is changed."
   ]
  },
  {
   "cell_type": "code",
   "execution_count": 5,
   "metadata": {},
   "outputs": [
    {
     "name": "stdout",
     "output_type": "stream",
     "text": [
      "A[2,1] =  8 \n",
      "\n",
      "A = \n",
      " [[ 1  2  3]\n",
      " [ 4  5  6]\n",
      " [ 7 10  9]]\n"
     ]
    }
   ],
   "source": [
    "print(\"A[2,1] = \",A[2,1],\"\\n\")\n",
    "A[2,1] = 10\n",
    "print(\"A = \\n\",A)"
   ]
  },
  {
   "cell_type": "code",
   "execution_count": 63,
   "metadata": {},
   "outputs": [
    {
     "name": "stdout",
     "output_type": "stream",
     "text": [
      "A[2,1] =  8 \n",
      "\n",
      "A = \n",
      " [[ 1  2  3]\n",
      " [ 4  5  6]\n",
      " [ 7 10  9]]\n"
     ]
    }
   ],
   "source": [
    "#type your code here:\n"
   ]
  },
  {
   "cell_type": "markdown",
   "metadata": {},
   "source": [
    "e)To access a whole row or column of a matrix, use the colon operator. For example, `A[:, [1]]` is the second column of A, while `B[[1], :]` is the second row of B."
   ]
  },
  {
   "cell_type": "code",
   "execution_count": 6,
   "metadata": {},
   "outputs": [
    {
     "name": "stdout",
     "output_type": "stream",
     "text": [
      "A[:, [1]]= \n",
      " [[ 2]\n",
      " [ 5]\n",
      " [10]] \n",
      "\n",
      "B[[1], :]= \n",
      " [[4 5 6]]\n"
     ]
    }
   ],
   "source": [
    "print(\"A[:, [1]]= \\n\",A[:, [1]],\"\\n\")\n",
    "print(\"B[[1], :]= \\n\",B[[1], :])"
   ]
  },
  {
   "cell_type": "code",
   "execution_count": 70,
   "metadata": {
    "scrolled": true
   },
   "outputs": [
    {
     "name": "stdout",
     "output_type": "stream",
     "text": [
      "A[:, [1]]= \n",
      " [[ 2]\n",
      " [ 5]\n",
      " [10]] \n",
      "\n",
      "B[[1], :]= \n",
      " [[4 5 6]]\n"
     ]
    }
   ],
   "source": [
    "#type your code here:\n"
   ]
  },
  {
   "cell_type": "markdown",
   "metadata": {},
   "source": [
    "f) Type each of the following commands that generate special matrices:\n",
    "- `np.eye(4), np.zeros(3), np.zeros((3, 1)), np.zeros((3, 5)), np.ones((2, 3)), and np.diag([4, 5, 6, 7])`"
   ]
  },
  {
   "cell_type": "code",
   "execution_count": 7,
   "metadata": {},
   "outputs": [
    {
     "name": "stdout",
     "output_type": "stream",
     "text": [
      "np.eye(4) = \n",
      " [[1. 0. 0. 0.]\n",
      " [0. 1. 0. 0.]\n",
      " [0. 0. 1. 0.]\n",
      " [0. 0. 0. 1.]] \n",
      "\n",
      "np.zeros(3) = = \n",
      " [0. 0. 0.] \n",
      "\n",
      "np.zeros(3, 1) = \n",
      " [[0.]\n",
      " [0.]\n",
      " [0.]] \n",
      "\n",
      "np.zeros(3, 5) = \n",
      " [[0. 0. 0. 0. 0.]\n",
      " [0. 0. 0. 0. 0.]\n",
      " [0. 0. 0. 0. 0.]] \n",
      "\n",
      "np.ones((2,3)) = \n",
      " [[1. 1. 1.]\n",
      " [1. 1. 1.]] \n",
      "\n",
      "np.diag([4, 5, 6, 7]) = \n",
      " [[4 0 0 0]\n",
      " [0 5 0 0]\n",
      " [0 0 6 0]\n",
      " [0 0 0 7]] \n",
      "\n"
     ]
    }
   ],
   "source": [
    "eye = np.eye(4)\n",
    "zeros_1 = np.zeros(3)\n",
    "zeros_2 = np.zeros((3,1))\n",
    "zeros_3 = np.zeros((3,5))\n",
    "ones = np.ones((2,3))\n",
    "diag = np.diag([4, 5, 6, 7])\n",
    "\n",
    "print(\"np.eye(4) = \\n\",eye,\"\\n\")\n",
    "print(\"np.zeros(3) = = \\n\",zeros_1,\"\\n\")\n",
    "print(\"np.zeros(3, 1) = \\n\",zeros_2,\"\\n\")\n",
    "print(\"np.zeros(3, 5) = \\n\",zeros_3,\"\\n\")\n",
    "print(\"np.ones((2,3)) = \\n\",ones,\"\\n\")\n",
    "print(\"np.diag([4, 5, 6, 7]) = \\n\",diag,\"\\n\")\n",
    "\n",
    "\n",
    "\n"
   ]
  },
  {
   "cell_type": "code",
   "execution_count": 7,
   "metadata": {},
   "outputs": [
    {
     "name": "stdout",
     "output_type": "stream",
     "text": [
      "np.eye(4) =\n",
      " [[1. 0. 0. 0.]\n",
      " [0. 1. 0. 0.]\n",
      " [0. 0. 1. 0.]\n",
      " [0. 0. 0. 1.]]\n",
      "\n",
      "np.zeros(3) =\n",
      " [0. 0. 0.]\n",
      "\n",
      "np.zeros(3, 1) =\n",
      " [[0.]\n",
      " [0.]\n",
      " [0.]]\n",
      "\n",
      "np.zeros(3, 5) =\n",
      " [[0. 0. 0. 0. 0.]\n",
      " [0. 0. 0. 0. 0.]\n",
      " [0. 0. 0. 0. 0.]]\n",
      "\n",
      "np.ones(2, 3) =\n",
      " [[1. 1. 1.]\n",
      " [1. 1. 1.]]\n",
      "\n",
      "np.diag([4 5 6 7]) =\n",
      " [[4 0 0 0]\n",
      " [0 5 0 0]\n",
      " [0 0 6 0]\n",
      " [0 0 0 7]]\n"
     ]
    }
   ],
   "source": [
    "#type your code here:\n"
   ]
  },
  {
   "cell_type": "markdown",
   "metadata": {},
   "source": [
    "# Question 2. Vectors Addition, Scaling, and dot product"
   ]
  },
  {
   "cell_type": "markdown",
   "metadata": {},
   "source": [
    "a) Declare vectors $v1 = \\begin{bmatrix} 1  \\\\ 2 \\\\ 7  \\\\ 4 \\\\ \\end{bmatrix}$ and $v2 = \\begin{bmatrix} 4  \\\\ 3 \\\\ 6  \\\\ 8 \\\\ \\end{bmatrix}$\n",
    "\n",
    "- Addition: $v1 + v2$\n",
    "- Subtraction: $v1 - v2$\n",
    "- Scaling by a number: $3 * v1$\n",
    "- Scaling by a number: $v1 / 2$"
   ]
  },
  {
   "cell_type": "code",
   "execution_count": 8,
   "metadata": {},
   "outputs": [
    {
     "name": "stdout",
     "output_type": "stream",
     "text": [
      "v1 = \n",
      " [[1]\n",
      " [2]\n",
      " [7]\n",
      " [4]] \n",
      "\n",
      "v2 = \n",
      " [[4]\n",
      " [3]\n",
      " [6]\n",
      " [8]] \n",
      "\n",
      "v1 + v2 = \n",
      " [[ 5]\n",
      " [ 5]\n",
      " [13]\n",
      " [12]] \n",
      "\n",
      "v1 - v2 = \n",
      " [[-3]\n",
      " [-1]\n",
      " [ 1]\n",
      " [-4]] \n",
      "\n",
      "3*v1 = \n",
      " [[ 3]\n",
      " [ 6]\n",
      " [21]\n",
      " [12]] \n",
      "\n",
      "v1/2 = \n",
      " [[0.5]\n",
      " [1. ]\n",
      " [3.5]\n",
      " [2. ]] \n",
      "\n"
     ]
    }
   ],
   "source": [
    "v1 = np.array([[1],[2],[7],[4]])\n",
    "v2 = np.array([[4],[3],[6],[8]])\n",
    "add = v1 + v2\n",
    "sub = v1 - v2\n",
    "scalling_1 = 3 * v1\n",
    "scalling_2 = v1/2\n",
    "\n",
    "print(\"v1 = \\n\",v1,\"\\n\")\n",
    "print(\"v2 = \\n\",v2,\"\\n\")\n",
    "print(\"v1 + v2 = \\n\",add,\"\\n\")\n",
    "print(\"v1 - v2 = \\n\",sub,\"\\n\")\n",
    "print(\"3*v1 = \\n\",scalling_1,\"\\n\")\n",
    "print(\"v1/2 = \\n\",scalling_2,\"\\n\")\n",
    "\n"
   ]
  },
  {
   "cell_type": "code",
   "execution_count": 8,
   "metadata": {
    "scrolled": true
   },
   "outputs": [
    {
     "name": "stdout",
     "output_type": "stream",
     "text": [
      "v1 =\n",
      " [[1]\n",
      " [2]\n",
      " [7]\n",
      " [4]]\n",
      "\n",
      "v2 =\n",
      " [[4]\n",
      " [3]\n",
      " [6]\n",
      " [8]]\n",
      "\n",
      "v1 + v2 =\n",
      " [[ 5]\n",
      " [ 5]\n",
      " [13]\n",
      " [12]]\n",
      "\n",
      "v1 - v2 =\n",
      " [[-3]\n",
      " [-1]\n",
      " [ 1]\n",
      " [-4]]\n",
      "\n",
      "3*v1 =\n",
      " [[ 3]\n",
      " [ 6]\n",
      " [21]\n",
      " [12]]\n",
      "\n",
      "v1/2 =\n",
      " [[0.5]\n",
      " [1. ]\n",
      " [3.5]\n",
      " [2. ]]\n",
      "\n"
     ]
    }
   ],
   "source": [
    "#type your code here:\n"
   ]
  },
  {
   "cell_type": "markdown",
   "metadata": {},
   "source": [
    "b) Find the dot product between the two vectors $v1$ and $v2$ using the following:\n",
    "\n",
    "- [numpy.dot](https://numpy.org/doc/stable/reference/generated/numpy.dot.html)\n",
    "- [numpy.matmul](https://numpy.org/doc/stable/reference/generated/numpy.matmul.html#numpy.matmul)\n",
    "- `v1.T @ v2`"
   ]
  },
  {
   "cell_type": "code",
   "execution_count": 9,
   "metadata": {},
   "outputs": [
    {
     "name": "stdout",
     "output_type": "stream",
     "text": [
      "Using numpy.dot = \n",
      " [[84]] \n",
      "\n",
      "Using numpy.matmul = \n",
      " [[84]] \n",
      "\n",
      "Using @ = \n",
      " [[84]] \n",
      "\n"
     ]
    }
   ],
   "source": [
    "print(\"Using numpy.dot = \\n\",np.dot(v1.T,v2),\"\\n\")\n",
    "print(\"Using numpy.matmul = \\n\",np.matmul(v1.T,v2),\"\\n\")\n",
    "print(\"Using @ = \\n\",v1.T@v2,\"\\n\")\n"
   ]
  },
  {
   "cell_type": "code",
   "execution_count": 9,
   "metadata": {},
   "outputs": [
    {
     "name": "stdout",
     "output_type": "stream",
     "text": [
      "Using numpy.dot =\n",
      " [[84]]\n",
      "\n",
      "Using numpy.matmul =\n",
      " [[84]]\n",
      "\n",
      "Using @ =\n",
      " [[84]]\n",
      "\n"
     ]
    }
   ],
   "source": [
    "#type your code here:\n"
   ]
  },
  {
   "cell_type": "markdown",
   "metadata": {},
   "source": [
    "c) Find the length of the vectors $v1$ and $v2$.\n",
    "- Using [numpy.linalg.norm](https://numpy.org/doc/stable/reference/generated/numpy.linalg.norm.html)\n",
    "- Using the dot product and [numpy.sqrt](https://numpy.org/doc/stable/reference/generated/numpy.sqrt.html)\n"
   ]
  },
  {
   "cell_type": "code",
   "execution_count": 10,
   "metadata": {},
   "outputs": [
    {
     "name": "stdout",
     "output_type": "stream",
     "text": [
      "length of v1 Using numpy.linalg.norm = \n",
      " 8.366600265340756 \n",
      "\n",
      "length of v2 Using numpy.linalg.norm = \n",
      " 11.180339887498949 \n",
      "\n",
      "length of v1 Using the dot product and numpy.sqrt = \n",
      " 8.366600265340756 \n",
      "\n",
      "length of v2 Using the dot product and numpy.sqrt = \n",
      " 11.180339887498949 \n",
      "\n"
     ]
    }
   ],
   "source": [
    "print(\"length of v1 Using numpy.linalg.norm = \\n\",np.linalg.norm(v1),\"\\n\")  \n",
    "print(\"length of v2 Using numpy.linalg.norm = \\n\",np.linalg.norm(v2),\"\\n\")  \n",
    "print(\"length of v1 Using the dot product and numpy.sqrt = \\n\",np.sqrt(np.sum(v1**2)),\"\\n\")  \n",
    "print(\"length of v2 Using the dot product and numpy.sqrt = \\n\",np.sqrt(np.sum(v2**2)),\"\\n\")  "
   ]
  },
  {
   "cell_type": "code",
   "execution_count": 10,
   "metadata": {
    "scrolled": true
   },
   "outputs": [
    {
     "name": "stdout",
     "output_type": "stream",
     "text": [
      "length of v1 Using numpy.linalg.norm =\n",
      " 8.366600265340756\n",
      "\n",
      "length of v2 Using numpy.linalg.norm =\n",
      " 11.180339887498949\n",
      "\n",
      "length of v1 Using the dot product and numpy.sqrt =\n",
      " [[8.36660027]]\n",
      "\n",
      "length of v2 Using the dot product and numpy.sqrt =\n",
      " [[11.18033989]]\n",
      "\n"
     ]
    }
   ],
   "source": [
    "#type your code here:\n"
   ]
  },
  {
   "cell_type": "markdown",
   "metadata": {},
   "source": [
    "d) Show that the vectors $u = \\begin{bmatrix} 3  \\\\ 2 \\\\ -1  \\\\ 4 \\\\ \\end{bmatrix}$ and $v = \\begin{bmatrix} 1  \\\\ -1 \\\\ 1  \\\\ 0 \\\\ \\end{bmatrix}$ are orthogonal.\n"
   ]
  },
  {
   "cell_type": "code",
   "execution_count": 11,
   "metadata": {},
   "outputs": [
    {
     "name": "stdout",
     "output_type": "stream",
     "text": [
      "u.T @ v = \n",
      " [[0]]\n"
     ]
    }
   ],
   "source": [
    "u = np.array([[3],[2],[-1],[4]])\n",
    " v = np.array([[1],[-1],[1],[0]])\n",
    "print(\"u.T @ v = \\n\",u.T@v)\n"
   ]
  },
  {
   "cell_type": "code",
   "execution_count": 11,
   "metadata": {
    "scrolled": true
   },
   "outputs": [
    {
     "name": "stdout",
     "output_type": "stream",
     "text": [
      "u.T @ v =\n",
      " [[0]]\n",
      "\n"
     ]
    }
   ],
   "source": [
    "#type your code here:\n"
   ]
  },
  {
   "cell_type": "markdown",
   "metadata": {},
   "source": [
    "# Question 3. Matrix Addition and Matrix-Vector Multiplication\n",
    "\n",
    "Declare vectors $u$ and $v$ and matrices $A$ and $B$ as following:\n",
    "- $u = \\begin{bmatrix} 2  \\\\ 7 \\\\ 2 \\\\ \\end{bmatrix}$, $v = \\begin{bmatrix} 8  \\\\ 2 \\\\ 4 \\\\ \\end{bmatrix}$\n",
    "- $A = \\begin{bmatrix} 7 & 3 & 5  \\\\ 4 & 6 & 2 \\\\ \\end{bmatrix}$, $B = \\begin{bmatrix} 0 & 6 & 4  \\\\ 2 & 3 & 0 \\\\ \\end{bmatrix}$\n",
    "\n",
    "a) Calculate the following using python.\n",
    "\n",
    "- $A+B$\n",
    "- $B+A$\n",
    "- $3A$\n",
    "- $6B$\n",
    "- $2(3B)$\n",
    "- $6A+15B$\n",
    "- $3(2A+5B)$\n",
    "- $(3A^T)^T$"
   ]
  },
  {
   "cell_type": "code",
   "execution_count": 15,
   "metadata": {},
   "outputs": [
    {
     "name": "stdout",
     "output_type": "stream",
     "text": [
      "u = \n",
      " [[2]\n",
      " [7]\n",
      " [2]] \n",
      "\n",
      "v = \n",
      " [[8]\n",
      " [2]\n",
      " [4]] \n",
      "\n",
      "A = \n",
      " [[7 3 5]\n",
      " [4 6 2]] \n",
      "\n",
      "B = \n",
      " [[0 6 4]\n",
      " [2 3 0]] \n",
      "\n",
      "A + B = \n",
      " [[7 9 9]\n",
      " [6 9 2]] \n",
      "\n",
      "B + A = \n",
      " [[7 9 9]\n",
      " [6 9 2]] \n",
      "\n",
      "3A = \n",
      " [[21  9 15]\n",
      " [12 18  6]] \n",
      "\n",
      "6B = \n",
      " [[ 0 36 24]\n",
      " [12 18  0]] \n",
      "\n",
      "2(3B) = \n",
      " [[ 0 36 24]\n",
      " [12 18  0]] \n",
      "\n",
      "6A + 15B = \n",
      " [[ 42 108  90]\n",
      " [ 54  81  12]] \n",
      "\n",
      "3(2A + 5B) = \n",
      " [[ 42 108  90]\n",
      " [ 54  81  12]] \n",
      "\n",
      "(3A^T)^T = \n",
      " [[21  9 15]\n",
      " [12 18  6]] \n",
      "\n"
     ]
    }
   ],
   "source": [
    "u = np.array([[2],[7],[2]])\n",
    "v = np.array([[8],[2],[4]])\n",
    "A = np.array([[7,3,5],[4,6,2]])\n",
    "B = np.array([[0,6,4],[2,3,0]])\n",
    "\n",
    "print(\"u = \\n\",u,\"\\n\")\n",
    "print(\"v = \\n\",v,\"\\n\")\n",
    "print(\"A = \\n\",A,\"\\n\")\n",
    "print(\"B = \\n\",B,\"\\n\")\n",
    "print(\"A + B = \\n\",A+B,\"\\n\")\n",
    "print(\"B + A = \\n\",B+A,\"\\n\")\n",
    "print(\"3A = \\n\",3*A,\"\\n\")\n",
    "print(\"6B = \\n\",6*B,\"\\n\")\n",
    "print(\"2(3B) = \\n\",2*(3*B),\"\\n\")\n",
    "print(\"6A + 15B = \\n\",6*A + 15*B,\"\\n\")\n",
    "print(\"3(2A + 5B) = \\n\",3*(2*A+5*B),\"\\n\")\n",
    "print(\"(3A^T)^T = \\n\",(3*A.T).T,\"\\n\")\n",
    "\n",
    "\n"
   ]
  },
  {
   "cell_type": "code",
   "execution_count": 12,
   "metadata": {
    "scrolled": true
   },
   "outputs": [
    {
     "name": "stdout",
     "output_type": "stream",
     "text": [
      "u =\n",
      " [[2]\n",
      " [7]\n",
      " [2]]\n",
      "\n",
      "v =\n",
      " [[8]\n",
      " [2]\n",
      " [4]]\n",
      "\n",
      "A =\n",
      " [[7 3 5]\n",
      " [4 6 2]]\n",
      "\n",
      "B =\n",
      " [[0 6 4]\n",
      " [2 3 0]]\n",
      "\n",
      "A + B =\n",
      " [[7 9 9]\n",
      " [6 9 2]]\n",
      "\n",
      "B + A =\n",
      " [[7 9 9]\n",
      " [6 9 2]]\n",
      "\n",
      "3A =\n",
      " [[21  9 15]\n",
      " [12 18  6]]\n",
      "\n",
      "6B =\n",
      " [[ 0 36 24]\n",
      " [12 18  0]]\n",
      "\n",
      "2(3B) =\n",
      " [[ 0 36 24]\n",
      " [12 18  0]]\n",
      "\n",
      "6A + 15B =\n",
      " [[ 42 108  90]\n",
      " [ 54  81  12]]\n",
      "\n",
      "3(2A + 5B) =\n",
      " [[ 42 108  90]\n",
      " [ 54  81  12]]\n",
      "\n",
      "\n",
      " (3A^T)^T = \n",
      " [[21  9 15]\n",
      " [12 18  6]]\n"
     ]
    }
   ],
   "source": [
    "#type your code here:\n"
   ]
  },
  {
   "cell_type": "markdown",
   "metadata": {},
   "source": [
    "b) To obtain the matrix-vector product $Au$ using python, type `A @ u`. Calculate the following:\n",
    "\n",
    "- $Au+Av$\n",
    "- $A(u+v)$\n",
    "- $(A+B)u$\n",
    "- $Au+Bu$\n",
    "- $A(3u)$\n",
    "- $3A(u)$"
   ]
  },
  {
   "cell_type": "code",
   "execution_count": 31,
   "metadata": {},
   "outputs": [
    {
     "name": "stdout",
     "output_type": "stream",
     "text": [
      "Au + Av = \n",
      " [[127]\n",
      " [106]] \n",
      "\n",
      "A(u + v) = \n",
      " [[127]\n",
      " [106]] \n",
      "\n",
      "(A + B)u = \n",
      " [[95]\n",
      " [79]] \n",
      "\n",
      "Au + Bu = \n",
      " [[95]\n",
      " [79]] \n",
      "\n",
      "A(3u) = \n",
      " [[135]\n",
      " [162]] \n",
      "\n",
      "3A(u) = \n",
      " [[135]\n",
      " [162]] \n",
      "\n"
     ]
    }
   ],
   "source": [
    "print(\"Au + Av = \\n\",(A@u) + (A@v),\"\\n\")\n",
    "print(\"A(u + v) = \\n\",A@(u + v),\"\\n\")\n",
    "print(\"(A + B)u = \\n\",(A + B)@u,\"\\n\")\n",
    "print(\"Au + Bu = \\n\",A@u + B@u,\"\\n\")\n",
    "print(\"A(3u) = \\n\",A@(3*u),\"\\n\")\n",
    "print(\"3A(u) = \\n\",3*A@(u),\"\\n\")\n"
   ]
  },
  {
   "cell_type": "code",
   "execution_count": 13,
   "metadata": {},
   "outputs": [
    {
     "name": "stdout",
     "output_type": "stream",
     "text": [
      "Au + Av =\n",
      " [[127]\n",
      " [106]]\n",
      "\n",
      "A(u + v) =\n",
      " [[127]\n",
      " [106]]\n",
      "\n",
      "(A + B)u =\n",
      " [[95]\n",
      " [79]]\n",
      "\n",
      "Au + Bu =\n",
      " [[95]\n",
      " [79]]\n",
      "\n",
      "A(3u) =\n",
      " [[135]\n",
      " [162]]\n",
      "\n",
      "3A(u) =\n",
      " [[135]\n",
      " [162]]\n",
      "\n"
     ]
    }
   ],
   "source": [
    "#type your code here:\n"
   ]
  },
  {
   "cell_type": "markdown",
   "metadata": {},
   "source": [
    "# Question 4. Gaussian Elimination and Reduced Row-Echelon Form"
   ]
  },
  {
   "cell_type": "markdown",
   "metadata": {},
   "source": [
    "You will see a step-by-step example of the row operations that transform a matrix $A$ into its reduced row echelon form $R = rref(A)$. In this demonstration, each pivot is chosen to be the largest in its column (for numerical stability), so extra row interchanges are used. Since $rref(A)$ is uniquely determined by $A$, this does not affect the final answer.\n",
    "\n",
    "The built in [rref](https://docs.sympy.org/latest/tutorial/matrices.html#rref) method `sympy.rref()` method just search for the method and its output to deal with the code."
   ]
  },
  {
   "cell_type": "markdown",
   "metadata": {},
   "source": [
    "#### (a) Generate and display a $3 \\times 4$ matrix $A$ with random integer entries "
   ]
  },
  {
   "cell_type": "code",
   "execution_count": 37,
   "metadata": {},
   "outputs": [
    {
     "name": "stdout",
     "output_type": "stream",
     "text": [
      "\n",
      " A = \n",
      " [[6. 0. 7. 3.]\n",
      " [8. 9. 8. 8.]\n",
      " [8. 4. 4. 6.]]\n"
     ]
    }
   ],
   "source": [
    "#type your code here:\n",
    "A = np.fix((10*(np.random.rand(3,4))))\n",
    "print(\"\\n A = \\n\", A)"
   ]
  },
  {
   "cell_type": "markdown",
   "metadata": {},
   "source": [
    "- To transform $A$ into $R = rref(A)$, start with $R = A$.\n",
    "- Normalize the first row of R to get R(1st row, 1st column) = 1\n",
    "\n",
    "    - `R = A`\n",
    "    - `R[0,:] = R[0, :] / R[0, 0]`\n",
    "\n",
    "(note the use of the colon to operate on whole rows of the matrix). \n",
    "\n",
    "<div class=\"alert alert-block alert-warning\">If your random matrix happens to have A(1, 1) = 0, then interchange rows to get a nonzero entry in the (1, 1) position before doing the calculation above.</div>\n",
    "\n",
    "- Now subtract a multiple of the first row of R from the second row to make R(2, 1) = 0:\n",
    "\n",
    "    - `R[1, :] = R[1, :] - R[1, 0] * R[0, :]`\n",
    "\n",
    "- Repeat this procedure to make R(3, 1) = 0:\n",
    "\n",
    "    - `R[2, :] = R[2, :] - R[2, 0] * R[0, :]`\n",
    "\n",
    "The first column of your matrix $R$ should now be the same as the first column of $rref(A)$."
   ]
  },
  {
   "cell_type": "code",
   "execution_count": 41,
   "metadata": {},
   "outputs": [
    {
     "name": "stdout",
     "output_type": "stream",
     "text": [
      "R = \n",
      " [[ 1.          0.          1.16666667  0.5       ]\n",
      " [ 0.          9.         -1.33333333  4.        ]\n",
      " [ 0.          4.         -5.33333333  2.        ]]\n"
     ]
    }
   ],
   "source": [
    "R = A\n",
    "R[0,:] = R[0, :] / R[0, 0]\n",
    "R[1, :] = R[1, :] - R[1, 0] * R[0, :]\n",
    "R[2, :] = R[2, :] - R[2, 0] * R[0, :]\n",
    "print(\"R = \\n\",R)"
   ]
  },
  {
   "cell_type": "code",
   "execution_count": 15,
   "metadata": {
    "scrolled": true
   },
   "outputs": [
    {
     "name": "stdout",
     "output_type": "stream",
     "text": [
      "\n",
      " R = \n",
      " [[ 1.     0.     0.5    0.125]\n",
      " [ 0.     6.    -1.     6.25 ]\n",
      " [ 0.     1.     6.     0.   ]]\n"
     ]
    }
   ],
   "source": [
    "#type your code here:\n"
   ]
  },
  {
   "cell_type": "markdown",
   "metadata": {},
   "source": [
    "#### (b)Operate on $R$ by the same method as in (a) to obtain the second column of $rref(A)$. First normalize row $2$ of $R$, then subtract multiples of row $2$ from rows $1$ and $3$ to put zeros in the (1, 2) and (3, 2) positions. Be sure to refer to the entries in your matrix symbolically as was done in part (a)"
   ]
  },
  {
   "cell_type": "code",
   "execution_count": 42,
   "metadata": {},
   "outputs": [
    {
     "name": "stdout",
     "output_type": "stream",
     "text": [
      "R = \n",
      " [[ 1.          0.          1.16666667  0.5       ]\n",
      " [ 0.          1.         -0.14814815  0.44444444]\n",
      " [ 0.          0.         -4.74074074  0.22222222]]\n"
     ]
    }
   ],
   "source": [
    "\n",
    "R[1,:] = R[1, :] / R[1 ,1]\n",
    "R[2, :] = R[2, :] - R[2, 1] * R[1, :]\n",
    "print(\"R = \\n\",R)"
   ]
  },
  {
   "cell_type": "code",
   "execution_count": 16,
   "metadata": {
    "scrolled": true
   },
   "outputs": [
    {
     "name": "stdout",
     "output_type": "stream",
     "text": [
      "\n",
      " R = \n",
      " [[ 1.          0.          0.5         0.125     ]\n",
      " [ 0.          1.         -0.16666667  1.04166667]\n",
      " [ 0.          0.          6.16666667 -1.04166667]]\n"
     ]
    }
   ],
   "source": [
    "#type your code here:\n"
   ]
  },
  {
   "cell_type": "markdown",
   "metadata": {},
   "source": [
    "#### (c) Operate on $R$ by the same method as in (b) to obtain the third column of $rref(A)$. First normalize row $3$ of $R$, then subtract multiples of row $3$ from rows $1$ and $2$ to put zeros in the (1, 3) and (2, 3) positions."
   ]
  },
  {
   "cell_type": "code",
   "execution_count": 43,
   "metadata": {},
   "outputs": [
    {
     "name": "stdout",
     "output_type": "stream",
     "text": [
      "R = \n",
      " [[ 1.         0.         0.         0.5546875]\n",
      " [ 0.         1.         0.         0.4375   ]\n",
      " [-0.        -0.         1.        -0.046875 ]]\n"
     ]
    }
   ],
   "source": [
    "R[2,:] = R[2, :] / R[2 ,2]\n",
    "R[0, :] = R[0, :] - R[0, 2] * R[2, :]\n",
    "R[1, :] = R[1, :] - R[1, 2] * R[2, :]\n",
    "print(\"R = \\n\",R)"
   ]
  },
  {
   "cell_type": "code",
   "execution_count": 17,
   "metadata": {},
   "outputs": [
    {
     "name": "stdout",
     "output_type": "stream",
     "text": [
      "\n",
      " R = \n",
      " [[ 1.          0.          0.          0.20945946]\n",
      " [ 0.          1.          0.          1.01351351]\n",
      " [ 0.          0.          1.         -0.16891892]]\n"
     ]
    }
   ],
   "source": [
    "#type your code here:\n",
    "\n"
   ]
  },
  {
   "cell_type": "markdown",
   "metadata": {},
   "source": [
    "#### (d) Your matrix $R$ should now be transformed into $rref(A)$ (since $A$ is a random $3 \\times 4$ matrix, $rref(A)$ is (almost) sure to have rank (3) `np.linalg.matrix_rank(R)`. Check your answer by python with the rref method . If the answer is not the same as the current value of your $R$, go back and redo your calculations.\n",
    "\n",
    "- use the the built in rref method `sympy.rref()`\n",
    "- print the output matrix in numpy array type\n",
    "\n",
    "    - `M = sym.Matrix(A)`\n",
    "    - `M_rref = M.rref()`\n",
    "    - `R = np.array((M_rref[0])).astype(np.float64)`"
   ]
  },
  {
   "cell_type": "code",
   "execution_count": 49,
   "metadata": {},
   "outputs": [
    {
     "name": "stdout",
     "output_type": "stream",
     "text": [
      "rank = \n",
      " 3\n",
      "The Row echelon form of matrix M \n",
      " [[ 1.         0.         0.         0.5546875]\n",
      " [ 0.         1.         0.         0.4375   ]\n",
      " [ 0.         0.         1.        -0.046875 ]]\n"
     ]
    }
   ],
   "source": [
    "rank = np.linalg.matrix_rank(R)\n",
    "M = sym.Matrix(A)\n",
    "M_rref = M.rref()\n",
    "R = np.array((M_rref[0])).astype(np.float64)\n",
    "\n",
    "print(\"rank = \\n\",rank)\n",
    "print(\"The Row echelon form of matrix M \\n\",R)"
   ]
  },
  {
   "cell_type": "code",
   "execution_count": 18,
   "metadata": {},
   "outputs": [
    {
     "name": "stdout",
     "output_type": "stream",
     "text": [
      "\n",
      " rank = \n",
      " 3\n",
      "\n",
      " The Row echelon form of matrix M \n",
      " [[ 1.          0.          0.          0.20945946]\n",
      " [ 0.          1.          0.          1.01351351]\n",
      " [ 0.          0.          1.         -0.16891892]]\n"
     ]
    }
   ],
   "source": [
    "#type your code here:\n",
    "\n",
    "# Use sympy.rref() method \n"
   ]
  },
  {
   "cell_type": "markdown",
   "metadata": {},
   "source": [
    "# Question 5. Matrix Multiplication using Different views"
   ]
  },
  {
   "cell_type": "markdown",
   "metadata": {},
   "source": [
    "we discussed in the lecture four different ways about product $AB = C$ where $A$ and $B$ are arbitry matrices. If $A$ is an $m \\times n$ matrix and $B$ is an $n \\times p$ matrix, then $C$ is an $m \\times p$ matrix:\n",
    "\n",
    "1. **Standard(row times column):** The standard way of describing a matrix product is to say that $c_(ij)$ equals the dot product of row $i$ of matrix $A$ and column $j$ of matrix $B$. \n",
    " \n",
    "2. **Columns:** The product of matrix $A$ and column $j$ of matrix $B$ equals column $j$ of matrix  $C$. This tells us that the columns of $C$ are combinations of columns of $A$.\n",
    "\n",
    "3. **Rows:** The product of row $i$ of matrix $A$ and matrix $B$ equals row $i$ of matrix $C$.So the rows of $C$ are combinations of rows of $B$.\n",
    "\n",
    "4. **Column times row**: A column of $A$ is an $m \\times 1$ vector and a row of $B$ is a $1 \\times p$ vector.Their product is a matrix."
   ]
  },
  {
   "cell_type": "markdown",
   "metadata": {},
   "source": [
    "In this problem we will use python to perform the matrix multiplication using these different ways, and compute the execution time for each method time.\n",
    "\n",
    "(Write your code as a function that perform the multiplication for arbitrary size of the matrices $A$ and $B$)"
   ]
  },
  {
   "cell_type": "code",
   "execution_count": 12,
   "metadata": {},
   "outputs": [
    {
     "name": "stdout",
     "output_type": "stream",
     "text": [
      "C_column_times_row = \n",
      " [[ 54. 144.  72. ... 126. 162. 162.]\n",
      " [ 81. 216. 108. ... 189. 243. 243.]\n",
      " [ 54. 144.  72. ... 126. 162. 162.]\n",
      " ...\n",
      " [ 54. 144.  72. ... 126. 162. 162.]\n",
      " [ 81. 216. 108. ... 189. 243. 243.]\n",
      " [ 36.  96.  48. ...  84. 108. 108.]]\n",
      "A @ B = \n",
      " [[6476. 5963. 6447. ... 6454. 6938. 6217.]\n",
      " [6295. 6080. 6088. ... 6194. 6462. 6160.]\n",
      " [5984. 5390. 5771. ... 6025. 6221. 5869.]\n",
      " ...\n",
      " [5566. 5599. 5808. ... 5727. 5710. 5569.]\n",
      " [6412. 6155. 6374. ... 6739. 6727. 6389.]\n",
      " [5854. 5273. 5625. ... 5453. 5827. 5657.]]\n"
     ]
    }
   ],
   "source": [
    "def check_dimension(A, B):\n",
    "    return A.shape[1] == B.shape[0]\n",
    "\n",
    "def mat_mul_columns(A, B):\n",
    "    if not check_dimension(A, B):\n",
    "        raise Exception('Dimensions aren\\'t consistant')\n",
    "        \n",
    "    m, n = A.shape\n",
    "    n, p = B.shape\n",
    "            \n",
    "    C = np.zeros((m, p))\n",
    "    result_mat = np.zeros((m, p))\n",
    "    ################type your code here#####################\n",
    "    #C[:,0] = A[:,0]*B[0,0]+A[:,1]*B[1,0]+A[:,2]*B[2,0]\n",
    "    #C[:,1] = A[:,0]*B[0,1]+A[:,1]*B[1,1]+A[:,2]*B[2,1]\n",
    "     \n",
    "    for i in range(n):\n",
    "        for j in range(p):\n",
    "            C[:,j] = A[:,i]*B[i,j]+A[:,i]*B[i,j]+A[:,i]*B[i,j]\n",
    "    \n",
    "    ########################################################         \n",
    "    return C\n",
    "\n",
    "A = np.fix((10*(np.random.rand(300, 300))))\n",
    "B = np.fix((10*(np.random.rand(300, 300))))\n",
    "\n",
    "import time\n",
    "\n",
    "#start_time = time.time()\n",
    "\n",
    "C_column_times_row =  mat_mul_columns(A, B)\n",
    "print('C_column_times_row = \\n', C_column_times_row)\n",
    "\n",
    "#start_time = time.time()\n",
    "print('A @ B = \\n', A @ B)\n"
   ]
  },
  {
   "cell_type": "code",
   "execution_count": 91,
   "metadata": {},
   "outputs": [],
   "source": [
    "\n",
    "def check_dimension(A, B):\n",
    "    return A.shape[1] == B.shape[0]\n",
    "\n",
    "def mat_mul_standard(A, B):\n",
    "    if not check_dimension(A, B):\n",
    "        raise Exception('Dimensions aren\\'t consistant')\n",
    "        \n",
    "    m, n = A.shape\n",
    "    n, p = B.shape\n",
    "            \n",
    "    C = np.zeros((m, p))\n",
    "    ################type your code here#####################\n",
    "    for i in range(p) :\n",
    "        for j in range(m):\n",
    "            C[i,j] = np.sum(A[i]*B[:,j])\n",
    "\n",
    "    ########################################################        \n",
    "    return C\n",
    "\n",
    "\n",
    "def mat_mul_columns(A, B):\n",
    "    if not check_dimension(A, B):\n",
    "        raise Exception('Dimensions aren\\'t consistant')\n",
    "        \n",
    "    m, n = A.shape\n",
    "    n, p = B.shape\n",
    "            \n",
    "    C = np.zeros((m, p))\n",
    "    ################type your code here#####################\n",
    "    for j in range(p):\n",
    "        C[:, j] = np.sum(A * B[:, j], axis=1)\n",
    "\n",
    "    ########################################################         \n",
    "    return C\n",
    "\n",
    "def mat_mul_rows(A, B):\n",
    "    if not check_dimension(A, B):\n",
    "        raise Exception('Dimensions aren\\'t consistant')\n",
    "        \n",
    "    m, n = A.shape\n",
    "    n, p = B.shape\n",
    "            \n",
    "    C = np.zeros((m, p))\n",
    "    ################type your code here#####################\n",
    "    for i in range(m):\n",
    "        for j in range(p):\n",
    "            C[i, j] = np.sum(A[i, :] * B[:, j])\n",
    "    ########################################################         \n",
    "    return C\n",
    "\n",
    "\n",
    "\n",
    "def mat_mul_column_times_row(A, B):\n",
    "    if not check_dimension(A, B):\n",
    "        raise Exception('Dimensions aren\\'t consistant')\n",
    "        \n",
    "    m, n = A.shape\n",
    "    n, p = B.shape\n",
    "            \n",
    "    C = np.zeros((m, p))\n",
    "    result_mat = np.zeros((m, p))\n",
    "    ################type your code here#####################\n",
    "   # C[0] = A[0,0]*B[0]\n",
    "    #C[1] = A[1,0]*B[0]\n",
    "    #+\n",
    "    #C[0] = A[0,1]*B[1]\n",
    "    #C[1] = A[1,1]*B[1]\n",
    "    \n",
    "    for i in range(n):\n",
    "        for j in range(m):\n",
    "            C[j] = A[j,i]*B[i]\n",
    "        result_mat += C\n",
    "    ########################################################         \n",
    "    return result_mat"
   ]
  },
  {
   "cell_type": "code",
   "execution_count": 92,
   "metadata": {},
   "outputs": [],
   "source": [
    "#A = np.array([[12., 7., 3.],[4., 5., 6.],[7., 8., 9.]])\n",
    "#B = np.array([[5., 8., 1., 2.],[6., 7., 3., 0.],[4., 5., 9., 1.]])\n",
    "\n",
    "A = np.fix((10*(np.random.rand(300, 300))))\n",
    "B = np.fix((10*(np.random.rand(300, 300))))"
   ]
  },
  {
   "cell_type": "code",
   "execution_count": 93,
   "metadata": {},
   "outputs": [
    {
     "name": "stdout",
     "output_type": "stream",
     "text": [
      "A @ B = \n",
      " [[5804. 6096. 5822. ... 6085. 6366. 5580.]\n",
      " [5498. 5711. 5453. ... 5377. 5689. 5130.]\n",
      " [5939. 6397. 5795. ... 5969. 6080. 5424.]\n",
      " ...\n",
      " [5970. 6017. 6007. ... 5879. 6158. 5652.]\n",
      " [5805. 5729. 5596. ... 5773. 6073. 5406.]\n",
      " [6062. 6433. 5896. ... 6405. 6476. 5824.]]\n",
      "CPU times: total: 0 ns\n",
      "Wall time: 2 ms\n"
     ]
    }
   ],
   "source": [
    "%%time\n",
    "print('A @ B = \\n', A @ B)"
   ]
  },
  {
   "cell_type": "code",
   "execution_count": 94,
   "metadata": {},
   "outputs": [
    {
     "name": "stdout",
     "output_type": "stream",
     "text": [
      "C_standard = \n",
      " [[5804. 6096. 5822. ... 6085. 6366. 5580.]\n",
      " [5498. 5711. 5453. ... 5377. 5689. 5130.]\n",
      " [5939. 6397. 5795. ... 5969. 6080. 5424.]\n",
      " ...\n",
      " [5970. 6017. 6007. ... 5879. 6158. 5652.]\n",
      " [5805. 5729. 5596. ... 5773. 6073. 5406.]\n",
      " [6062. 6433. 5896. ... 6405. 6476. 5824.]]\n",
      "CPU times: total: 516 ms\n",
      "Wall time: 617 ms\n"
     ]
    }
   ],
   "source": [
    "%%time\n",
    "C_standard = mat_mul_standard(A, B)\n",
    "print('C_standard = \\n', C_standard)"
   ]
  },
  {
   "cell_type": "code",
   "execution_count": 95,
   "metadata": {},
   "outputs": [
    {
     "name": "stdout",
     "output_type": "stream",
     "text": [
      "C_columns = \n",
      " [[5804. 6096. 5822. ... 6085. 6366. 5580.]\n",
      " [5498. 5711. 5453. ... 5377. 5689. 5130.]\n",
      " [5939. 6397. 5795. ... 5969. 6080. 5424.]\n",
      " ...\n",
      " [5970. 6017. 6007. ... 5879. 6158. 5652.]\n",
      " [5805. 5729. 5596. ... 5773. 6073. 5406.]\n",
      " [6062. 6433. 5896. ... 6405. 6476. 5824.]]\n",
      "CPU times: total: 46.9 ms\n",
      "Wall time: 64.2 ms\n"
     ]
    }
   ],
   "source": [
    "%%time\n",
    "C_columns = mat_mul_columns(A, B)\n",
    "print('C_columns = \\n', C_columns)"
   ]
  },
  {
   "cell_type": "code",
   "execution_count": 96,
   "metadata": {},
   "outputs": [
    {
     "name": "stdout",
     "output_type": "stream",
     "text": [
      "C_rows = \n",
      " [[5804. 6096. 5822. ... 6085. 6366. 5580.]\n",
      " [5498. 5711. 5453. ... 5377. 5689. 5130.]\n",
      " [5939. 6397. 5795. ... 5969. 6080. 5424.]\n",
      " ...\n",
      " [5970. 6017. 6007. ... 5879. 6158. 5652.]\n",
      " [5805. 5729. 5596. ... 5773. 6073. 5406.]\n",
      " [6062. 6433. 5896. ... 6405. 6476. 5824.]]\n",
      "CPU times: total: 594 ms\n",
      "Wall time: 750 ms\n"
     ]
    }
   ],
   "source": [
    "%%time\n",
    "C_rows = mat_mul_rows(A, B)\n",
    "print('C_rows = \\n', C_rows)"
   ]
  },
  {
   "cell_type": "code",
   "execution_count": 97,
   "metadata": {},
   "outputs": [
    {
     "name": "stdout",
     "output_type": "stream",
     "text": [
      "C_column_times_row = \n",
      " [[5804. 6096. 5822. ... 6085. 6366. 5580.]\n",
      " [5498. 5711. 5453. ... 5377. 5689. 5130.]\n",
      " [5939. 6397. 5795. ... 5969. 6080. 5424.]\n",
      " ...\n",
      " [5970. 6017. 6007. ... 5879. 6158. 5652.]\n",
      " [5805. 5729. 5596. ... 5773. 6073. 5406.]\n",
      " [6062. 6433. 5896. ... 6405. 6476. 5824.]]\n",
      "CPU times: total: 281 ms\n",
      "Wall time: 302 ms\n"
     ]
    }
   ],
   "source": [
    "%%time\n",
    "C_column_times_row = mat_mul_column_times_row(A, B)\n",
    "print('C_column_times_row = \\n', C_column_times_row)"
   ]
  },
  {
   "cell_type": "code",
   "execution_count": null,
   "metadata": {},
   "outputs": [],
   "source": []
  }
 ],
 "metadata": {
  "kernelspec": {
   "display_name": "Python 3 (ipykernel)",
   "language": "python",
   "name": "python3"
  },
  "language_info": {
   "codemirror_mode": {
    "name": "ipython",
    "version": 3
   },
   "file_extension": ".py",
   "mimetype": "text/x-python",
   "name": "python",
   "nbconvert_exporter": "python",
   "pygments_lexer": "ipython3",
   "version": "3.11.5"
  }
 },
 "nbformat": 4,
 "nbformat_minor": 4
}
